{
 "cells": [
  {
   "cell_type": "code",
   "execution_count": 63,
   "id": "initial_id",
   "metadata": {
    "collapsed": true,
    "ExecuteTime": {
     "end_time": "2024-02-13T20:12:10.297048200Z",
     "start_time": "2024-02-13T20:12:09.227858300Z"
    }
   },
   "outputs": [
    {
     "name": "stderr",
     "output_type": "stream",
     "text": [
      "[nltk_data] Downloading package stopwords to\n",
      "[nltk_data]     C:\\Users\\shrey\\AppData\\Roaming\\nltk_data...\n",
      "[nltk_data]   Package stopwords is already up-to-date!\n",
      "[nltk_data] Downloading package punkt to\n",
      "[nltk_data]     C:\\Users\\shrey\\AppData\\Roaming\\nltk_data...\n",
      "[nltk_data]   Package punkt is already up-to-date!\n",
      "[nltk_data] Downloading package words to\n",
      "[nltk_data]     C:\\Users\\shrey\\AppData\\Roaming\\nltk_data...\n",
      "[nltk_data]   Package words is already up-to-date!\n",
      "[nltk_data] Downloading package wordnet to\n",
      "[nltk_data]     C:\\Users\\shrey\\AppData\\Roaming\\nltk_data...\n",
      "[nltk_data]   Package wordnet is already up-to-date!\n",
      "[nltk_data] Downloading package omw-1.4 to\n",
      "[nltk_data]     C:\\Users\\shrey\\AppData\\Roaming\\nltk_data...\n",
      "[nltk_data]   Package omw-1.4 is already up-to-date!\n"
     ]
    }
   ],
   "source": [
    "from tqdm.notebook import tqdm\n",
    "tqdm.pandas()\n",
    "import nltk\n",
    "nltk.download('stopwords')\n",
    "nltk.download('punkt')\n",
    "nltk.download('words')\n",
    "nltk.download('wordnet')\n",
    "nltk.download('omw-1.4')\n",
    "from nltk.corpus import stopwords\n",
    "stop = stopwords.words('english')\n",
    "from nltk.stem import WordNetLemmatizer\n",
    "import pandas as pd  # data processing, CSV file I/O (e.g. pd.read_csv)\n",
    "import json\n",
    "from UTILITIES import read_multiple_csv_files\n",
    "import re, string"
   ]
  },
  {
   "cell_type": "code",
   "outputs": [
    {
     "name": "stdout",
     "output_type": "stream",
     "text": [
      "      video_id trending_date  \\\n",
      "0  2kyS6SvSYSE      17.14.11   \n",
      "1  1ZAPwfrtAFY      17.14.11   \n",
      "2  5qpjK5DgCt4      17.14.11   \n",
      "3  puqaWrEC7tY      17.14.11   \n",
      "4  d380meD0W0M      17.14.11   \n",
      "\n",
      "                                               title          channel_title  \\\n",
      "0                 WE WANT TO TALK ABOUT OUR MARRIAGE           CaseyNeistat   \n",
      "1  The Trump Presidency: Last Week Tonight with J...        LastWeekTonight   \n",
      "2  Racist Superman | Rudy Mancuso, King Bach & Le...           Rudy Mancuso   \n",
      "3                   Nickelback Lyrics: Real or Fake?  Good Mythical Morning   \n",
      "4                           I Dare You: GOING BALD!?               nigahiga   \n",
      "\n",
      "   category_id              publish_time  \\\n",
      "0           22  2017-11-13T17:13:01.000Z   \n",
      "1           24  2017-11-13T07:30:00.000Z   \n",
      "2           23  2017-11-12T19:05:24.000Z   \n",
      "3           24  2017-11-13T11:00:04.000Z   \n",
      "4           24  2017-11-12T18:01:41.000Z   \n",
      "\n",
      "                                                tags    views   likes  \\\n",
      "0                                    SHANtell martin   748374   57527   \n",
      "1  last week tonight trump presidency|\"last week ...  2418783   97185   \n",
      "2  racist superman|\"rudy\"|\"mancuso\"|\"king\"|\"bach\"...  3191434  146033   \n",
      "3  rhett and link|\"gmm\"|\"good mythical morning\"|\"...   343168   10172   \n",
      "4  ryan|\"higa\"|\"higatv\"|\"nigahiga\"|\"i dare you\"|\"...  2095731  132235   \n",
      "\n",
      "   dislikes  comment_count                                  thumbnail_link  \\\n",
      "0      2966          15954  https://i.ytimg.com/vi/2kyS6SvSYSE/default.jpg   \n",
      "1      6146          12703  https://i.ytimg.com/vi/1ZAPwfrtAFY/default.jpg   \n",
      "2      5339           8181  https://i.ytimg.com/vi/5qpjK5DgCt4/default.jpg   \n",
      "3       666           2146  https://i.ytimg.com/vi/puqaWrEC7tY/default.jpg   \n",
      "4      1989          17518  https://i.ytimg.com/vi/d380meD0W0M/default.jpg   \n",
      "\n",
      "   comments_disabled  ratings_disabled  video_error_or_removed  \\\n",
      "0              False             False                   False   \n",
      "1              False             False                   False   \n",
      "2              False             False                   False   \n",
      "3              False             False                   False   \n",
      "4              False             False                   False   \n",
      "\n",
      "                                         description  \n",
      "0  SHANTELL'S CHANNEL - https://www.youtube.com/s...  \n",
      "1  One year after the presidential election, John...  \n",
      "2  WATCH MY PREVIOUS VIDEO ▶ \\n\\nSUBSCRIBE ► http...  \n",
      "3  Today we find out if Link is a Nickelback amat...  \n",
      "4  I know it's been a while since we did this sho...  \n"
     ]
    },
    {
     "ename": "KeyboardInterrupt",
     "evalue": "",
     "output_type": "error",
     "traceback": [
      "\u001B[1;31m---------------------------------------------------------------------------\u001B[0m",
      "\u001B[1;31mKeyboardInterrupt\u001B[0m                         Traceback (most recent call last)",
      "Cell \u001B[1;32mIn[64], line 21\u001B[0m\n\u001B[0;32m     19\u001B[0m \u001B[38;5;66;03m# Removing rows with non-finite values in 'VIDEO_CATEGORY' column\u001B[39;00m\n\u001B[0;32m     20\u001B[0m new_video_1 \u001B[38;5;241m=\u001B[39m new_video_1\u001B[38;5;241m.\u001B[39mdropna(subset\u001B[38;5;241m=\u001B[39m[\u001B[38;5;124m'\u001B[39m\u001B[38;5;124mcategory_id\u001B[39m\u001B[38;5;124m'\u001B[39m])\n\u001B[1;32m---> 21\u001B[0m \u001B[43mnew_video_1\u001B[49m\u001B[38;5;241;43m.\u001B[39;49m\u001B[43mto_csv\u001B[49m\u001B[43m(\u001B[49m\u001B[38;5;124;43m\"\u001B[39;49m\u001B[38;5;124;43mC:/Users/shrey/OneDrive/Desktop/Thesis/1B/new_dataset_1.csv\u001B[39;49m\u001B[38;5;124;43m\"\u001B[39;49m\u001B[43m,\u001B[49m\u001B[43m \u001B[49m\u001B[43mindex\u001B[49m\u001B[38;5;241;43m=\u001B[39;49m\u001B[38;5;28;43;01mFalse\u001B[39;49;00m\u001B[43m)\u001B[49m\n\u001B[0;32m     22\u001B[0m new_video_1 \u001B[38;5;241m=\u001B[39m pd\u001B[38;5;241m.\u001B[39mread_csv(\u001B[38;5;124m\"\u001B[39m\u001B[38;5;124mC:/Users/shrey/OneDrive/Desktop/Thesis/1B/new_dataset_1.csv\u001B[39m\u001B[38;5;124m\"\u001B[39m, header\u001B[38;5;241m=\u001B[39m\u001B[38;5;241m0\u001B[39m,\n\u001B[0;32m     23\u001B[0m                           names\u001B[38;5;241m=\u001B[39m[\u001B[38;5;124m'\u001B[39m\u001B[38;5;124mTitle\u001B[39m\u001B[38;5;124m'\u001B[39m, \u001B[38;5;124m'\u001B[39m\u001B[38;5;124mCategory_ID\u001B[39m\u001B[38;5;124m'\u001B[39m, \u001B[38;5;124m'\u001B[39m\u001B[38;5;124mTags\u001B[39m\u001B[38;5;124m'\u001B[39m, \u001B[38;5;124m'\u001B[39m\u001B[38;5;124mDescription\u001B[39m\u001B[38;5;124m'\u001B[39m, \u001B[38;5;124m'\u001B[39m\u001B[38;5;124mView_Count\u001B[39m\u001B[38;5;124m'\u001B[39m])\n\u001B[0;32m     25\u001B[0m \u001B[38;5;66;03m# 2. Reading multiple CSV files for the dataset with trending videos from 2020-2023 for US, CA, GB, IN.\u001B[39;00m\n\u001B[0;32m     26\u001B[0m \u001B[38;5;66;03m# List of file paths to read:\u001B[39;00m\n",
      "File \u001B[1;32m~\\PycharmProjects\\pythonProject6\\venv\\lib\\site-packages\\pandas\\core\\generic.py:3902\u001B[0m, in \u001B[0;36mNDFrame.to_csv\u001B[1;34m(self, path_or_buf, sep, na_rep, float_format, columns, header, index, index_label, mode, encoding, compression, quoting, quotechar, lineterminator, chunksize, date_format, doublequote, escapechar, decimal, errors, storage_options)\u001B[0m\n\u001B[0;32m   3891\u001B[0m df \u001B[38;5;241m=\u001B[39m \u001B[38;5;28mself\u001B[39m \u001B[38;5;28;01mif\u001B[39;00m \u001B[38;5;28misinstance\u001B[39m(\u001B[38;5;28mself\u001B[39m, ABCDataFrame) \u001B[38;5;28;01melse\u001B[39;00m \u001B[38;5;28mself\u001B[39m\u001B[38;5;241m.\u001B[39mto_frame()\n\u001B[0;32m   3893\u001B[0m formatter \u001B[38;5;241m=\u001B[39m DataFrameFormatter(\n\u001B[0;32m   3894\u001B[0m     frame\u001B[38;5;241m=\u001B[39mdf,\n\u001B[0;32m   3895\u001B[0m     header\u001B[38;5;241m=\u001B[39mheader,\n\u001B[1;32m   (...)\u001B[0m\n\u001B[0;32m   3899\u001B[0m     decimal\u001B[38;5;241m=\u001B[39mdecimal,\n\u001B[0;32m   3900\u001B[0m )\n\u001B[1;32m-> 3902\u001B[0m \u001B[38;5;28;01mreturn\u001B[39;00m \u001B[43mDataFrameRenderer\u001B[49m\u001B[43m(\u001B[49m\u001B[43mformatter\u001B[49m\u001B[43m)\u001B[49m\u001B[38;5;241;43m.\u001B[39;49m\u001B[43mto_csv\u001B[49m\u001B[43m(\u001B[49m\n\u001B[0;32m   3903\u001B[0m \u001B[43m    \u001B[49m\u001B[43mpath_or_buf\u001B[49m\u001B[43m,\u001B[49m\n\u001B[0;32m   3904\u001B[0m \u001B[43m    \u001B[49m\u001B[43mlineterminator\u001B[49m\u001B[38;5;241;43m=\u001B[39;49m\u001B[43mlineterminator\u001B[49m\u001B[43m,\u001B[49m\n\u001B[0;32m   3905\u001B[0m \u001B[43m    \u001B[49m\u001B[43msep\u001B[49m\u001B[38;5;241;43m=\u001B[39;49m\u001B[43msep\u001B[49m\u001B[43m,\u001B[49m\n\u001B[0;32m   3906\u001B[0m \u001B[43m    \u001B[49m\u001B[43mencoding\u001B[49m\u001B[38;5;241;43m=\u001B[39;49m\u001B[43mencoding\u001B[49m\u001B[43m,\u001B[49m\n\u001B[0;32m   3907\u001B[0m \u001B[43m    \u001B[49m\u001B[43merrors\u001B[49m\u001B[38;5;241;43m=\u001B[39;49m\u001B[43merrors\u001B[49m\u001B[43m,\u001B[49m\n\u001B[0;32m   3908\u001B[0m \u001B[43m    \u001B[49m\u001B[43mcompression\u001B[49m\u001B[38;5;241;43m=\u001B[39;49m\u001B[43mcompression\u001B[49m\u001B[43m,\u001B[49m\n\u001B[0;32m   3909\u001B[0m \u001B[43m    \u001B[49m\u001B[43mquoting\u001B[49m\u001B[38;5;241;43m=\u001B[39;49m\u001B[43mquoting\u001B[49m\u001B[43m,\u001B[49m\n\u001B[0;32m   3910\u001B[0m \u001B[43m    \u001B[49m\u001B[43mcolumns\u001B[49m\u001B[38;5;241;43m=\u001B[39;49m\u001B[43mcolumns\u001B[49m\u001B[43m,\u001B[49m\n\u001B[0;32m   3911\u001B[0m \u001B[43m    \u001B[49m\u001B[43mindex_label\u001B[49m\u001B[38;5;241;43m=\u001B[39;49m\u001B[43mindex_label\u001B[49m\u001B[43m,\u001B[49m\n\u001B[0;32m   3912\u001B[0m \u001B[43m    \u001B[49m\u001B[43mmode\u001B[49m\u001B[38;5;241;43m=\u001B[39;49m\u001B[43mmode\u001B[49m\u001B[43m,\u001B[49m\n\u001B[0;32m   3913\u001B[0m \u001B[43m    \u001B[49m\u001B[43mchunksize\u001B[49m\u001B[38;5;241;43m=\u001B[39;49m\u001B[43mchunksize\u001B[49m\u001B[43m,\u001B[49m\n\u001B[0;32m   3914\u001B[0m \u001B[43m    \u001B[49m\u001B[43mquotechar\u001B[49m\u001B[38;5;241;43m=\u001B[39;49m\u001B[43mquotechar\u001B[49m\u001B[43m,\u001B[49m\n\u001B[0;32m   3915\u001B[0m \u001B[43m    \u001B[49m\u001B[43mdate_format\u001B[49m\u001B[38;5;241;43m=\u001B[39;49m\u001B[43mdate_format\u001B[49m\u001B[43m,\u001B[49m\n\u001B[0;32m   3916\u001B[0m \u001B[43m    \u001B[49m\u001B[43mdoublequote\u001B[49m\u001B[38;5;241;43m=\u001B[39;49m\u001B[43mdoublequote\u001B[49m\u001B[43m,\u001B[49m\n\u001B[0;32m   3917\u001B[0m \u001B[43m    \u001B[49m\u001B[43mescapechar\u001B[49m\u001B[38;5;241;43m=\u001B[39;49m\u001B[43mescapechar\u001B[49m\u001B[43m,\u001B[49m\n\u001B[0;32m   3918\u001B[0m \u001B[43m    \u001B[49m\u001B[43mstorage_options\u001B[49m\u001B[38;5;241;43m=\u001B[39;49m\u001B[43mstorage_options\u001B[49m\u001B[43m,\u001B[49m\n\u001B[0;32m   3919\u001B[0m \u001B[43m\u001B[49m\u001B[43m)\u001B[49m\n",
      "File \u001B[1;32m~\\PycharmProjects\\pythonProject6\\venv\\lib\\site-packages\\pandas\\io\\formats\\format.py:1152\u001B[0m, in \u001B[0;36mDataFrameRenderer.to_csv\u001B[1;34m(self, path_or_buf, encoding, sep, columns, index_label, mode, compression, quoting, quotechar, lineterminator, chunksize, date_format, doublequote, escapechar, errors, storage_options)\u001B[0m\n\u001B[0;32m   1131\u001B[0m     created_buffer \u001B[38;5;241m=\u001B[39m \u001B[38;5;28;01mFalse\u001B[39;00m\n\u001B[0;32m   1133\u001B[0m csv_formatter \u001B[38;5;241m=\u001B[39m CSVFormatter(\n\u001B[0;32m   1134\u001B[0m     path_or_buf\u001B[38;5;241m=\u001B[39mpath_or_buf,\n\u001B[0;32m   1135\u001B[0m     lineterminator\u001B[38;5;241m=\u001B[39mlineterminator,\n\u001B[1;32m   (...)\u001B[0m\n\u001B[0;32m   1150\u001B[0m     formatter\u001B[38;5;241m=\u001B[39m\u001B[38;5;28mself\u001B[39m\u001B[38;5;241m.\u001B[39mfmt,\n\u001B[0;32m   1151\u001B[0m )\n\u001B[1;32m-> 1152\u001B[0m \u001B[43mcsv_formatter\u001B[49m\u001B[38;5;241;43m.\u001B[39;49m\u001B[43msave\u001B[49m\u001B[43m(\u001B[49m\u001B[43m)\u001B[49m\n\u001B[0;32m   1154\u001B[0m \u001B[38;5;28;01mif\u001B[39;00m created_buffer:\n\u001B[0;32m   1155\u001B[0m     \u001B[38;5;28;01massert\u001B[39;00m \u001B[38;5;28misinstance\u001B[39m(path_or_buf, StringIO)\n",
      "File \u001B[1;32m~\\PycharmProjects\\pythonProject6\\venv\\lib\\site-packages\\pandas\\io\\formats\\csvs.py:266\u001B[0m, in \u001B[0;36mCSVFormatter.save\u001B[1;34m(self)\u001B[0m\n\u001B[0;32m    247\u001B[0m \u001B[38;5;28;01mwith\u001B[39;00m get_handle(\n\u001B[0;32m    248\u001B[0m     \u001B[38;5;28mself\u001B[39m\u001B[38;5;241m.\u001B[39mfilepath_or_buffer,\n\u001B[0;32m    249\u001B[0m     \u001B[38;5;28mself\u001B[39m\u001B[38;5;241m.\u001B[39mmode,\n\u001B[1;32m   (...)\u001B[0m\n\u001B[0;32m    254\u001B[0m ) \u001B[38;5;28;01mas\u001B[39;00m handles:\n\u001B[0;32m    255\u001B[0m     \u001B[38;5;66;03m# Note: self.encoding is irrelevant here\u001B[39;00m\n\u001B[0;32m    256\u001B[0m     \u001B[38;5;28mself\u001B[39m\u001B[38;5;241m.\u001B[39mwriter \u001B[38;5;241m=\u001B[39m csvlib\u001B[38;5;241m.\u001B[39mwriter(\n\u001B[0;32m    257\u001B[0m         handles\u001B[38;5;241m.\u001B[39mhandle,\n\u001B[0;32m    258\u001B[0m         lineterminator\u001B[38;5;241m=\u001B[39m\u001B[38;5;28mself\u001B[39m\u001B[38;5;241m.\u001B[39mlineterminator,\n\u001B[1;32m   (...)\u001B[0m\n\u001B[0;32m    263\u001B[0m         quotechar\u001B[38;5;241m=\u001B[39m\u001B[38;5;28mself\u001B[39m\u001B[38;5;241m.\u001B[39mquotechar,\n\u001B[0;32m    264\u001B[0m     )\n\u001B[1;32m--> 266\u001B[0m     \u001B[38;5;28;43mself\u001B[39;49m\u001B[38;5;241;43m.\u001B[39;49m\u001B[43m_save\u001B[49m\u001B[43m(\u001B[49m\u001B[43m)\u001B[49m\n",
      "File \u001B[1;32m~\\PycharmProjects\\pythonProject6\\venv\\lib\\site-packages\\pandas\\io\\formats\\csvs.py:271\u001B[0m, in \u001B[0;36mCSVFormatter._save\u001B[1;34m(self)\u001B[0m\n\u001B[0;32m    269\u001B[0m \u001B[38;5;28;01mif\u001B[39;00m \u001B[38;5;28mself\u001B[39m\u001B[38;5;241m.\u001B[39m_need_to_save_header:\n\u001B[0;32m    270\u001B[0m     \u001B[38;5;28mself\u001B[39m\u001B[38;5;241m.\u001B[39m_save_header()\n\u001B[1;32m--> 271\u001B[0m \u001B[38;5;28;43mself\u001B[39;49m\u001B[38;5;241;43m.\u001B[39;49m\u001B[43m_save_body\u001B[49m\u001B[43m(\u001B[49m\u001B[43m)\u001B[49m\n",
      "File \u001B[1;32m~\\PycharmProjects\\pythonProject6\\venv\\lib\\site-packages\\pandas\\io\\formats\\csvs.py:309\u001B[0m, in \u001B[0;36mCSVFormatter._save_body\u001B[1;34m(self)\u001B[0m\n\u001B[0;32m    307\u001B[0m \u001B[38;5;28;01mif\u001B[39;00m start_i \u001B[38;5;241m>\u001B[39m\u001B[38;5;241m=\u001B[39m end_i:\n\u001B[0;32m    308\u001B[0m     \u001B[38;5;28;01mbreak\u001B[39;00m\n\u001B[1;32m--> 309\u001B[0m \u001B[38;5;28;43mself\u001B[39;49m\u001B[38;5;241;43m.\u001B[39;49m\u001B[43m_save_chunk\u001B[49m\u001B[43m(\u001B[49m\u001B[43mstart_i\u001B[49m\u001B[43m,\u001B[49m\u001B[43m \u001B[49m\u001B[43mend_i\u001B[49m\u001B[43m)\u001B[49m\n",
      "File \u001B[1;32m~\\PycharmProjects\\pythonProject6\\venv\\lib\\site-packages\\pandas\\io\\formats\\csvs.py:320\u001B[0m, in \u001B[0;36mCSVFormatter._save_chunk\u001B[1;34m(self, start_i, end_i)\u001B[0m\n\u001B[0;32m    317\u001B[0m data \u001B[38;5;241m=\u001B[39m [res\u001B[38;5;241m.\u001B[39miget_values(i) \u001B[38;5;28;01mfor\u001B[39;00m i \u001B[38;5;129;01min\u001B[39;00m \u001B[38;5;28mrange\u001B[39m(\u001B[38;5;28mlen\u001B[39m(res\u001B[38;5;241m.\u001B[39mitems))]\n\u001B[0;32m    319\u001B[0m ix \u001B[38;5;241m=\u001B[39m \u001B[38;5;28mself\u001B[39m\u001B[38;5;241m.\u001B[39mdata_index[slicer]\u001B[38;5;241m.\u001B[39m_format_native_types(\u001B[38;5;241m*\u001B[39m\u001B[38;5;241m*\u001B[39m\u001B[38;5;28mself\u001B[39m\u001B[38;5;241m.\u001B[39m_number_format)\n\u001B[1;32m--> 320\u001B[0m \u001B[43mlibwriters\u001B[49m\u001B[38;5;241;43m.\u001B[39;49m\u001B[43mwrite_csv_rows\u001B[49m\u001B[43m(\u001B[49m\n\u001B[0;32m    321\u001B[0m \u001B[43m    \u001B[49m\u001B[43mdata\u001B[49m\u001B[43m,\u001B[49m\n\u001B[0;32m    322\u001B[0m \u001B[43m    \u001B[49m\u001B[43mix\u001B[49m\u001B[43m,\u001B[49m\n\u001B[0;32m    323\u001B[0m \u001B[43m    \u001B[49m\u001B[38;5;28;43mself\u001B[39;49m\u001B[38;5;241;43m.\u001B[39;49m\u001B[43mnlevels\u001B[49m\u001B[43m,\u001B[49m\n\u001B[0;32m    324\u001B[0m \u001B[43m    \u001B[49m\u001B[38;5;28;43mself\u001B[39;49m\u001B[38;5;241;43m.\u001B[39;49m\u001B[43mcols\u001B[49m\u001B[43m,\u001B[49m\n\u001B[0;32m    325\u001B[0m \u001B[43m    \u001B[49m\u001B[38;5;28;43mself\u001B[39;49m\u001B[38;5;241;43m.\u001B[39;49m\u001B[43mwriter\u001B[49m\u001B[43m,\u001B[49m\n\u001B[0;32m    326\u001B[0m \u001B[43m\u001B[49m\u001B[43m)\u001B[49m\n",
      "File \u001B[1;32mwriters.pyx:72\u001B[0m, in \u001B[0;36mpandas._libs.writers.write_csv_rows\u001B[1;34m()\u001B[0m\n",
      "\u001B[1;31mKeyboardInterrupt\u001B[0m: "
     ]
    }
   ],
   "source": [
    "# 1. Reading multiple CSV files for the dataset with trending videos from 2017-2018 for US, CA, GB, IN.\n",
    "# List of file paths to read:\n",
    "file_paths = [\n",
    "    \"C:/Users/shrey/OneDrive/Desktop/Thesis/1/USvideos.csv\",\n",
    "    \"C:/Users/shrey/OneDrive/Desktop/Thesis/3/CAvideos.csv\",\n",
    "    \"C:/Users/shrey/OneDrive/Desktop/Thesis/4/GBvideos.csv\",\n",
    "    \"C:/Users/shrey/OneDrive/Desktop/Thesis/10/INvideos.csv\"\n",
    "]\n",
    "\n",
    "# Reading and combining multiple files into a single DataFrame\n",
    "df1 = read_multiple_csv_files(file_paths)\n",
    "\n",
    "# Displays the first 5 rows of the combined DataFrame\n",
    "print(df1.head())\n",
    "\n",
    "# Deleting unused columns and renaming the remaining columns and saving it into a new file\n",
    "new_columns = ['title', 'category_id', 'tags', 'description', 'views']\n",
    "new_video_1 = df1[new_columns]\n",
    "# Removing rows with non-finite values in 'VIDEO_CATEGORY' column\n",
    "new_video_1 = new_video_1.dropna(subset=['category_id'])\n",
    "new_video_1.to_csv(\"C:/Users/shrey/OneDrive/Desktop/Thesis/1B/new_dataset_1.csv\", index=False)\n",
    "new_video_1 = pd.read_csv(\"C:/Users/shrey/OneDrive/Desktop/Thesis/1B/new_dataset_1.csv\", header=0,\n",
    "                          names=['Title', 'Category_ID', 'Tags', 'Description', 'View_Count'])\n",
    "\n",
    "# 2. Reading multiple CSV files for the dataset with trending videos from 2020-2023 for US, CA, GB, IN.\n",
    "# List of file paths to read:\n",
    "file_paths = [\n",
    "    \"C:/Users/shrey/OneDrive/Desktop/Thesis/4A/GB_youtube_trending_data.csv\",\n",
    "    \"C:/Users/shrey/OneDrive/Desktop/Thesis/3A/CA_youtube_trending_data.csv\",\n",
    "    \"C:/Users/shrey/OneDrive/Desktop/Thesis/1A/US_youtube_trending_data.csv\",\n",
    "    \"C:/Users/shrey/OneDrive/Desktop/Thesis/10A/IN_youtube_trending_data.csv\"\n",
    "]\n",
    "\n",
    "# Reading and combining multiple files into a single DataFrame\n",
    "df2 = read_multiple_csv_files(file_paths)\n",
    "\n",
    "# Printing the column names to check if 'category_id' is present\n",
    "print(df2.head())\n",
    "\n",
    "# Deleting unused columns and renaming the remaining columns and saving it into a new file\n",
    "new_columns = ['title', 'categoryId', 'tags', 'description', 'view_count']\n",
    "new_video_2 = df2[new_columns]\n",
    "# Removing rows with non-finite values in 'VIDEO_CATEGORY' column\n",
    "new_video_2 = new_video_2.dropna(subset=['categoryId'])\n",
    "new_video_2.to_csv(\"C:/Users/shrey/OneDrive/Desktop/Thesis/1B/new_dataset_2.csv\", index=False)\n",
    "new_video_2 = pd.read_csv(\"C:/Users/shrey/OneDrive/Desktop/Thesis/1B/new_dataset_2.csv\", header=0,\n",
    "                          names=['Title', 'Category_ID', 'Tags', 'Description', 'View_Count'])\n",
    "\n",
    "# Total videos contained in dataset used - 972,278 videos.\n",
    "# Concatenating the three dataframes along the rows.\n",
    "new_video_df = pd.concat([new_video_1, new_video_2], axis=0, ignore_index=True)"
   ],
   "metadata": {
    "collapsed": false,
    "ExecuteTime": {
     "end_time": "2024-02-13T20:12:23.743607300Z",
     "start_time": "2024-02-13T20:12:11.058458Z"
    }
   },
   "id": "ad474dc9e50062c8",
   "execution_count": 64
  },
  {
   "cell_type": "code",
   "outputs": [],
   "source": [
    "new_video_df.dropna(inplace=True)"
   ],
   "metadata": {
    "collapsed": false,
    "ExecuteTime": {
     "end_time": "2024-02-11T22:35:51.432877200Z",
     "start_time": "2024-02-11T22:35:51.217779100Z"
    }
   },
   "id": "2d241704c808340e",
   "execution_count": 3
  },
  {
   "cell_type": "code",
   "outputs": [
    {
     "name": "stdout",
     "output_type": "stream",
     "text": [
      "<class 'pandas.core.frame.DataFrame'>\n",
      "Index: 972278 entries, 0 to 1005850\n",
      "Data columns (total 5 columns):\n",
      " #   Column       Non-Null Count   Dtype \n",
      "---  ------       --------------   ----- \n",
      " 0   Title        972278 non-null  object\n",
      " 1   Category_ID  972278 non-null  int64 \n",
      " 2   Tags         972278 non-null  object\n",
      " 3   Description  972278 non-null  object\n",
      " 4   View_Count   972278 non-null  int64 \n",
      "dtypes: int64(2), object(3)\n",
      "memory usage: 44.5+ MB\n"
     ]
    }
   ],
   "source": [
    "new_video_df.info()"
   ],
   "metadata": {
    "collapsed": false,
    "ExecuteTime": {
     "end_time": "2024-02-11T22:35:51.580889200Z",
     "start_time": "2024-02-11T22:35:51.433953600Z"
    }
   },
   "id": "ec2dab9497881945",
   "execution_count": 4
  },
  {
   "cell_type": "code",
   "outputs": [
    {
     "data": {
      "text/plain": "         Category_ID    View_Count\ncount  972278.000000  9.722780e+05\nmean       19.459043  2.454731e+06\nstd         6.679452  7.303285e+06\nmin         1.000000  0.000000e+00\n25%        17.000000  3.726065e+05\n50%        22.000000  8.423070e+05\n75%        24.000000  2.033310e+06\nmax        43.000000  4.245389e+08",
      "text/html": "<div>\n<style scoped>\n    .dataframe tbody tr th:only-of-type {\n        vertical-align: middle;\n    }\n\n    .dataframe tbody tr th {\n        vertical-align: top;\n    }\n\n    .dataframe thead th {\n        text-align: right;\n    }\n</style>\n<table border=\"1\" class=\"dataframe\">\n  <thead>\n    <tr style=\"text-align: right;\">\n      <th></th>\n      <th>Category_ID</th>\n      <th>View_Count</th>\n    </tr>\n  </thead>\n  <tbody>\n    <tr>\n      <th>count</th>\n      <td>972278.000000</td>\n      <td>9.722780e+05</td>\n    </tr>\n    <tr>\n      <th>mean</th>\n      <td>19.459043</td>\n      <td>2.454731e+06</td>\n    </tr>\n    <tr>\n      <th>std</th>\n      <td>6.679452</td>\n      <td>7.303285e+06</td>\n    </tr>\n    <tr>\n      <th>min</th>\n      <td>1.000000</td>\n      <td>0.000000e+00</td>\n    </tr>\n    <tr>\n      <th>25%</th>\n      <td>17.000000</td>\n      <td>3.726065e+05</td>\n    </tr>\n    <tr>\n      <th>50%</th>\n      <td>22.000000</td>\n      <td>8.423070e+05</td>\n    </tr>\n    <tr>\n      <th>75%</th>\n      <td>24.000000</td>\n      <td>2.033310e+06</td>\n    </tr>\n    <tr>\n      <th>max</th>\n      <td>43.000000</td>\n      <td>4.245389e+08</td>\n    </tr>\n  </tbody>\n</table>\n</div>"
     },
     "execution_count": 5,
     "metadata": {},
     "output_type": "execute_result"
    }
   ],
   "source": [
    "new_video_df.describe()"
   ],
   "metadata": {
    "collapsed": false,
    "ExecuteTime": {
     "end_time": "2024-02-11T22:35:51.669952Z",
     "start_time": "2024-02-11T22:35:51.575468900Z"
    }
   },
   "id": "105588377168e7dc",
   "execution_count": 5
  },
  {
   "cell_type": "code",
   "outputs": [],
   "source": [
    "with open(\"C:/Users/shrey/OneDrive/Desktop/Thesis/1/US_category_id.json\") as f:\n",
    "    categories = json.load(f)[\"items\"]\n",
    "cat_dict = {}\n",
    "for cat in categories:\n",
    "    cat_dict[int(cat[\"id\"])] = cat[\"snippet\"][\"title\"]\n",
    "new_video_df['Category_Name'] = new_video_df['Category_ID'].map(cat_dict)"
   ],
   "metadata": {
    "collapsed": false,
    "ExecuteTime": {
     "end_time": "2024-02-11T22:35:51.791657200Z",
     "start_time": "2024-02-11T22:35:51.668888900Z"
    }
   },
   "id": "a5eb66b56c86c1d0",
   "execution_count": 6
  },
  {
   "cell_type": "code",
   "outputs": [
    {
     "data": {
      "text/plain": "{1: 'Film & Animation',\n 2: 'Autos & Vehicles',\n 10: 'Music',\n 15: 'Pets & Animals',\n 17: 'Sports',\n 18: 'Short Movies',\n 19: 'Travel & Events',\n 20: 'Gaming',\n 21: 'Videoblogging',\n 22: 'People & Blogs',\n 23: 'Comedy',\n 24: 'Entertainment',\n 25: 'News & Politics',\n 26: 'Howto & Style',\n 27: 'Education',\n 28: 'Science & Technology',\n 29: 'Nonprofits & Activism',\n 30: 'Movies',\n 31: 'Anime/Animation',\n 32: 'Action/Adventure',\n 33: 'Classics',\n 34: 'Comedy',\n 35: 'Documentary',\n 36: 'Drama',\n 37: 'Family',\n 38: 'Foreign',\n 39: 'Horror',\n 40: 'Sci-Fi/Fantasy',\n 41: 'Thriller',\n 42: 'Shorts',\n 43: 'Shows',\n 44: 'Trailers'}"
     },
     "execution_count": 7,
     "metadata": {},
     "output_type": "execute_result"
    }
   ],
   "source": [
    "cat_dict"
   ],
   "metadata": {
    "collapsed": false,
    "ExecuteTime": {
     "end_time": "2024-02-11T22:35:51.795824500Z",
     "start_time": "2024-02-11T22:35:51.700724500Z"
    }
   },
   "id": "29658f6aa28d3e09",
   "execution_count": 7
  },
  {
   "cell_type": "code",
   "outputs": [],
   "source": [
    "# Assuming cat_dict dictionary containing category data\n",
    "category_df = pd.DataFrame.from_dict(cat_dict, orient='index', columns=['Category_Name'])\n",
    "\n",
    "# Adding a new column 'Category_ID' containing the index values\n",
    "category_df['Category_ID'] = category_df.index\n",
    "\n",
    "# Resetting the index to default numerical index\n",
    "category_df.reset_index(drop=True, inplace=True)"
   ],
   "metadata": {
    "collapsed": false,
    "ExecuteTime": {
     "end_time": "2024-02-11T22:35:51.870400900Z",
     "start_time": "2024-02-11T22:35:51.718657300Z"
    }
   },
   "id": "c131535ec2647bcc",
   "execution_count": 8
  },
  {
   "cell_type": "code",
   "outputs": [
    {
     "name": "stdout",
     "output_type": "stream",
     "text": [
      "            Category_Name  Category_ID\n",
      "0        Film & Animation            1\n",
      "1        Autos & Vehicles            2\n",
      "2                   Music           10\n",
      "3          Pets & Animals           15\n",
      "4                  Sports           17\n",
      "5            Short Movies           18\n",
      "6         Travel & Events           19\n",
      "7                  Gaming           20\n",
      "8           Videoblogging           21\n",
      "9          People & Blogs           22\n",
      "10                 Comedy           23\n",
      "11          Entertainment           24\n",
      "12        News & Politics           25\n",
      "13          Howto & Style           26\n",
      "14              Education           27\n",
      "15   Science & Technology           28\n",
      "16  Nonprofits & Activism           29\n",
      "17                 Movies           30\n",
      "18        Anime/Animation           31\n",
      "19       Action/Adventure           32\n",
      "20               Classics           33\n",
      "21                 Comedy           34\n",
      "22            Documentary           35\n",
      "23                  Drama           36\n",
      "24                 Family           37\n",
      "25                Foreign           38\n",
      "26                 Horror           39\n",
      "27         Sci-Fi/Fantasy           40\n",
      "28               Thriller           41\n",
      "29                 Shorts           42\n",
      "30                  Shows           43\n",
      "31               Trailers           44\n"
     ]
    }
   ],
   "source": [
    "print(category_df)"
   ],
   "metadata": {
    "collapsed": false,
    "ExecuteTime": {
     "end_time": "2024-02-11T22:35:51.873581900Z",
     "start_time": "2024-02-11T22:35:51.732088700Z"
    }
   },
   "id": "f271008e86db74bd",
   "execution_count": 9
  },
  {
   "cell_type": "code",
   "outputs": [
    {
     "data": {
      "text/plain": "            Category_Name  Category_ID\n0        Film & Animation            1\n1        Autos & Vehicles            2\n2                   Music           10\n3          Pets & Animals           15\n4                  Sports           17\n5            Short Movies           18\n6         Travel & Events           19\n7                  Gaming           20\n8           Videoblogging           21\n9          People & Blogs           22\n10                 Comedy           23\n11          Entertainment           24\n12        News & Politics           25\n13          Howto & Style           26\n14              Education           27\n15   Science & Technology           28\n16  Nonprofits & Activism           29\n17                 Movies           30\n18        Anime/Animation           31\n19       Action/Adventure           32\n20               Classics           33\n21                 Comedy           34\n22            Documentary           35\n23                  Drama           36\n24                 Family           37\n25                Foreign           38\n26                 Horror           39\n27         Sci-Fi/Fantasy           40\n28               Thriller           41\n29                 Shorts           42\n30                  Shows           43\n31               Trailers           44",
      "text/html": "<div>\n<style scoped>\n    .dataframe tbody tr th:only-of-type {\n        vertical-align: middle;\n    }\n\n    .dataframe tbody tr th {\n        vertical-align: top;\n    }\n\n    .dataframe thead th {\n        text-align: right;\n    }\n</style>\n<table border=\"1\" class=\"dataframe\">\n  <thead>\n    <tr style=\"text-align: right;\">\n      <th></th>\n      <th>Category_Name</th>\n      <th>Category_ID</th>\n    </tr>\n  </thead>\n  <tbody>\n    <tr>\n      <th>0</th>\n      <td>Film &amp; Animation</td>\n      <td>1</td>\n    </tr>\n    <tr>\n      <th>1</th>\n      <td>Autos &amp; Vehicles</td>\n      <td>2</td>\n    </tr>\n    <tr>\n      <th>2</th>\n      <td>Music</td>\n      <td>10</td>\n    </tr>\n    <tr>\n      <th>3</th>\n      <td>Pets &amp; Animals</td>\n      <td>15</td>\n    </tr>\n    <tr>\n      <th>4</th>\n      <td>Sports</td>\n      <td>17</td>\n    </tr>\n    <tr>\n      <th>5</th>\n      <td>Short Movies</td>\n      <td>18</td>\n    </tr>\n    <tr>\n      <th>6</th>\n      <td>Travel &amp; Events</td>\n      <td>19</td>\n    </tr>\n    <tr>\n      <th>7</th>\n      <td>Gaming</td>\n      <td>20</td>\n    </tr>\n    <tr>\n      <th>8</th>\n      <td>Videoblogging</td>\n      <td>21</td>\n    </tr>\n    <tr>\n      <th>9</th>\n      <td>People &amp; Blogs</td>\n      <td>22</td>\n    </tr>\n    <tr>\n      <th>10</th>\n      <td>Comedy</td>\n      <td>23</td>\n    </tr>\n    <tr>\n      <th>11</th>\n      <td>Entertainment</td>\n      <td>24</td>\n    </tr>\n    <tr>\n      <th>12</th>\n      <td>News &amp; Politics</td>\n      <td>25</td>\n    </tr>\n    <tr>\n      <th>13</th>\n      <td>Howto &amp; Style</td>\n      <td>26</td>\n    </tr>\n    <tr>\n      <th>14</th>\n      <td>Education</td>\n      <td>27</td>\n    </tr>\n    <tr>\n      <th>15</th>\n      <td>Science &amp; Technology</td>\n      <td>28</td>\n    </tr>\n    <tr>\n      <th>16</th>\n      <td>Nonprofits &amp; Activism</td>\n      <td>29</td>\n    </tr>\n    <tr>\n      <th>17</th>\n      <td>Movies</td>\n      <td>30</td>\n    </tr>\n    <tr>\n      <th>18</th>\n      <td>Anime/Animation</td>\n      <td>31</td>\n    </tr>\n    <tr>\n      <th>19</th>\n      <td>Action/Adventure</td>\n      <td>32</td>\n    </tr>\n    <tr>\n      <th>20</th>\n      <td>Classics</td>\n      <td>33</td>\n    </tr>\n    <tr>\n      <th>21</th>\n      <td>Comedy</td>\n      <td>34</td>\n    </tr>\n    <tr>\n      <th>22</th>\n      <td>Documentary</td>\n      <td>35</td>\n    </tr>\n    <tr>\n      <th>23</th>\n      <td>Drama</td>\n      <td>36</td>\n    </tr>\n    <tr>\n      <th>24</th>\n      <td>Family</td>\n      <td>37</td>\n    </tr>\n    <tr>\n      <th>25</th>\n      <td>Foreign</td>\n      <td>38</td>\n    </tr>\n    <tr>\n      <th>26</th>\n      <td>Horror</td>\n      <td>39</td>\n    </tr>\n    <tr>\n      <th>27</th>\n      <td>Sci-Fi/Fantasy</td>\n      <td>40</td>\n    </tr>\n    <tr>\n      <th>28</th>\n      <td>Thriller</td>\n      <td>41</td>\n    </tr>\n    <tr>\n      <th>29</th>\n      <td>Shorts</td>\n      <td>42</td>\n    </tr>\n    <tr>\n      <th>30</th>\n      <td>Shows</td>\n      <td>43</td>\n    </tr>\n    <tr>\n      <th>31</th>\n      <td>Trailers</td>\n      <td>44</td>\n    </tr>\n  </tbody>\n</table>\n</div>"
     },
     "execution_count": 10,
     "metadata": {},
     "output_type": "execute_result"
    }
   ],
   "source": [
    "category = category_df.rename(index=str)\n",
    "category"
   ],
   "metadata": {
    "collapsed": false,
    "ExecuteTime": {
     "end_time": "2024-02-11T22:35:51.903113900Z",
     "start_time": "2024-02-11T22:35:51.750886400Z"
    }
   },
   "id": "32e4a2dc1a6719fb",
   "execution_count": 10
  },
  {
   "cell_type": "code",
   "outputs": [
    {
     "data": {
      "text/plain": "Category_Name\nEntertainment            253620\nMusic                    143674\nGaming                   134770\nSports                   100391\nPeople & Blogs            92308\nComedy                    58193\nNews & Politics           38597\nFilm & Animation          34936\nHowto & Style             31757\nScience & Technology      30549\nEducation                 24987\nAutos & Vehicles          15891\nTravel & Events            6878\nPets & Animals             4650\nNonprofits & Activism       649\nShows                       406\nMovies                       22\nName: count, dtype: int64"
     },
     "execution_count": 11,
     "metadata": {},
     "output_type": "execute_result"
    }
   ],
   "source": [
    "new_video_df['Category_Name'].value_counts()"
   ],
   "metadata": {
    "collapsed": false,
    "ExecuteTime": {
     "end_time": "2024-02-11T22:35:51.941686Z",
     "start_time": "2024-02-11T22:35:51.764635Z"
    }
   },
   "id": "a545f6e708c0ce15",
   "execution_count": 11
  },
  {
   "cell_type": "code",
   "outputs": [
    {
     "name": "stdout",
     "output_type": "stream",
     "text": [
      "(972278, 6)\n"
     ]
    }
   ],
   "source": [
    "print(new_video_df.shape)"
   ],
   "metadata": {
    "collapsed": false,
    "ExecuteTime": {
     "end_time": "2024-02-11T22:35:51.944920700Z",
     "start_time": "2024-02-11T22:35:51.810492200Z"
    }
   },
   "id": "c1b669ff91c38b8d",
   "execution_count": 12
  },
  {
   "cell_type": "code",
   "outputs": [
    {
     "name": "stdout",
     "output_type": "stream",
     "text": [
      "False\n"
     ]
    }
   ],
   "source": [
    "print(new_video_df.isnull().values.any())"
   ],
   "metadata": {
    "collapsed": false,
    "ExecuteTime": {
     "end_time": "2024-02-11T22:35:52.097756600Z",
     "start_time": "2024-02-11T22:35:51.828325600Z"
    }
   },
   "id": "96ce24fc2523bcdc",
   "execution_count": 13
  },
  {
   "cell_type": "code",
   "outputs": [
    {
     "data": {
      "text/plain": "Title            0\nCategory_ID      0\nTags             0\nDescription      0\nView_Count       0\nCategory_Name    0\ndtype: int64"
     },
     "execution_count": 14,
     "metadata": {},
     "output_type": "execute_result"
    }
   ],
   "source": [
    "new_video_df.isna().sum()"
   ],
   "metadata": {
    "collapsed": false,
    "ExecuteTime": {
     "end_time": "2024-02-11T22:35:52.236203800Z",
     "start_time": "2024-02-11T22:35:51.980535400Z"
    }
   },
   "id": "192c4a66b5af89db",
   "execution_count": 14
  },
  {
   "cell_type": "code",
   "outputs": [
    {
     "name": "stdout",
     "output_type": "stream",
     "text": [
      "                                                     Title  Category_ID  \\\n",
      "0                       WE WANT TO TALK ABOUT OUR MARRIAGE           22   \n",
      "1        The Trump Presidency: Last Week Tonight with J...           24   \n",
      "2        Racist Superman | Rudy Mancuso, King Bach & Le...           23   \n",
      "3                         Nickelback Lyrics: Real or Fake?           24   \n",
      "4                                 I Dare You: GOING BALD!?           24   \n",
      "...                                                    ...          ...   \n",
      "1005846          Can I Survive The Sun Ending The World...           20   \n",
      "1005847    Chandrayaan 3 Launch LIVE Sriharikota ISRO 2023           22   \n",
      "1005848  Pen Parkum Function 😍Most Awaited Day🙈|| Kanma...           26   \n",
      "1005849  అందుకే ఆరోజు అందరూ ఏడ్చారు || performance  || ...           24   \n",
      "1005850  राधाकृष्ण || RadhaKrishn Raasleela Part - 661 ...           24   \n",
      "\n",
      "                                                      Tags  \\\n",
      "0                                          SHANtell martin   \n",
      "1        last week tonight trump presidency|\"last week ...   \n",
      "2        racist superman|\"rudy\"|\"mancuso\"|\"king\"|\"bach\"...   \n",
      "3        rhett and link|\"gmm\"|\"good mythical morning\"|\"...   \n",
      "4        ryan|\"higa\"|\"higatv\"|\"nigahiga\"|\"i dare you\"|\"...   \n",
      "...                                                    ...   \n",
      "1005846  Adispot|Adi-Spot|adispot|adispoot|proboiz|tech...   \n",
      "1005847  vlogs|vlog|indian|vlogger|flying|beast|review|...   \n",
      "1005848  kanmani beauty tips|kanmani tamil beuty tips|d...   \n",
      "1005849  Chandamama vlog|anjali pavan|itlu mee anjali p...   \n",
      "1005850  star bharat|star bharat all serial|star bharat...   \n",
      "\n",
      "                                               Description  View_Count  \\\n",
      "0        SHANTELL'S CHANNEL - https://www.youtube.com/s...      748374   \n",
      "1        One year after the presidential election, John...     2418783   \n",
      "2        WATCH MY PREVIOUS VIDEO ▶ \\n\\nSUBSCRIBE ► http...     3191434   \n",
      "3        Today we find out if Link is a Nickelback amat...      343168   \n",
      "4        I know it's been a while since we did this sho...     2095731   \n",
      "...                                                    ...         ...   \n",
      "1005846  Why I Survive The Sun Ending The World...▬▬▬▬▬...      325319   \n",
      "1005847  Vlog # 86#isro #chandryaan3 Gaurav's Instagram...     3263834   \n",
      "1005848  Hii friends,Hope all doing good, Today's video...      386156   \n",
      "1005849  #anjalipavan #neethonedance #performance #star...      466359   \n",
      "1005850  ►Click here to Subscribe *Star Bharat* : https...      502262   \n",
      "\n",
      "          Category_Name  \n",
      "0        People & Blogs  \n",
      "1         Entertainment  \n",
      "2                Comedy  \n",
      "3         Entertainment  \n",
      "4         Entertainment  \n",
      "...                 ...  \n",
      "1005846          Gaming  \n",
      "1005847  People & Blogs  \n",
      "1005848   Howto & Style  \n",
      "1005849   Entertainment  \n",
      "1005850   Entertainment  \n",
      "\n",
      "[972278 rows x 6 columns]\n"
     ]
    }
   ],
   "source": [
    "print(new_video_df)"
   ],
   "metadata": {
    "collapsed": false,
    "ExecuteTime": {
     "end_time": "2024-02-11T22:35:52.248924300Z",
     "start_time": "2024-02-11T22:35:52.138261200Z"
    }
   },
   "id": "4a269c0bb7c9024d",
   "execution_count": 15
  },
  {
   "cell_type": "code",
   "outputs": [],
   "source": [
    "new_video_df.drop(columns=['View_Count'], inplace=True)"
   ],
   "metadata": {
    "collapsed": false,
    "ExecuteTime": {
     "end_time": "2024-02-11T22:35:52.338484400Z",
     "start_time": "2024-02-11T22:35:52.155079500Z"
    }
   },
   "id": "d889ac0be7fa361c",
   "execution_count": 16
  },
  {
   "cell_type": "code",
   "outputs": [
    {
     "name": "stdout",
     "output_type": "stream",
     "text": [
      "                                                     Title  Category_ID  \\\n",
      "0                       WE WANT TO TALK ABOUT OUR MARRIAGE           22   \n",
      "1        The Trump Presidency: Last Week Tonight with J...           24   \n",
      "2        Racist Superman | Rudy Mancuso, King Bach & Le...           23   \n",
      "3                         Nickelback Lyrics: Real or Fake?           24   \n",
      "4                                 I Dare You: GOING BALD!?           24   \n",
      "...                                                    ...          ...   \n",
      "1005846          Can I Survive The Sun Ending The World...           20   \n",
      "1005847    Chandrayaan 3 Launch LIVE Sriharikota ISRO 2023           22   \n",
      "1005848  Pen Parkum Function 😍Most Awaited Day🙈|| Kanma...           26   \n",
      "1005849  అందుకే ఆరోజు అందరూ ఏడ్చారు || performance  || ...           24   \n",
      "1005850  राधाकृष्ण || RadhaKrishn Raasleela Part - 661 ...           24   \n",
      "\n",
      "                                                      Tags  \\\n",
      "0                                          SHANtell martin   \n",
      "1        last week tonight trump presidency|\"last week ...   \n",
      "2        racist superman|\"rudy\"|\"mancuso\"|\"king\"|\"bach\"...   \n",
      "3        rhett and link|\"gmm\"|\"good mythical morning\"|\"...   \n",
      "4        ryan|\"higa\"|\"higatv\"|\"nigahiga\"|\"i dare you\"|\"...   \n",
      "...                                                    ...   \n",
      "1005846  Adispot|Adi-Spot|adispot|adispoot|proboiz|tech...   \n",
      "1005847  vlogs|vlog|indian|vlogger|flying|beast|review|...   \n",
      "1005848  kanmani beauty tips|kanmani tamil beuty tips|d...   \n",
      "1005849  Chandamama vlog|anjali pavan|itlu mee anjali p...   \n",
      "1005850  star bharat|star bharat all serial|star bharat...   \n",
      "\n",
      "                                               Description   Category_Name  \n",
      "0        SHANTELL'S CHANNEL - https://www.youtube.com/s...  People & Blogs  \n",
      "1        One year after the presidential election, John...   Entertainment  \n",
      "2        WATCH MY PREVIOUS VIDEO ▶ \\n\\nSUBSCRIBE ► http...          Comedy  \n",
      "3        Today we find out if Link is a Nickelback amat...   Entertainment  \n",
      "4        I know it's been a while since we did this sho...   Entertainment  \n",
      "...                                                    ...             ...  \n",
      "1005846  Why I Survive The Sun Ending The World...▬▬▬▬▬...          Gaming  \n",
      "1005847  Vlog # 86#isro #chandryaan3 Gaurav's Instagram...  People & Blogs  \n",
      "1005848  Hii friends,Hope all doing good, Today's video...   Howto & Style  \n",
      "1005849  #anjalipavan #neethonedance #performance #star...   Entertainment  \n",
      "1005850  ►Click here to Subscribe *Star Bharat* : https...   Entertainment  \n",
      "\n",
      "[972278 rows x 5 columns]\n"
     ]
    }
   ],
   "source": [
    "print(new_video_df)"
   ],
   "metadata": {
    "collapsed": false,
    "ExecuteTime": {
     "end_time": "2024-02-11T22:35:52.366773100Z",
     "start_time": "2024-02-11T22:35:52.246768600Z"
    }
   },
   "id": "b22730c4d8d5c13f",
   "execution_count": 17
  },
  {
   "cell_type": "code",
   "outputs": [],
   "source": [
    "# Reset the column numbering\n",
    "new_video_df.reset_index(drop=True, inplace=True)"
   ],
   "metadata": {
    "collapsed": false,
    "ExecuteTime": {
     "end_time": "2024-02-11T22:35:52.369940800Z",
     "start_time": "2024-02-11T22:35:52.264848700Z"
    }
   },
   "id": "ac29dce9d74b1cd1",
   "execution_count": 18
  },
  {
   "cell_type": "code",
   "outputs": [
    {
     "data": {
      "text/plain": "                                                    Title  Category_ID  \\\n0                      WE WANT TO TALK ABOUT OUR MARRIAGE           22   \n1       The Trump Presidency: Last Week Tonight with J...           24   \n2       Racist Superman | Rudy Mancuso, King Bach & Le...           23   \n3                        Nickelback Lyrics: Real or Fake?           24   \n4                                I Dare You: GOING BALD!?           24   \n...                                                   ...          ...   \n972273          Can I Survive The Sun Ending The World...           20   \n972274    Chandrayaan 3 Launch LIVE Sriharikota ISRO 2023           22   \n972275  Pen Parkum Function 😍Most Awaited Day🙈|| Kanma...           26   \n972276  అందుకే ఆరోజు అందరూ ఏడ్చారు || performance  || ...           24   \n972277  राधाकृष्ण || RadhaKrishn Raasleela Part - 661 ...           24   \n\n                                                     Tags  \\\n0                                         SHANtell martin   \n1       last week tonight trump presidency|\"last week ...   \n2       racist superman|\"rudy\"|\"mancuso\"|\"king\"|\"bach\"...   \n3       rhett and link|\"gmm\"|\"good mythical morning\"|\"...   \n4       ryan|\"higa\"|\"higatv\"|\"nigahiga\"|\"i dare you\"|\"...   \n...                                                   ...   \n972273  Adispot|Adi-Spot|adispot|adispoot|proboiz|tech...   \n972274  vlogs|vlog|indian|vlogger|flying|beast|review|...   \n972275  kanmani beauty tips|kanmani tamil beuty tips|d...   \n972276  Chandamama vlog|anjali pavan|itlu mee anjali p...   \n972277  star bharat|star bharat all serial|star bharat...   \n\n                                              Description   Category_Name  \n0       SHANTELL'S CHANNEL - https://www.youtube.com/s...  People & Blogs  \n1       One year after the presidential election, John...   Entertainment  \n2       WATCH MY PREVIOUS VIDEO ▶ \\n\\nSUBSCRIBE ► http...          Comedy  \n3       Today we find out if Link is a Nickelback amat...   Entertainment  \n4       I know it's been a while since we did this sho...   Entertainment  \n...                                                   ...             ...  \n972273  Why I Survive The Sun Ending The World...▬▬▬▬▬...          Gaming  \n972274  Vlog # 86#isro #chandryaan3 Gaurav's Instagram...  People & Blogs  \n972275  Hii friends,Hope all doing good, Today's video...   Howto & Style  \n972276  #anjalipavan #neethonedance #performance #star...   Entertainment  \n972277  ►Click here to Subscribe *Star Bharat* : https...   Entertainment  \n\n[972278 rows x 5 columns]",
      "text/html": "<div>\n<style scoped>\n    .dataframe tbody tr th:only-of-type {\n        vertical-align: middle;\n    }\n\n    .dataframe tbody tr th {\n        vertical-align: top;\n    }\n\n    .dataframe thead th {\n        text-align: right;\n    }\n</style>\n<table border=\"1\" class=\"dataframe\">\n  <thead>\n    <tr style=\"text-align: right;\">\n      <th></th>\n      <th>Title</th>\n      <th>Category_ID</th>\n      <th>Tags</th>\n      <th>Description</th>\n      <th>Category_Name</th>\n    </tr>\n  </thead>\n  <tbody>\n    <tr>\n      <th>0</th>\n      <td>WE WANT TO TALK ABOUT OUR MARRIAGE</td>\n      <td>22</td>\n      <td>SHANtell martin</td>\n      <td>SHANTELL'S CHANNEL - https://www.youtube.com/s...</td>\n      <td>People &amp; Blogs</td>\n    </tr>\n    <tr>\n      <th>1</th>\n      <td>The Trump Presidency: Last Week Tonight with J...</td>\n      <td>24</td>\n      <td>last week tonight trump presidency|\"last week ...</td>\n      <td>One year after the presidential election, John...</td>\n      <td>Entertainment</td>\n    </tr>\n    <tr>\n      <th>2</th>\n      <td>Racist Superman | Rudy Mancuso, King Bach &amp; Le...</td>\n      <td>23</td>\n      <td>racist superman|\"rudy\"|\"mancuso\"|\"king\"|\"bach\"...</td>\n      <td>WATCH MY PREVIOUS VIDEO ▶ \\n\\nSUBSCRIBE ► http...</td>\n      <td>Comedy</td>\n    </tr>\n    <tr>\n      <th>3</th>\n      <td>Nickelback Lyrics: Real or Fake?</td>\n      <td>24</td>\n      <td>rhett and link|\"gmm\"|\"good mythical morning\"|\"...</td>\n      <td>Today we find out if Link is a Nickelback amat...</td>\n      <td>Entertainment</td>\n    </tr>\n    <tr>\n      <th>4</th>\n      <td>I Dare You: GOING BALD!?</td>\n      <td>24</td>\n      <td>ryan|\"higa\"|\"higatv\"|\"nigahiga\"|\"i dare you\"|\"...</td>\n      <td>I know it's been a while since we did this sho...</td>\n      <td>Entertainment</td>\n    </tr>\n    <tr>\n      <th>...</th>\n      <td>...</td>\n      <td>...</td>\n      <td>...</td>\n      <td>...</td>\n      <td>...</td>\n    </tr>\n    <tr>\n      <th>972273</th>\n      <td>Can I Survive The Sun Ending The World...</td>\n      <td>20</td>\n      <td>Adispot|Adi-Spot|adispot|adispoot|proboiz|tech...</td>\n      <td>Why I Survive The Sun Ending The World...▬▬▬▬▬...</td>\n      <td>Gaming</td>\n    </tr>\n    <tr>\n      <th>972274</th>\n      <td>Chandrayaan 3 Launch LIVE Sriharikota ISRO 2023</td>\n      <td>22</td>\n      <td>vlogs|vlog|indian|vlogger|flying|beast|review|...</td>\n      <td>Vlog # 86#isro #chandryaan3 Gaurav's Instagram...</td>\n      <td>People &amp; Blogs</td>\n    </tr>\n    <tr>\n      <th>972275</th>\n      <td>Pen Parkum Function 😍Most Awaited Day🙈|| Kanma...</td>\n      <td>26</td>\n      <td>kanmani beauty tips|kanmani tamil beuty tips|d...</td>\n      <td>Hii friends,Hope all doing good, Today's video...</td>\n      <td>Howto &amp; Style</td>\n    </tr>\n    <tr>\n      <th>972276</th>\n      <td>అందుకే ఆరోజు అందరూ ఏడ్చారు || performance  || ...</td>\n      <td>24</td>\n      <td>Chandamama vlog|anjali pavan|itlu mee anjali p...</td>\n      <td>#anjalipavan #neethonedance #performance #star...</td>\n      <td>Entertainment</td>\n    </tr>\n    <tr>\n      <th>972277</th>\n      <td>राधाकृष्ण || RadhaKrishn Raasleela Part - 661 ...</td>\n      <td>24</td>\n      <td>star bharat|star bharat all serial|star bharat...</td>\n      <td>►Click here to Subscribe *Star Bharat* : https...</td>\n      <td>Entertainment</td>\n    </tr>\n  </tbody>\n</table>\n<p>972278 rows × 5 columns</p>\n</div>"
     },
     "execution_count": 19,
     "metadata": {},
     "output_type": "execute_result"
    }
   ],
   "source": [
    "new_video_df"
   ],
   "metadata": {
    "collapsed": false,
    "ExecuteTime": {
     "end_time": "2024-02-11T22:35:52.413352900Z",
     "start_time": "2024-02-11T22:35:52.280705700Z"
    }
   },
   "id": "7b415bf3553d327d",
   "execution_count": 19
  },
  {
   "cell_type": "code",
   "outputs": [],
   "source": [
    "def remove_punctuation(text):\n",
    "    return text.translate(str.maketrans('', '', string.punctuation))\n",
    "\n",
    "# Apply the function to the Title column in your data frame\n",
    "new_video_df['Title'] = new_video_df['Title'].apply(remove_punctuation)"
   ],
   "metadata": {
    "collapsed": false,
    "ExecuteTime": {
     "end_time": "2024-02-11T22:35:55.480468700Z",
     "start_time": "2024-02-11T22:35:52.299108900Z"
    }
   },
   "id": "c3ddd841848e83a",
   "execution_count": 20
  },
  {
   "cell_type": "code",
   "outputs": [
    {
     "data": {
      "text/plain": "                                                    Title  Category_ID  \\\n0                      WE WANT TO TALK ABOUT OUR MARRIAGE           22   \n1       The Trump Presidency Last Week Tonight with Jo...           24   \n2       Racist Superman  Rudy Mancuso King Bach  Lele ...           23   \n3                          Nickelback Lyrics Real or Fake           24   \n4                                   I Dare You GOING BALD           24   \n...                                                   ...          ...   \n972273             Can I Survive The Sun Ending The World           20   \n972274    Chandrayaan 3 Launch LIVE Sriharikota ISRO 2023           22   \n972275  Pen Parkum Function 😍Most Awaited Day🙈 Kanmani...           26   \n972276  అందుకే ఆరోజు అందరూ ఏడ్చారు  performance   Itlu...           24   \n972277  राधाकृष्ण  RadhaKrishn Raasleela Part  661  Sh...           24   \n\n                                                     Tags  \\\n0                                         SHANtell martin   \n1       last week tonight trump presidency|\"last week ...   \n2       racist superman|\"rudy\"|\"mancuso\"|\"king\"|\"bach\"...   \n3       rhett and link|\"gmm\"|\"good mythical morning\"|\"...   \n4       ryan|\"higa\"|\"higatv\"|\"nigahiga\"|\"i dare you\"|\"...   \n...                                                   ...   \n972273  Adispot|Adi-Spot|adispot|adispoot|proboiz|tech...   \n972274  vlogs|vlog|indian|vlogger|flying|beast|review|...   \n972275  kanmani beauty tips|kanmani tamil beuty tips|d...   \n972276  Chandamama vlog|anjali pavan|itlu mee anjali p...   \n972277  star bharat|star bharat all serial|star bharat...   \n\n                                              Description   Category_Name  \n0       SHANTELL'S CHANNEL - https://www.youtube.com/s...  People & Blogs  \n1       One year after the presidential election, John...   Entertainment  \n2       WATCH MY PREVIOUS VIDEO ▶ \\n\\nSUBSCRIBE ► http...          Comedy  \n3       Today we find out if Link is a Nickelback amat...   Entertainment  \n4       I know it's been a while since we did this sho...   Entertainment  \n...                                                   ...             ...  \n972273  Why I Survive The Sun Ending The World...▬▬▬▬▬...          Gaming  \n972274  Vlog # 86#isro #chandryaan3 Gaurav's Instagram...  People & Blogs  \n972275  Hii friends,Hope all doing good, Today's video...   Howto & Style  \n972276  #anjalipavan #neethonedance #performance #star...   Entertainment  \n972277  ►Click here to Subscribe *Star Bharat* : https...   Entertainment  \n\n[972278 rows x 5 columns]",
      "text/html": "<div>\n<style scoped>\n    .dataframe tbody tr th:only-of-type {\n        vertical-align: middle;\n    }\n\n    .dataframe tbody tr th {\n        vertical-align: top;\n    }\n\n    .dataframe thead th {\n        text-align: right;\n    }\n</style>\n<table border=\"1\" class=\"dataframe\">\n  <thead>\n    <tr style=\"text-align: right;\">\n      <th></th>\n      <th>Title</th>\n      <th>Category_ID</th>\n      <th>Tags</th>\n      <th>Description</th>\n      <th>Category_Name</th>\n    </tr>\n  </thead>\n  <tbody>\n    <tr>\n      <th>0</th>\n      <td>WE WANT TO TALK ABOUT OUR MARRIAGE</td>\n      <td>22</td>\n      <td>SHANtell martin</td>\n      <td>SHANTELL'S CHANNEL - https://www.youtube.com/s...</td>\n      <td>People &amp; Blogs</td>\n    </tr>\n    <tr>\n      <th>1</th>\n      <td>The Trump Presidency Last Week Tonight with Jo...</td>\n      <td>24</td>\n      <td>last week tonight trump presidency|\"last week ...</td>\n      <td>One year after the presidential election, John...</td>\n      <td>Entertainment</td>\n    </tr>\n    <tr>\n      <th>2</th>\n      <td>Racist Superman  Rudy Mancuso King Bach  Lele ...</td>\n      <td>23</td>\n      <td>racist superman|\"rudy\"|\"mancuso\"|\"king\"|\"bach\"...</td>\n      <td>WATCH MY PREVIOUS VIDEO ▶ \\n\\nSUBSCRIBE ► http...</td>\n      <td>Comedy</td>\n    </tr>\n    <tr>\n      <th>3</th>\n      <td>Nickelback Lyrics Real or Fake</td>\n      <td>24</td>\n      <td>rhett and link|\"gmm\"|\"good mythical morning\"|\"...</td>\n      <td>Today we find out if Link is a Nickelback amat...</td>\n      <td>Entertainment</td>\n    </tr>\n    <tr>\n      <th>4</th>\n      <td>I Dare You GOING BALD</td>\n      <td>24</td>\n      <td>ryan|\"higa\"|\"higatv\"|\"nigahiga\"|\"i dare you\"|\"...</td>\n      <td>I know it's been a while since we did this sho...</td>\n      <td>Entertainment</td>\n    </tr>\n    <tr>\n      <th>...</th>\n      <td>...</td>\n      <td>...</td>\n      <td>...</td>\n      <td>...</td>\n      <td>...</td>\n    </tr>\n    <tr>\n      <th>972273</th>\n      <td>Can I Survive The Sun Ending The World</td>\n      <td>20</td>\n      <td>Adispot|Adi-Spot|adispot|adispoot|proboiz|tech...</td>\n      <td>Why I Survive The Sun Ending The World...▬▬▬▬▬...</td>\n      <td>Gaming</td>\n    </tr>\n    <tr>\n      <th>972274</th>\n      <td>Chandrayaan 3 Launch LIVE Sriharikota ISRO 2023</td>\n      <td>22</td>\n      <td>vlogs|vlog|indian|vlogger|flying|beast|review|...</td>\n      <td>Vlog # 86#isro #chandryaan3 Gaurav's Instagram...</td>\n      <td>People &amp; Blogs</td>\n    </tr>\n    <tr>\n      <th>972275</th>\n      <td>Pen Parkum Function 😍Most Awaited Day🙈 Kanmani...</td>\n      <td>26</td>\n      <td>kanmani beauty tips|kanmani tamil beuty tips|d...</td>\n      <td>Hii friends,Hope all doing good, Today's video...</td>\n      <td>Howto &amp; Style</td>\n    </tr>\n    <tr>\n      <th>972276</th>\n      <td>అందుకే ఆరోజు అందరూ ఏడ్చారు  performance   Itlu...</td>\n      <td>24</td>\n      <td>Chandamama vlog|anjali pavan|itlu mee anjali p...</td>\n      <td>#anjalipavan #neethonedance #performance #star...</td>\n      <td>Entertainment</td>\n    </tr>\n    <tr>\n      <th>972277</th>\n      <td>राधाकृष्ण  RadhaKrishn Raasleela Part  661  Sh...</td>\n      <td>24</td>\n      <td>star bharat|star bharat all serial|star bharat...</td>\n      <td>►Click here to Subscribe *Star Bharat* : https...</td>\n      <td>Entertainment</td>\n    </tr>\n  </tbody>\n</table>\n<p>972278 rows × 5 columns</p>\n</div>"
     },
     "execution_count": 21,
     "metadata": {},
     "output_type": "execute_result"
    }
   ],
   "source": [
    "new_video_df"
   ],
   "metadata": {
    "collapsed": false,
    "ExecuteTime": {
     "end_time": "2024-02-11T22:35:55.499518500Z",
     "start_time": "2024-02-11T22:35:55.483669Z"
    }
   },
   "id": "ac9181b1264362f8",
   "execution_count": 21
  },
  {
   "cell_type": "code",
   "outputs": [],
   "source": [
    "# Convert the Title column to lowercase\n",
    "new_video_df['Title'] = new_video_df['Title'].str.lower()"
   ],
   "metadata": {
    "collapsed": false,
    "ExecuteTime": {
     "end_time": "2024-02-11T22:35:55.868053900Z",
     "start_time": "2024-02-11T22:35:55.497457100Z"
    }
   },
   "id": "bd0664a257611443",
   "execution_count": 22
  },
  {
   "cell_type": "code",
   "outputs": [
    {
     "data": {
      "text/plain": "                                                    Title  Category_ID  \\\n0                      we want to talk about our marriage           22   \n1       the trump presidency last week tonight with jo...           24   \n2       racist superman  rudy mancuso king bach  lele ...           23   \n3                          nickelback lyrics real or fake           24   \n4                                   i dare you going bald           24   \n...                                                   ...          ...   \n972273             can i survive the sun ending the world           20   \n972274    chandrayaan 3 launch live sriharikota isro 2023           22   \n972275  pen parkum function 😍most awaited day🙈 kanmani...           26   \n972276  అందుకే ఆరోజు అందరూ ఏడ్చారు  performance   itlu...           24   \n972277  राधाकृष्ण  radhakrishn raasleela part  661  sh...           24   \n\n                                                     Tags  \\\n0                                         SHANtell martin   \n1       last week tonight trump presidency|\"last week ...   \n2       racist superman|\"rudy\"|\"mancuso\"|\"king\"|\"bach\"...   \n3       rhett and link|\"gmm\"|\"good mythical morning\"|\"...   \n4       ryan|\"higa\"|\"higatv\"|\"nigahiga\"|\"i dare you\"|\"...   \n...                                                   ...   \n972273  Adispot|Adi-Spot|adispot|adispoot|proboiz|tech...   \n972274  vlogs|vlog|indian|vlogger|flying|beast|review|...   \n972275  kanmani beauty tips|kanmani tamil beuty tips|d...   \n972276  Chandamama vlog|anjali pavan|itlu mee anjali p...   \n972277  star bharat|star bharat all serial|star bharat...   \n\n                                              Description   Category_Name  \n0       SHANTELL'S CHANNEL - https://www.youtube.com/s...  People & Blogs  \n1       One year after the presidential election, John...   Entertainment  \n2       WATCH MY PREVIOUS VIDEO ▶ \\n\\nSUBSCRIBE ► http...          Comedy  \n3       Today we find out if Link is a Nickelback amat...   Entertainment  \n4       I know it's been a while since we did this sho...   Entertainment  \n...                                                   ...             ...  \n972273  Why I Survive The Sun Ending The World...▬▬▬▬▬...          Gaming  \n972274  Vlog # 86#isro #chandryaan3 Gaurav's Instagram...  People & Blogs  \n972275  Hii friends,Hope all doing good, Today's video...   Howto & Style  \n972276  #anjalipavan #neethonedance #performance #star...   Entertainment  \n972277  ►Click here to Subscribe *Star Bharat* : https...   Entertainment  \n\n[972278 rows x 5 columns]",
      "text/html": "<div>\n<style scoped>\n    .dataframe tbody tr th:only-of-type {\n        vertical-align: middle;\n    }\n\n    .dataframe tbody tr th {\n        vertical-align: top;\n    }\n\n    .dataframe thead th {\n        text-align: right;\n    }\n</style>\n<table border=\"1\" class=\"dataframe\">\n  <thead>\n    <tr style=\"text-align: right;\">\n      <th></th>\n      <th>Title</th>\n      <th>Category_ID</th>\n      <th>Tags</th>\n      <th>Description</th>\n      <th>Category_Name</th>\n    </tr>\n  </thead>\n  <tbody>\n    <tr>\n      <th>0</th>\n      <td>we want to talk about our marriage</td>\n      <td>22</td>\n      <td>SHANtell martin</td>\n      <td>SHANTELL'S CHANNEL - https://www.youtube.com/s...</td>\n      <td>People &amp; Blogs</td>\n    </tr>\n    <tr>\n      <th>1</th>\n      <td>the trump presidency last week tonight with jo...</td>\n      <td>24</td>\n      <td>last week tonight trump presidency|\"last week ...</td>\n      <td>One year after the presidential election, John...</td>\n      <td>Entertainment</td>\n    </tr>\n    <tr>\n      <th>2</th>\n      <td>racist superman  rudy mancuso king bach  lele ...</td>\n      <td>23</td>\n      <td>racist superman|\"rudy\"|\"mancuso\"|\"king\"|\"bach\"...</td>\n      <td>WATCH MY PREVIOUS VIDEO ▶ \\n\\nSUBSCRIBE ► http...</td>\n      <td>Comedy</td>\n    </tr>\n    <tr>\n      <th>3</th>\n      <td>nickelback lyrics real or fake</td>\n      <td>24</td>\n      <td>rhett and link|\"gmm\"|\"good mythical morning\"|\"...</td>\n      <td>Today we find out if Link is a Nickelback amat...</td>\n      <td>Entertainment</td>\n    </tr>\n    <tr>\n      <th>4</th>\n      <td>i dare you going bald</td>\n      <td>24</td>\n      <td>ryan|\"higa\"|\"higatv\"|\"nigahiga\"|\"i dare you\"|\"...</td>\n      <td>I know it's been a while since we did this sho...</td>\n      <td>Entertainment</td>\n    </tr>\n    <tr>\n      <th>...</th>\n      <td>...</td>\n      <td>...</td>\n      <td>...</td>\n      <td>...</td>\n      <td>...</td>\n    </tr>\n    <tr>\n      <th>972273</th>\n      <td>can i survive the sun ending the world</td>\n      <td>20</td>\n      <td>Adispot|Adi-Spot|adispot|adispoot|proboiz|tech...</td>\n      <td>Why I Survive The Sun Ending The World...▬▬▬▬▬...</td>\n      <td>Gaming</td>\n    </tr>\n    <tr>\n      <th>972274</th>\n      <td>chandrayaan 3 launch live sriharikota isro 2023</td>\n      <td>22</td>\n      <td>vlogs|vlog|indian|vlogger|flying|beast|review|...</td>\n      <td>Vlog # 86#isro #chandryaan3 Gaurav's Instagram...</td>\n      <td>People &amp; Blogs</td>\n    </tr>\n    <tr>\n      <th>972275</th>\n      <td>pen parkum function 😍most awaited day🙈 kanmani...</td>\n      <td>26</td>\n      <td>kanmani beauty tips|kanmani tamil beuty tips|d...</td>\n      <td>Hii friends,Hope all doing good, Today's video...</td>\n      <td>Howto &amp; Style</td>\n    </tr>\n    <tr>\n      <th>972276</th>\n      <td>అందుకే ఆరోజు అందరూ ఏడ్చారు  performance   itlu...</td>\n      <td>24</td>\n      <td>Chandamama vlog|anjali pavan|itlu mee anjali p...</td>\n      <td>#anjalipavan #neethonedance #performance #star...</td>\n      <td>Entertainment</td>\n    </tr>\n    <tr>\n      <th>972277</th>\n      <td>राधाकृष्ण  radhakrishn raasleela part  661  sh...</td>\n      <td>24</td>\n      <td>star bharat|star bharat all serial|star bharat...</td>\n      <td>►Click here to Subscribe *Star Bharat* : https...</td>\n      <td>Entertainment</td>\n    </tr>\n  </tbody>\n</table>\n<p>972278 rows × 5 columns</p>\n</div>"
     },
     "execution_count": 23,
     "metadata": {},
     "output_type": "execute_result"
    }
   ],
   "source": [
    "new_video_df"
   ],
   "metadata": {
    "collapsed": false,
    "ExecuteTime": {
     "end_time": "2024-02-11T22:35:55.918750200Z",
     "start_time": "2024-02-11T22:35:55.869116700Z"
    }
   },
   "id": "31f638fa254e58b4",
   "execution_count": 23
  },
  {
   "cell_type": "code",
   "outputs": [],
   "source": [
    "# Load the NLTK stop word list\n",
    "stop_words = nltk.corpus.stopwords.words('english')\n",
    "\n",
    "# Remove stop words from the Title column\n",
    "def remove_stop_words(text):\n",
    "    return [word for word in text.split() if word not in stop_words]\n",
    "\n",
    "# Apply the function to the Title column in your data frame\n",
    "new_video_df['Title'] = new_video_df['Title'].apply(remove_stop_words)"
   ],
   "metadata": {
    "collapsed": false,
    "ExecuteTime": {
     "end_time": "2024-02-11T22:36:10.823333500Z",
     "start_time": "2024-02-11T22:35:55.917652300Z"
    }
   },
   "id": "9eca5c88aeba9a3d",
   "execution_count": 24
  },
  {
   "cell_type": "code",
   "outputs": [
    {
     "data": {
      "text/plain": "                                                    Title  Category_ID  \\\n0                                  [want, talk, marriage]           22   \n1       [trump, presidency, last, week, tonight, john,...           24   \n2       [racist, superman, rudy, mancuso, king, bach, ...           23   \n3                        [nickelback, lyrics, real, fake]           24   \n4                                     [dare, going, bald]           24   \n...                                                   ...          ...   \n972273                      [survive, sun, ending, world]           20   \n972274  [chandrayaan, 3, launch, live, sriharikota, is...           22   \n972275  [pen, parkum, function, 😍most, awaited, day🙈, ...           26   \n972276  [అందుకే, ఆరోజు, అందరూ, ఏడ్చారు, performance, i...           24   \n972277  [राधाकृष्ण, radhakrishn, raasleela, part, 661,...           24   \n\n                                                     Tags  \\\n0                                         SHANtell martin   \n1       last week tonight trump presidency|\"last week ...   \n2       racist superman|\"rudy\"|\"mancuso\"|\"king\"|\"bach\"...   \n3       rhett and link|\"gmm\"|\"good mythical morning\"|\"...   \n4       ryan|\"higa\"|\"higatv\"|\"nigahiga\"|\"i dare you\"|\"...   \n...                                                   ...   \n972273  Adispot|Adi-Spot|adispot|adispoot|proboiz|tech...   \n972274  vlogs|vlog|indian|vlogger|flying|beast|review|...   \n972275  kanmani beauty tips|kanmani tamil beuty tips|d...   \n972276  Chandamama vlog|anjali pavan|itlu mee anjali p...   \n972277  star bharat|star bharat all serial|star bharat...   \n\n                                              Description   Category_Name  \n0       SHANTELL'S CHANNEL - https://www.youtube.com/s...  People & Blogs  \n1       One year after the presidential election, John...   Entertainment  \n2       WATCH MY PREVIOUS VIDEO ▶ \\n\\nSUBSCRIBE ► http...          Comedy  \n3       Today we find out if Link is a Nickelback amat...   Entertainment  \n4       I know it's been a while since we did this sho...   Entertainment  \n...                                                   ...             ...  \n972273  Why I Survive The Sun Ending The World...▬▬▬▬▬...          Gaming  \n972274  Vlog # 86#isro #chandryaan3 Gaurav's Instagram...  People & Blogs  \n972275  Hii friends,Hope all doing good, Today's video...   Howto & Style  \n972276  #anjalipavan #neethonedance #performance #star...   Entertainment  \n972277  ►Click here to Subscribe *Star Bharat* : https...   Entertainment  \n\n[972278 rows x 5 columns]",
      "text/html": "<div>\n<style scoped>\n    .dataframe tbody tr th:only-of-type {\n        vertical-align: middle;\n    }\n\n    .dataframe tbody tr th {\n        vertical-align: top;\n    }\n\n    .dataframe thead th {\n        text-align: right;\n    }\n</style>\n<table border=\"1\" class=\"dataframe\">\n  <thead>\n    <tr style=\"text-align: right;\">\n      <th></th>\n      <th>Title</th>\n      <th>Category_ID</th>\n      <th>Tags</th>\n      <th>Description</th>\n      <th>Category_Name</th>\n    </tr>\n  </thead>\n  <tbody>\n    <tr>\n      <th>0</th>\n      <td>[want, talk, marriage]</td>\n      <td>22</td>\n      <td>SHANtell martin</td>\n      <td>SHANTELL'S CHANNEL - https://www.youtube.com/s...</td>\n      <td>People &amp; Blogs</td>\n    </tr>\n    <tr>\n      <th>1</th>\n      <td>[trump, presidency, last, week, tonight, john,...</td>\n      <td>24</td>\n      <td>last week tonight trump presidency|\"last week ...</td>\n      <td>One year after the presidential election, John...</td>\n      <td>Entertainment</td>\n    </tr>\n    <tr>\n      <th>2</th>\n      <td>[racist, superman, rudy, mancuso, king, bach, ...</td>\n      <td>23</td>\n      <td>racist superman|\"rudy\"|\"mancuso\"|\"king\"|\"bach\"...</td>\n      <td>WATCH MY PREVIOUS VIDEO ▶ \\n\\nSUBSCRIBE ► http...</td>\n      <td>Comedy</td>\n    </tr>\n    <tr>\n      <th>3</th>\n      <td>[nickelback, lyrics, real, fake]</td>\n      <td>24</td>\n      <td>rhett and link|\"gmm\"|\"good mythical morning\"|\"...</td>\n      <td>Today we find out if Link is a Nickelback amat...</td>\n      <td>Entertainment</td>\n    </tr>\n    <tr>\n      <th>4</th>\n      <td>[dare, going, bald]</td>\n      <td>24</td>\n      <td>ryan|\"higa\"|\"higatv\"|\"nigahiga\"|\"i dare you\"|\"...</td>\n      <td>I know it's been a while since we did this sho...</td>\n      <td>Entertainment</td>\n    </tr>\n    <tr>\n      <th>...</th>\n      <td>...</td>\n      <td>...</td>\n      <td>...</td>\n      <td>...</td>\n      <td>...</td>\n    </tr>\n    <tr>\n      <th>972273</th>\n      <td>[survive, sun, ending, world]</td>\n      <td>20</td>\n      <td>Adispot|Adi-Spot|adispot|adispoot|proboiz|tech...</td>\n      <td>Why I Survive The Sun Ending The World...▬▬▬▬▬...</td>\n      <td>Gaming</td>\n    </tr>\n    <tr>\n      <th>972274</th>\n      <td>[chandrayaan, 3, launch, live, sriharikota, is...</td>\n      <td>22</td>\n      <td>vlogs|vlog|indian|vlogger|flying|beast|review|...</td>\n      <td>Vlog # 86#isro #chandryaan3 Gaurav's Instagram...</td>\n      <td>People &amp; Blogs</td>\n    </tr>\n    <tr>\n      <th>972275</th>\n      <td>[pen, parkum, function, 😍most, awaited, day🙈, ...</td>\n      <td>26</td>\n      <td>kanmani beauty tips|kanmani tamil beuty tips|d...</td>\n      <td>Hii friends,Hope all doing good, Today's video...</td>\n      <td>Howto &amp; Style</td>\n    </tr>\n    <tr>\n      <th>972276</th>\n      <td>[అందుకే, ఆరోజు, అందరూ, ఏడ్చారు, performance, i...</td>\n      <td>24</td>\n      <td>Chandamama vlog|anjali pavan|itlu mee anjali p...</td>\n      <td>#anjalipavan #neethonedance #performance #star...</td>\n      <td>Entertainment</td>\n    </tr>\n    <tr>\n      <th>972277</th>\n      <td>[राधाकृष्ण, radhakrishn, raasleela, part, 661,...</td>\n      <td>24</td>\n      <td>star bharat|star bharat all serial|star bharat...</td>\n      <td>►Click here to Subscribe *Star Bharat* : https...</td>\n      <td>Entertainment</td>\n    </tr>\n  </tbody>\n</table>\n<p>972278 rows × 5 columns</p>\n</div>"
     },
     "execution_count": 25,
     "metadata": {},
     "output_type": "execute_result"
    }
   ],
   "source": [
    "new_video_df"
   ],
   "metadata": {
    "collapsed": false,
    "ExecuteTime": {
     "end_time": "2024-02-11T22:36:10.838258Z",
     "start_time": "2024-02-11T22:36:10.824395100Z"
    }
   },
   "id": "74571c271adf924f",
   "execution_count": 25
  },
  {
   "cell_type": "code",
   "outputs": [
    {
     "name": "stdout",
     "output_type": "stream",
     "text": [
      "                                                    Title  Category_ID  \\\n",
      "0                                      want talk marriage           22   \n",
      "1       trump presidency last week tonight john oliver...           24   \n",
      "2        racist superman rudy mancuso king bach lele pons           23   \n",
      "3                             nickelback lyrics real fake           24   \n",
      "4                                         dare going bald           24   \n",
      "...                                                   ...          ...   \n",
      "972273                           survive sun ending world           20   \n",
      "972274    chandrayaan 3 launch live sriharikota isro 2023           22   \n",
      "972275  pen parkum function 😍most awaited day🙈 kanmani...           26   \n",
      "972276  అందుకే ఆరోజు అందరూ ఏడ్చారు performance itlu me...           24   \n",
      "972277  राधाकृष्ण radhakrishn raasleela part 661 shalv...           24   \n",
      "\n",
      "                                                     Tags  \\\n",
      "0                                         SHANtell martin   \n",
      "1       last week tonight trump presidency|\"last week ...   \n",
      "2       racist superman|\"rudy\"|\"mancuso\"|\"king\"|\"bach\"...   \n",
      "3       rhett and link|\"gmm\"|\"good mythical morning\"|\"...   \n",
      "4       ryan|\"higa\"|\"higatv\"|\"nigahiga\"|\"i dare you\"|\"...   \n",
      "...                                                   ...   \n",
      "972273  Adispot|Adi-Spot|adispot|adispoot|proboiz|tech...   \n",
      "972274  vlogs|vlog|indian|vlogger|flying|beast|review|...   \n",
      "972275  kanmani beauty tips|kanmani tamil beuty tips|d...   \n",
      "972276  Chandamama vlog|anjali pavan|itlu mee anjali p...   \n",
      "972277  star bharat|star bharat all serial|star bharat...   \n",
      "\n",
      "                                              Description   Category_Name  \n",
      "0       SHANTELL'S CHANNEL - https://www.youtube.com/s...  People & Blogs  \n",
      "1       One year after the presidential election, John...   Entertainment  \n",
      "2       WATCH MY PREVIOUS VIDEO ▶ \\n\\nSUBSCRIBE ► http...          Comedy  \n",
      "3       Today we find out if Link is a Nickelback amat...   Entertainment  \n",
      "4       I know it's been a while since we did this sho...   Entertainment  \n",
      "...                                                   ...             ...  \n",
      "972273  Why I Survive The Sun Ending The World...▬▬▬▬▬...          Gaming  \n",
      "972274  Vlog # 86#isro #chandryaan3 Gaurav's Instagram...  People & Blogs  \n",
      "972275  Hii friends,Hope all doing good, Today's video...   Howto & Style  \n",
      "972276  #anjalipavan #neethonedance #performance #star...   Entertainment  \n",
      "972277  ►Click here to Subscribe *Star Bharat* : https...   Entertainment  \n",
      "\n",
      "[972278 rows x 5 columns]\n"
     ]
    }
   ],
   "source": [
    "# Function to clean the titles\n",
    "def clean_title(title_list):\n",
    "    title = ', '.join(title_list)  # Convert the list to a string\n",
    "    title = title.strip('[]')  # Remove brackets\n",
    "    title = title.replace(',', '')  # Remove commas\n",
    "    return title\n",
    "\n",
    "# Apply the clean_title function to the 'title' column\n",
    "new_video_df['Title'] = new_video_df['Title'].apply(clean_title)\n",
    "\n",
    "# Display the cleaned DataFrame\n",
    "print(new_video_df)"
   ],
   "metadata": {
    "collapsed": false,
    "ExecuteTime": {
     "end_time": "2024-02-11T22:36:11.787860600Z",
     "start_time": "2024-02-11T22:36:10.842470300Z"
    }
   },
   "id": "a261bd1f2a625296",
   "execution_count": 26
  },
  {
   "cell_type": "code",
   "outputs": [],
   "source": [
    "# Function to clean the titles\n",
    "def clean_titl(title):\n",
    "    # Remove numbers, special characters, and non-English words\n",
    "    cleaned_title = re.sub(r'[^a-zA-Z\\s]', '', title)\n",
    "    return cleaned_title\n",
    "\n",
    "# Apply the clean_title function to the 'Title' column\n",
    "new_video_df['Title'] = new_video_df['Title'].apply(clean_titl)"
   ],
   "metadata": {
    "collapsed": false,
    "ExecuteTime": {
     "end_time": "2024-02-11T22:36:13.508658200Z",
     "start_time": "2024-02-11T22:36:11.785723200Z"
    }
   },
   "id": "183f5b14ae77270c",
   "execution_count": 27
  },
  {
   "cell_type": "code",
   "outputs": [
    {
     "data": {
      "text/plain": "                                                    Title  Category_ID  \\\n0                                      want talk marriage           22   \n1       trump presidency last week tonight john oliver...           24   \n2        racist superman rudy mancuso king bach lele pons           23   \n3                             nickelback lyrics real fake           24   \n4                                         dare going bald           24   \n...                                                   ...          ...   \n972273                           survive sun ending world           20   \n972274         chandrayaan  launch live sriharikota isro            22   \n972275  pen parkum function most awaited day kanmani b...           26   \n972276      performance itlu mee anjalipavan emotional...           24   \n972277   radhakrishn raasleela part  shalv ka antt rad...           24   \n\n                                                     Tags  \\\n0                                         SHANtell martin   \n1       last week tonight trump presidency|\"last week ...   \n2       racist superman|\"rudy\"|\"mancuso\"|\"king\"|\"bach\"...   \n3       rhett and link|\"gmm\"|\"good mythical morning\"|\"...   \n4       ryan|\"higa\"|\"higatv\"|\"nigahiga\"|\"i dare you\"|\"...   \n...                                                   ...   \n972273  Adispot|Adi-Spot|adispot|adispoot|proboiz|tech...   \n972274  vlogs|vlog|indian|vlogger|flying|beast|review|...   \n972275  kanmani beauty tips|kanmani tamil beuty tips|d...   \n972276  Chandamama vlog|anjali pavan|itlu mee anjali p...   \n972277  star bharat|star bharat all serial|star bharat...   \n\n                                              Description   Category_Name  \n0       SHANTELL'S CHANNEL - https://www.youtube.com/s...  People & Blogs  \n1       One year after the presidential election, John...   Entertainment  \n2       WATCH MY PREVIOUS VIDEO ▶ \\n\\nSUBSCRIBE ► http...          Comedy  \n3       Today we find out if Link is a Nickelback amat...   Entertainment  \n4       I know it's been a while since we did this sho...   Entertainment  \n...                                                   ...             ...  \n972273  Why I Survive The Sun Ending The World...▬▬▬▬▬...          Gaming  \n972274  Vlog # 86#isro #chandryaan3 Gaurav's Instagram...  People & Blogs  \n972275  Hii friends,Hope all doing good, Today's video...   Howto & Style  \n972276  #anjalipavan #neethonedance #performance #star...   Entertainment  \n972277  ►Click here to Subscribe *Star Bharat* : https...   Entertainment  \n\n[972278 rows x 5 columns]",
      "text/html": "<div>\n<style scoped>\n    .dataframe tbody tr th:only-of-type {\n        vertical-align: middle;\n    }\n\n    .dataframe tbody tr th {\n        vertical-align: top;\n    }\n\n    .dataframe thead th {\n        text-align: right;\n    }\n</style>\n<table border=\"1\" class=\"dataframe\">\n  <thead>\n    <tr style=\"text-align: right;\">\n      <th></th>\n      <th>Title</th>\n      <th>Category_ID</th>\n      <th>Tags</th>\n      <th>Description</th>\n      <th>Category_Name</th>\n    </tr>\n  </thead>\n  <tbody>\n    <tr>\n      <th>0</th>\n      <td>want talk marriage</td>\n      <td>22</td>\n      <td>SHANtell martin</td>\n      <td>SHANTELL'S CHANNEL - https://www.youtube.com/s...</td>\n      <td>People &amp; Blogs</td>\n    </tr>\n    <tr>\n      <th>1</th>\n      <td>trump presidency last week tonight john oliver...</td>\n      <td>24</td>\n      <td>last week tonight trump presidency|\"last week ...</td>\n      <td>One year after the presidential election, John...</td>\n      <td>Entertainment</td>\n    </tr>\n    <tr>\n      <th>2</th>\n      <td>racist superman rudy mancuso king bach lele pons</td>\n      <td>23</td>\n      <td>racist superman|\"rudy\"|\"mancuso\"|\"king\"|\"bach\"...</td>\n      <td>WATCH MY PREVIOUS VIDEO ▶ \\n\\nSUBSCRIBE ► http...</td>\n      <td>Comedy</td>\n    </tr>\n    <tr>\n      <th>3</th>\n      <td>nickelback lyrics real fake</td>\n      <td>24</td>\n      <td>rhett and link|\"gmm\"|\"good mythical morning\"|\"...</td>\n      <td>Today we find out if Link is a Nickelback amat...</td>\n      <td>Entertainment</td>\n    </tr>\n    <tr>\n      <th>4</th>\n      <td>dare going bald</td>\n      <td>24</td>\n      <td>ryan|\"higa\"|\"higatv\"|\"nigahiga\"|\"i dare you\"|\"...</td>\n      <td>I know it's been a while since we did this sho...</td>\n      <td>Entertainment</td>\n    </tr>\n    <tr>\n      <th>...</th>\n      <td>...</td>\n      <td>...</td>\n      <td>...</td>\n      <td>...</td>\n      <td>...</td>\n    </tr>\n    <tr>\n      <th>972273</th>\n      <td>survive sun ending world</td>\n      <td>20</td>\n      <td>Adispot|Adi-Spot|adispot|adispoot|proboiz|tech...</td>\n      <td>Why I Survive The Sun Ending The World...▬▬▬▬▬...</td>\n      <td>Gaming</td>\n    </tr>\n    <tr>\n      <th>972274</th>\n      <td>chandrayaan  launch live sriharikota isro</td>\n      <td>22</td>\n      <td>vlogs|vlog|indian|vlogger|flying|beast|review|...</td>\n      <td>Vlog # 86#isro #chandryaan3 Gaurav's Instagram...</td>\n      <td>People &amp; Blogs</td>\n    </tr>\n    <tr>\n      <th>972275</th>\n      <td>pen parkum function most awaited day kanmani b...</td>\n      <td>26</td>\n      <td>kanmani beauty tips|kanmani tamil beuty tips|d...</td>\n      <td>Hii friends,Hope all doing good, Today's video...</td>\n      <td>Howto &amp; Style</td>\n    </tr>\n    <tr>\n      <th>972276</th>\n      <td>performance itlu mee anjalipavan emotional...</td>\n      <td>24</td>\n      <td>Chandamama vlog|anjali pavan|itlu mee anjali p...</td>\n      <td>#anjalipavan #neethonedance #performance #star...</td>\n      <td>Entertainment</td>\n    </tr>\n    <tr>\n      <th>972277</th>\n      <td>radhakrishn raasleela part  shalv ka antt rad...</td>\n      <td>24</td>\n      <td>star bharat|star bharat all serial|star bharat...</td>\n      <td>►Click here to Subscribe *Star Bharat* : https...</td>\n      <td>Entertainment</td>\n    </tr>\n  </tbody>\n</table>\n<p>972278 rows × 5 columns</p>\n</div>"
     },
     "execution_count": 28,
     "metadata": {},
     "output_type": "execute_result"
    }
   ],
   "source": [
    "new_video_df"
   ],
   "metadata": {
    "collapsed": false,
    "ExecuteTime": {
     "end_time": "2024-02-11T22:36:13.556895600Z",
     "start_time": "2024-02-11T22:36:13.517714400Z"
    }
   },
   "id": "8f1c55055eeb24ee",
   "execution_count": 28
  },
  {
   "cell_type": "code",
   "outputs": [],
   "source": [
    "# Remove single characters\n",
    "new_video_df['Title'] = new_video_df['Title'].apply(lambda x: ' '.join([word for word in x.split() if len(word) > 1]))\n",
    "\n",
    "# Remove extra spaces between words\n",
    "new_video_df['Title'] = new_video_df['Title'].apply(lambda x: ' '.join(x.split()))"
   ],
   "metadata": {
    "collapsed": false,
    "ExecuteTime": {
     "end_time": "2024-02-11T22:36:15.179703700Z",
     "start_time": "2024-02-11T22:36:13.540127500Z"
    }
   },
   "id": "a0652433dcd16ec8",
   "execution_count": 29
  },
  {
   "cell_type": "code",
   "outputs": [
    {
     "data": {
      "text/plain": "                                                    Title  Category_ID  \\\n0                                      want talk marriage           22   \n1       trump presidency last week tonight john oliver...           24   \n2        racist superman rudy mancuso king bach lele pons           23   \n3                             nickelback lyrics real fake           24   \n4                                         dare going bald           24   \n...                                                   ...          ...   \n972273                           survive sun ending world           20   \n972274           chandrayaan launch live sriharikota isro           22   \n972275  pen parkum function most awaited day kanmani b...           26   \n972276  performance itlu mee anjalipavan emotional nee...           24   \n972277  radhakrishn raasleela part shalv ka antt radha...           24   \n\n                                                     Tags  \\\n0                                         SHANtell martin   \n1       last week tonight trump presidency|\"last week ...   \n2       racist superman|\"rudy\"|\"mancuso\"|\"king\"|\"bach\"...   \n3       rhett and link|\"gmm\"|\"good mythical morning\"|\"...   \n4       ryan|\"higa\"|\"higatv\"|\"nigahiga\"|\"i dare you\"|\"...   \n...                                                   ...   \n972273  Adispot|Adi-Spot|adispot|adispoot|proboiz|tech...   \n972274  vlogs|vlog|indian|vlogger|flying|beast|review|...   \n972275  kanmani beauty tips|kanmani tamil beuty tips|d...   \n972276  Chandamama vlog|anjali pavan|itlu mee anjali p...   \n972277  star bharat|star bharat all serial|star bharat...   \n\n                                              Description   Category_Name  \n0       SHANTELL'S CHANNEL - https://www.youtube.com/s...  People & Blogs  \n1       One year after the presidential election, John...   Entertainment  \n2       WATCH MY PREVIOUS VIDEO ▶ \\n\\nSUBSCRIBE ► http...          Comedy  \n3       Today we find out if Link is a Nickelback amat...   Entertainment  \n4       I know it's been a while since we did this sho...   Entertainment  \n...                                                   ...             ...  \n972273  Why I Survive The Sun Ending The World...▬▬▬▬▬...          Gaming  \n972274  Vlog # 86#isro #chandryaan3 Gaurav's Instagram...  People & Blogs  \n972275  Hii friends,Hope all doing good, Today's video...   Howto & Style  \n972276  #anjalipavan #neethonedance #performance #star...   Entertainment  \n972277  ►Click here to Subscribe *Star Bharat* : https...   Entertainment  \n\n[972278 rows x 5 columns]",
      "text/html": "<div>\n<style scoped>\n    .dataframe tbody tr th:only-of-type {\n        vertical-align: middle;\n    }\n\n    .dataframe tbody tr th {\n        vertical-align: top;\n    }\n\n    .dataframe thead th {\n        text-align: right;\n    }\n</style>\n<table border=\"1\" class=\"dataframe\">\n  <thead>\n    <tr style=\"text-align: right;\">\n      <th></th>\n      <th>Title</th>\n      <th>Category_ID</th>\n      <th>Tags</th>\n      <th>Description</th>\n      <th>Category_Name</th>\n    </tr>\n  </thead>\n  <tbody>\n    <tr>\n      <th>0</th>\n      <td>want talk marriage</td>\n      <td>22</td>\n      <td>SHANtell martin</td>\n      <td>SHANTELL'S CHANNEL - https://www.youtube.com/s...</td>\n      <td>People &amp; Blogs</td>\n    </tr>\n    <tr>\n      <th>1</th>\n      <td>trump presidency last week tonight john oliver...</td>\n      <td>24</td>\n      <td>last week tonight trump presidency|\"last week ...</td>\n      <td>One year after the presidential election, John...</td>\n      <td>Entertainment</td>\n    </tr>\n    <tr>\n      <th>2</th>\n      <td>racist superman rudy mancuso king bach lele pons</td>\n      <td>23</td>\n      <td>racist superman|\"rudy\"|\"mancuso\"|\"king\"|\"bach\"...</td>\n      <td>WATCH MY PREVIOUS VIDEO ▶ \\n\\nSUBSCRIBE ► http...</td>\n      <td>Comedy</td>\n    </tr>\n    <tr>\n      <th>3</th>\n      <td>nickelback lyrics real fake</td>\n      <td>24</td>\n      <td>rhett and link|\"gmm\"|\"good mythical morning\"|\"...</td>\n      <td>Today we find out if Link is a Nickelback amat...</td>\n      <td>Entertainment</td>\n    </tr>\n    <tr>\n      <th>4</th>\n      <td>dare going bald</td>\n      <td>24</td>\n      <td>ryan|\"higa\"|\"higatv\"|\"nigahiga\"|\"i dare you\"|\"...</td>\n      <td>I know it's been a while since we did this sho...</td>\n      <td>Entertainment</td>\n    </tr>\n    <tr>\n      <th>...</th>\n      <td>...</td>\n      <td>...</td>\n      <td>...</td>\n      <td>...</td>\n      <td>...</td>\n    </tr>\n    <tr>\n      <th>972273</th>\n      <td>survive sun ending world</td>\n      <td>20</td>\n      <td>Adispot|Adi-Spot|adispot|adispoot|proboiz|tech...</td>\n      <td>Why I Survive The Sun Ending The World...▬▬▬▬▬...</td>\n      <td>Gaming</td>\n    </tr>\n    <tr>\n      <th>972274</th>\n      <td>chandrayaan launch live sriharikota isro</td>\n      <td>22</td>\n      <td>vlogs|vlog|indian|vlogger|flying|beast|review|...</td>\n      <td>Vlog # 86#isro #chandryaan3 Gaurav's Instagram...</td>\n      <td>People &amp; Blogs</td>\n    </tr>\n    <tr>\n      <th>972275</th>\n      <td>pen parkum function most awaited day kanmani b...</td>\n      <td>26</td>\n      <td>kanmani beauty tips|kanmani tamil beuty tips|d...</td>\n      <td>Hii friends,Hope all doing good, Today's video...</td>\n      <td>Howto &amp; Style</td>\n    </tr>\n    <tr>\n      <th>972276</th>\n      <td>performance itlu mee anjalipavan emotional nee...</td>\n      <td>24</td>\n      <td>Chandamama vlog|anjali pavan|itlu mee anjali p...</td>\n      <td>#anjalipavan #neethonedance #performance #star...</td>\n      <td>Entertainment</td>\n    </tr>\n    <tr>\n      <th>972277</th>\n      <td>radhakrishn raasleela part shalv ka antt radha...</td>\n      <td>24</td>\n      <td>star bharat|star bharat all serial|star bharat...</td>\n      <td>►Click here to Subscribe *Star Bharat* : https...</td>\n      <td>Entertainment</td>\n    </tr>\n  </tbody>\n</table>\n<p>972278 rows × 5 columns</p>\n</div>"
     },
     "execution_count": 30,
     "metadata": {},
     "output_type": "execute_result"
    }
   ],
   "source": [
    "new_video_df"
   ],
   "metadata": {
    "collapsed": false,
    "ExecuteTime": {
     "end_time": "2024-02-11T22:36:15.200015800Z",
     "start_time": "2024-02-11T22:36:15.181193100Z"
    }
   },
   "id": "1c178ec31885f8e3",
   "execution_count": 30
  },
  {
   "cell_type": "code",
   "outputs": [],
   "source": [
    "# Remove double quotes and |\n",
    "new_video_df['Tags'] = new_video_df['Tags'].str.replace('\"', '').str.replace('|', ' ')\n",
    "\n",
    "# Convert to lowercase\n",
    "new_video_df['Tags'] = new_video_df['Tags'].str.lower()"
   ],
   "metadata": {
    "collapsed": false,
    "ExecuteTime": {
     "end_time": "2024-02-11T22:36:16.903370Z",
     "start_time": "2024-02-11T22:36:15.196925300Z"
    }
   },
   "id": "bc1779f04a3d3347",
   "execution_count": 31
  },
  {
   "cell_type": "code",
   "outputs": [],
   "source": [
    "# Function to clean the titles\n",
    "def clean_title(title):\n",
    "    # Remove numbers, special characters, and non-English words\n",
    "    cleaned_title = re.sub(r'[^a-zA-Z\\s]', '', title)\n",
    "    return cleaned_title\n",
    "\n",
    "# Apply the clean_title function to the 'Title' column\n",
    "new_video_df['Tags'] = new_video_df['Tags'].apply(clean_title)"
   ],
   "metadata": {
    "collapsed": false,
    "ExecuteTime": {
     "end_time": "2024-02-11T22:36:20.648959300Z",
     "start_time": "2024-02-11T22:36:16.906638800Z"
    }
   },
   "id": "c441b5059c0ff8a7",
   "execution_count": 32
  },
  {
   "cell_type": "code",
   "outputs": [
    {
     "name": "stdout",
     "output_type": "stream",
     "text": [
      "                                                    Title  Category_ID  \\\n",
      "0                                      want talk marriage           22   \n",
      "1       trump presidency last week tonight john oliver...           24   \n",
      "2        racist superman rudy mancuso king bach lele pons           23   \n",
      "3                             nickelback lyrics real fake           24   \n",
      "4                                         dare going bald           24   \n",
      "...                                                   ...          ...   \n",
      "972273                           survive sun ending world           20   \n",
      "972274           chandrayaan launch live sriharikota isro           22   \n",
      "972275  pen parkum function most awaited day kanmani b...           26   \n",
      "972276  performance itlu mee anjalipavan emotional nee...           24   \n",
      "972277  radhakrishn raasleela part shalv ka antt radha...           24   \n",
      "\n",
      "                                                     Tags  \\\n",
      "0                                      [shantell, martin]   \n",
      "1       [last, week, tonight, trump, presidency, last,...   \n",
      "2       [racist, superman, rudy, mancuso, king, bach, ...   \n",
      "3       [rhett, link, gmm, good, mythical, morning, rh...   \n",
      "4       [ryan, higa, higatv, nigahiga, dare, idy, rhpc...   \n",
      "...                                                   ...   \n",
      "972273  [adispot, adispot, adispot, adispoot, proboiz,...   \n",
      "972274  [vlogs, vlog, indian, vlogger, flying, beast, ...   \n",
      "972275  [kanmani, beauty, tips, kanmani, tamil, beuty,...   \n",
      "972276  [chandamama, vlog, anjali, pavan, itlu, mee, a...   \n",
      "972277  [star, bharat, star, bharat, serial, star, bha...   \n",
      "\n",
      "                                              Description   Category_Name  \n",
      "0       SHANTELL'S CHANNEL - https://www.youtube.com/s...  People & Blogs  \n",
      "1       One year after the presidential election, John...   Entertainment  \n",
      "2       WATCH MY PREVIOUS VIDEO ▶ \\n\\nSUBSCRIBE ► http...          Comedy  \n",
      "3       Today we find out if Link is a Nickelback amat...   Entertainment  \n",
      "4       I know it's been a while since we did this sho...   Entertainment  \n",
      "...                                                   ...             ...  \n",
      "972273  Why I Survive The Sun Ending The World...▬▬▬▬▬...          Gaming  \n",
      "972274  Vlog # 86#isro #chandryaan3 Gaurav's Instagram...  People & Blogs  \n",
      "972275  Hii friends,Hope all doing good, Today's video...   Howto & Style  \n",
      "972276  #anjalipavan #neethonedance #performance #star...   Entertainment  \n",
      "972277  ►Click here to Subscribe *Star Bharat* : https...   Entertainment  \n",
      "\n",
      "[972278 rows x 5 columns]\n"
     ]
    }
   ],
   "source": [
    "# Remove stop words from the Title column\n",
    "def remove_stop_words(text):\n",
    "    return [word for word in text.split() if word not in stop_words]\n",
    "\n",
    "# Apply the function to the Title column in your data frame\n",
    "new_video_df['Tags'] = new_video_df['Tags'].apply(remove_stop_words)\n",
    "\n",
    "print(new_video_df)"
   ],
   "metadata": {
    "collapsed": false,
    "ExecuteTime": {
     "end_time": "2024-02-11T22:37:21.452569300Z",
     "start_time": "2024-02-11T22:36:20.651173600Z"
    }
   },
   "id": "53882326f39a80ac",
   "execution_count": 33
  },
  {
   "cell_type": "code",
   "outputs": [],
   "source": [
    "# Function to clean the titles\n",
    "def clean_title(title_list):\n",
    "    title = ', '.join(title_list)  # Convert the list to a string\n",
    "    title = title.strip('[]')  # Remove brackets\n",
    "    title = title.replace(',', '')  # Remove commas\n",
    "    return title\n",
    "\n",
    "# Apply the clean_title function to the 'title' column\n",
    "new_video_df['Tags'] = new_video_df['Tags'].apply(clean_title)"
   ],
   "metadata": {
    "collapsed": false,
    "ExecuteTime": {
     "end_time": "2024-02-11T22:37:25.100522700Z",
     "start_time": "2024-02-11T22:37:21.462961400Z"
    }
   },
   "id": "4537a6e9c3c709b",
   "execution_count": 34
  },
  {
   "cell_type": "code",
   "outputs": [],
   "source": [
    "# Remove single characters\n",
    "new_video_df['Tags'] = new_video_df['Tags'].apply(lambda x: ' '.join([word for word in x.split() if len(word) > 1]))\n",
    "\n",
    "# Remove extra spaces between words\n",
    "new_video_df['Tags'] = new_video_df['Tags'].apply(lambda x: ' '.join(x.split()))\n",
    "\n",
    "new_video_df['Tags'] = new_video_df['Tags'].replace(to_replace='none', value=' ', regex=True)"
   ],
   "metadata": {
    "collapsed": false,
    "ExecuteTime": {
     "end_time": "2024-02-11T22:37:31.388951300Z",
     "start_time": "2024-02-11T22:37:25.177798Z"
    }
   },
   "id": "d973efd891b614e3",
   "execution_count": 35
  },
  {
   "cell_type": "code",
   "outputs": [
    {
     "data": {
      "text/plain": "                                                    Title  Category_ID  \\\n0                                      want talk marriage           22   \n1       trump presidency last week tonight john oliver...           24   \n2        racist superman rudy mancuso king bach lele pons           23   \n3                             nickelback lyrics real fake           24   \n4                                         dare going bald           24   \n...                                                   ...          ...   \n972273                           survive sun ending world           20   \n972274           chandrayaan launch live sriharikota isro           22   \n972275  pen parkum function most awaited day kanmani b...           26   \n972276  performance itlu mee anjalipavan emotional nee...           24   \n972277  radhakrishn raasleela part shalv ka antt radha...           24   \n\n                                                     Tags  \\\n0                                         shantell martin   \n1       last week tonight trump presidency last week t...   \n2       racist superman rudy mancuso king bach racist ...   \n3       rhett link gmm good mythical morning rhett lin...   \n4       ryan higa higatv nigahiga dare idy rhpc dares ...   \n...                                                   ...   \n972273  adispot adispot adispot adispoot proboiz techn...   \n972274  vlogs vlog indian vlogger flying beast review ...   \n972275  kanmani beauty tips kanmani tamil beuty tips d...   \n972276  chandamama vlog anjali pavan itlu mee anjali p...   \n972277  star bharat star bharat serial star bharat cha...   \n\n                                              Description   Category_Name  \n0       SHANTELL'S CHANNEL - https://www.youtube.com/s...  People & Blogs  \n1       One year after the presidential election, John...   Entertainment  \n2       WATCH MY PREVIOUS VIDEO ▶ \\n\\nSUBSCRIBE ► http...          Comedy  \n3       Today we find out if Link is a Nickelback amat...   Entertainment  \n4       I know it's been a while since we did this sho...   Entertainment  \n...                                                   ...             ...  \n972273  Why I Survive The Sun Ending The World...▬▬▬▬▬...          Gaming  \n972274  Vlog # 86#isro #chandryaan3 Gaurav's Instagram...  People & Blogs  \n972275  Hii friends,Hope all doing good, Today's video...   Howto & Style  \n972276  #anjalipavan #neethonedance #performance #star...   Entertainment  \n972277  ►Click here to Subscribe *Star Bharat* : https...   Entertainment  \n\n[972278 rows x 5 columns]",
      "text/html": "<div>\n<style scoped>\n    .dataframe tbody tr th:only-of-type {\n        vertical-align: middle;\n    }\n\n    .dataframe tbody tr th {\n        vertical-align: top;\n    }\n\n    .dataframe thead th {\n        text-align: right;\n    }\n</style>\n<table border=\"1\" class=\"dataframe\">\n  <thead>\n    <tr style=\"text-align: right;\">\n      <th></th>\n      <th>Title</th>\n      <th>Category_ID</th>\n      <th>Tags</th>\n      <th>Description</th>\n      <th>Category_Name</th>\n    </tr>\n  </thead>\n  <tbody>\n    <tr>\n      <th>0</th>\n      <td>want talk marriage</td>\n      <td>22</td>\n      <td>shantell martin</td>\n      <td>SHANTELL'S CHANNEL - https://www.youtube.com/s...</td>\n      <td>People &amp; Blogs</td>\n    </tr>\n    <tr>\n      <th>1</th>\n      <td>trump presidency last week tonight john oliver...</td>\n      <td>24</td>\n      <td>last week tonight trump presidency last week t...</td>\n      <td>One year after the presidential election, John...</td>\n      <td>Entertainment</td>\n    </tr>\n    <tr>\n      <th>2</th>\n      <td>racist superman rudy mancuso king bach lele pons</td>\n      <td>23</td>\n      <td>racist superman rudy mancuso king bach racist ...</td>\n      <td>WATCH MY PREVIOUS VIDEO ▶ \\n\\nSUBSCRIBE ► http...</td>\n      <td>Comedy</td>\n    </tr>\n    <tr>\n      <th>3</th>\n      <td>nickelback lyrics real fake</td>\n      <td>24</td>\n      <td>rhett link gmm good mythical morning rhett lin...</td>\n      <td>Today we find out if Link is a Nickelback amat...</td>\n      <td>Entertainment</td>\n    </tr>\n    <tr>\n      <th>4</th>\n      <td>dare going bald</td>\n      <td>24</td>\n      <td>ryan higa higatv nigahiga dare idy rhpc dares ...</td>\n      <td>I know it's been a while since we did this sho...</td>\n      <td>Entertainment</td>\n    </tr>\n    <tr>\n      <th>...</th>\n      <td>...</td>\n      <td>...</td>\n      <td>...</td>\n      <td>...</td>\n      <td>...</td>\n    </tr>\n    <tr>\n      <th>972273</th>\n      <td>survive sun ending world</td>\n      <td>20</td>\n      <td>adispot adispot adispot adispoot proboiz techn...</td>\n      <td>Why I Survive The Sun Ending The World...▬▬▬▬▬...</td>\n      <td>Gaming</td>\n    </tr>\n    <tr>\n      <th>972274</th>\n      <td>chandrayaan launch live sriharikota isro</td>\n      <td>22</td>\n      <td>vlogs vlog indian vlogger flying beast review ...</td>\n      <td>Vlog # 86#isro #chandryaan3 Gaurav's Instagram...</td>\n      <td>People &amp; Blogs</td>\n    </tr>\n    <tr>\n      <th>972275</th>\n      <td>pen parkum function most awaited day kanmani b...</td>\n      <td>26</td>\n      <td>kanmani beauty tips kanmani tamil beuty tips d...</td>\n      <td>Hii friends,Hope all doing good, Today's video...</td>\n      <td>Howto &amp; Style</td>\n    </tr>\n    <tr>\n      <th>972276</th>\n      <td>performance itlu mee anjalipavan emotional nee...</td>\n      <td>24</td>\n      <td>chandamama vlog anjali pavan itlu mee anjali p...</td>\n      <td>#anjalipavan #neethonedance #performance #star...</td>\n      <td>Entertainment</td>\n    </tr>\n    <tr>\n      <th>972277</th>\n      <td>radhakrishn raasleela part shalv ka antt radha...</td>\n      <td>24</td>\n      <td>star bharat star bharat serial star bharat cha...</td>\n      <td>►Click here to Subscribe *Star Bharat* : https...</td>\n      <td>Entertainment</td>\n    </tr>\n  </tbody>\n</table>\n<p>972278 rows × 5 columns</p>\n</div>"
     },
     "execution_count": 36,
     "metadata": {},
     "output_type": "execute_result"
    }
   ],
   "source": [
    "new_video_df"
   ],
   "metadata": {
    "collapsed": false,
    "ExecuteTime": {
     "end_time": "2024-02-11T22:37:31.434415100Z",
     "start_time": "2024-02-11T22:37:31.390014200Z"
    }
   },
   "id": "2b134392633c5bee",
   "execution_count": 36
  },
  {
   "cell_type": "code",
   "outputs": [],
   "source": [
    "# Remove links and convert to lowercase\n",
    "new_video_df['Description'] = new_video_df['Description'].apply(lambda x: re.sub(r'http\\S+', ' ', str(x))).str.lower()\n",
    "\n",
    "new_video_df['Description'] = new_video_df['Description'].replace(to_replace=r'\\b(?:https?://|www\\.)\\S+\\b', value='', regex=True)"
   ],
   "metadata": {
    "collapsed": false,
    "ExecuteTime": {
     "end_time": "2024-02-11T22:38:15.497189600Z",
     "start_time": "2024-02-11T22:37:31.434415100Z"
    }
   },
   "id": "3a8b5231282a476b",
   "execution_count": 37
  },
  {
   "cell_type": "code",
   "outputs": [],
   "source": [
    "# Remove \"\\n\" and \":\"\n",
    "new_video_df['Description'] = new_video_df['Description'].str.replace(r'\\n+', ' ').str.replace(r'\\n\\n', ' ').str.replace(r'\\n\\n\\n', '').str.replace(r':', '')"
   ],
   "metadata": {
    "collapsed": false,
    "ExecuteTime": {
     "end_time": "2024-02-11T22:38:23.950940700Z",
     "start_time": "2024-02-11T22:38:15.498243Z"
    }
   },
   "id": "9ec8b82079d0be6d",
   "execution_count": 38
  },
  {
   "cell_type": "code",
   "outputs": [],
   "source": [
    "# Remove \\n characters\n",
    "new_video_df['Description'] = new_video_df['Description'].str.replace(r'\\n', ' ')\n",
    "new_video_df['Description'] = new_video_df['Description'].str.replace(r'/', ' ')"
   ],
   "metadata": {
    "collapsed": false,
    "ExecuteTime": {
     "end_time": "2024-02-11T22:38:27.665673300Z",
     "start_time": "2024-02-11T22:38:24.035479Z"
    }
   },
   "id": "311636a6fadc9120",
   "execution_count": 39
  },
  {
   "cell_type": "code",
   "outputs": [],
   "source": [
    "# Function to clean the titles\n",
    "def clean_title(title):\n",
    "    if isinstance(title, str):\n",
    "        # Remove numbers, special characters, and non-English words\n",
    "        cleaned_title = re.sub(r'[^a-zA-Z\\s]', '', title)\n",
    "        return cleaned_title\n",
    "    else:\n",
    "        return title  # or handle appropriately if title is not a string\n",
    "\n",
    "# Apply the clean_title function to the 'Description' column\n",
    "new_video_df['Description'] = new_video_df['Description'].apply(clean_title)"
   ],
   "metadata": {
    "collapsed": false,
    "ExecuteTime": {
     "end_time": "2024-02-11T22:38:47.480444900Z",
     "start_time": "2024-02-11T22:38:27.690877900Z"
    }
   },
   "id": "d594822032df8508",
   "execution_count": 40
  },
  {
   "cell_type": "code",
   "outputs": [],
   "source": [
    "# Remove stop words from the Title column\n",
    "def remove_stop_words(text):\n",
    "    if isinstance(text, str):\n",
    "        return ' '.join([word for word in text.split() if word.lower() not in stop_words])\n",
    "    else:\n",
    "        return text\n",
    "\n",
    "# Apply the function to the Title column in your data frame\n",
    "new_video_df['Description'] = new_video_df['Description'].apply(remove_stop_words)"
   ],
   "metadata": {
    "collapsed": false,
    "ExecuteTime": {
     "end_time": "2024-02-11T22:41:07.018679300Z",
     "start_time": "2024-02-11T22:38:47.495010900Z"
    }
   },
   "id": "72619d9b132d3869",
   "execution_count": 41
  },
  {
   "cell_type": "code",
   "outputs": [],
   "source": [
    "# Remove single characters\n",
    "new_video_df['Description'] = new_video_df['Description'].apply(lambda x: ' '.join([word for word in str(x).split() if len(word) > 1]))\n",
    "\n",
    "# Remove extra spaces between words\n",
    "new_video_df['Description'] = new_video_df['Description'].apply(lambda x: ' '.join(str(x).split()))"
   ],
   "metadata": {
    "collapsed": false,
    "ExecuteTime": {
     "end_time": "2024-02-11T22:41:19.513716Z",
     "start_time": "2024-02-11T22:41:07.026105500Z"
    }
   },
   "id": "86569b65c290e939",
   "execution_count": 42
  },
  {
   "cell_type": "code",
   "outputs": [
    {
     "data": {
      "text/plain": "Title            0\nCategory_ID      0\nTags             0\nDescription      0\nCategory_Name    0\ndtype: int64"
     },
     "execution_count": 43,
     "metadata": {},
     "output_type": "execute_result"
    }
   ],
   "source": [
    "new_video_df.isna().sum()"
   ],
   "metadata": {
    "collapsed": false,
    "ExecuteTime": {
     "end_time": "2024-02-11T22:41:22.792199200Z",
     "start_time": "2024-02-11T22:41:19.532393500Z"
    }
   },
   "id": "ff52d3c9dfe429c2",
   "execution_count": 43
  },
  {
   "cell_type": "code",
   "outputs": [
    {
     "data": {
      "text/plain": "                                                    Title  Category_ID  \\\n0                                      want talk marriage           22   \n1       trump presidency last week tonight john oliver...           24   \n2        racist superman rudy mancuso king bach lele pons           23   \n3                             nickelback lyrics real fake           24   \n4                                         dare going bald           24   \n...                                                   ...          ...   \n972273                           survive sun ending world           20   \n972274           chandrayaan launch live sriharikota isro           22   \n972275  pen parkum function most awaited day kanmani b...           26   \n972276  performance itlu mee anjalipavan emotional nee...           24   \n972277  radhakrishn raasleela part shalv ka antt radha...           24   \n\n                                                     Tags  \\\n0                                         shantell martin   \n1       last week tonight trump presidency last week t...   \n2       racist superman rudy mancuso king bach racist ...   \n3       rhett link gmm good mythical morning rhett lin...   \n4       ryan higa higatv nigahiga dare idy rhpc dares ...   \n...                                                   ...   \n972273  adispot adispot adispot adispoot proboiz techn...   \n972274  vlogs vlog indian vlogger flying beast review ...   \n972275  kanmani beauty tips kanmani tamil beuty tips d...   \n972276  chandamama vlog anjali pavan itlu mee anjali p...   \n972277  star bharat star bharat serial star bharat cha...   \n\n                                              Description   Category_Name  \n0       shantells channel video lens drone gear camera...  People & Blogs  \n1       one year presidential election john oliver dis...   Entertainment  \n2       watch previous video subscribe watching like s...          Comedy  \n3       today find link nickelback amateur secret nick...   Entertainment  \n4       know since show back might best episode yet le...   Entertainment  \n...                                                   ...             ...  \n972273  survive sun ending worldsocial media instagram...          Gaming  \n972274  vlog isro chandryaan gauravs instagram instagr...  People & Blogs  \n972275  hii friendshope good todays video aboutmy ponn...   Howto & Style  \n972276  anjalipavan neethonedance performance starmaa ...   Entertainment  \n972277  click subscribe star bharat like radhakrishn r...   Entertainment  \n\n[972278 rows x 5 columns]",
      "text/html": "<div>\n<style scoped>\n    .dataframe tbody tr th:only-of-type {\n        vertical-align: middle;\n    }\n\n    .dataframe tbody tr th {\n        vertical-align: top;\n    }\n\n    .dataframe thead th {\n        text-align: right;\n    }\n</style>\n<table border=\"1\" class=\"dataframe\">\n  <thead>\n    <tr style=\"text-align: right;\">\n      <th></th>\n      <th>Title</th>\n      <th>Category_ID</th>\n      <th>Tags</th>\n      <th>Description</th>\n      <th>Category_Name</th>\n    </tr>\n  </thead>\n  <tbody>\n    <tr>\n      <th>0</th>\n      <td>want talk marriage</td>\n      <td>22</td>\n      <td>shantell martin</td>\n      <td>shantells channel video lens drone gear camera...</td>\n      <td>People &amp; Blogs</td>\n    </tr>\n    <tr>\n      <th>1</th>\n      <td>trump presidency last week tonight john oliver...</td>\n      <td>24</td>\n      <td>last week tonight trump presidency last week t...</td>\n      <td>one year presidential election john oliver dis...</td>\n      <td>Entertainment</td>\n    </tr>\n    <tr>\n      <th>2</th>\n      <td>racist superman rudy mancuso king bach lele pons</td>\n      <td>23</td>\n      <td>racist superman rudy mancuso king bach racist ...</td>\n      <td>watch previous video subscribe watching like s...</td>\n      <td>Comedy</td>\n    </tr>\n    <tr>\n      <th>3</th>\n      <td>nickelback lyrics real fake</td>\n      <td>24</td>\n      <td>rhett link gmm good mythical morning rhett lin...</td>\n      <td>today find link nickelback amateur secret nick...</td>\n      <td>Entertainment</td>\n    </tr>\n    <tr>\n      <th>4</th>\n      <td>dare going bald</td>\n      <td>24</td>\n      <td>ryan higa higatv nigahiga dare idy rhpc dares ...</td>\n      <td>know since show back might best episode yet le...</td>\n      <td>Entertainment</td>\n    </tr>\n    <tr>\n      <th>...</th>\n      <td>...</td>\n      <td>...</td>\n      <td>...</td>\n      <td>...</td>\n      <td>...</td>\n    </tr>\n    <tr>\n      <th>972273</th>\n      <td>survive sun ending world</td>\n      <td>20</td>\n      <td>adispot adispot adispot adispoot proboiz techn...</td>\n      <td>survive sun ending worldsocial media instagram...</td>\n      <td>Gaming</td>\n    </tr>\n    <tr>\n      <th>972274</th>\n      <td>chandrayaan launch live sriharikota isro</td>\n      <td>22</td>\n      <td>vlogs vlog indian vlogger flying beast review ...</td>\n      <td>vlog isro chandryaan gauravs instagram instagr...</td>\n      <td>People &amp; Blogs</td>\n    </tr>\n    <tr>\n      <th>972275</th>\n      <td>pen parkum function most awaited day kanmani b...</td>\n      <td>26</td>\n      <td>kanmani beauty tips kanmani tamil beuty tips d...</td>\n      <td>hii friendshope good todays video aboutmy ponn...</td>\n      <td>Howto &amp; Style</td>\n    </tr>\n    <tr>\n      <th>972276</th>\n      <td>performance itlu mee anjalipavan emotional nee...</td>\n      <td>24</td>\n      <td>chandamama vlog anjali pavan itlu mee anjali p...</td>\n      <td>anjalipavan neethonedance performance starmaa ...</td>\n      <td>Entertainment</td>\n    </tr>\n    <tr>\n      <th>972277</th>\n      <td>radhakrishn raasleela part shalv ka antt radha...</td>\n      <td>24</td>\n      <td>star bharat star bharat serial star bharat cha...</td>\n      <td>click subscribe star bharat like radhakrishn r...</td>\n      <td>Entertainment</td>\n    </tr>\n  </tbody>\n</table>\n<p>972278 rows × 5 columns</p>\n</div>"
     },
     "execution_count": 44,
     "metadata": {},
     "output_type": "execute_result"
    }
   ],
   "source": [
    "new_video_df"
   ],
   "metadata": {
    "collapsed": false,
    "ExecuteTime": {
     "end_time": "2024-02-11T22:41:51.530734800Z",
     "start_time": "2024-02-11T22:41:22.785944700Z"
    }
   },
   "id": "6359ef1e0a9de98f",
   "execution_count": 44
  },
  {
   "cell_type": "code",
   "outputs": [],
   "source": [
    "new_video_df['Description'] = new_video_df['Description'].replace(to_replace='nan', value=' ', regex=True)\n",
    "new_video_df['Description'] = new_video_df['Description'].fillna(' ')"
   ],
   "metadata": {
    "collapsed": false,
    "ExecuteTime": {
     "end_time": "2024-02-11T22:41:53.973364400Z",
     "start_time": "2024-02-11T22:41:51.505822300Z"
    }
   },
   "id": "3227ea2b900cfbc5",
   "execution_count": 45
  },
  {
   "cell_type": "code",
   "outputs": [
    {
     "data": {
      "text/plain": "  0%|          | 0/972278 [00:00<?, ?it/s]",
      "application/vnd.jupyter.widget-view+json": {
       "version_major": 2,
       "version_minor": 0,
       "model_id": "0f8b98ff5de245a7afba2ac8437de59e"
      }
     },
     "metadata": {},
     "output_type": "display_data"
    },
    {
     "data": {
      "text/plain": "  0%|          | 0/972278 [00:00<?, ?it/s]",
      "application/vnd.jupyter.widget-view+json": {
       "version_major": 2,
       "version_minor": 0,
       "model_id": "33aa0d62659c45e1bebb97a1971c2f0e"
      }
     },
     "metadata": {},
     "output_type": "display_data"
    },
    {
     "data": {
      "text/plain": "  0%|          | 0/972278 [00:00<?, ?it/s]",
      "application/vnd.jupyter.widget-view+json": {
       "version_major": 2,
       "version_minor": 0,
       "model_id": "bd56f9de72e540a59f689834f960f09a"
      }
     },
     "metadata": {},
     "output_type": "display_data"
    }
   ],
   "source": [
    "def preprocesss(text):\n",
    "    # Remove words that look like random strings\n",
    "    text = re.sub(r'\\b\\w{20,}\\b', '', text)\n",
    "    return text\n",
    "\n",
    "# Assuming new is your DataFrame\n",
    "new_video_df['Title'] = new_video_df['Title'].fillna('').progress_apply(lambda x: preprocesss(x))\n",
    "new_video_df['Description'] = new_video_df['Description'].fillna('').progress_apply(lambda x: preprocesss(x))\n",
    "new_video_df['Tags'] = new_video_df['Tags'].fillna('').progress_apply(lambda x: preprocesss(x))"
   ],
   "metadata": {
    "collapsed": false,
    "ExecuteTime": {
     "end_time": "2024-02-11T22:42:15.210903700Z",
     "start_time": "2024-02-11T22:41:53.227719300Z"
    }
   },
   "id": "2ad1db030ded2da3",
   "execution_count": 46
  },
  {
   "cell_type": "code",
   "outputs": [],
   "source": [
    "# Function to remove two-letter words\n",
    "def remove_two_letter_words(text):\n",
    "    words = text.split()\n",
    "    filtered_words = [word for word in words if len(word) != 2]\n",
    "    return ' '.join(filtered_words)\n",
    "\n",
    "# Apply the function to the specified column\n",
    "new_video_df['Description'] = new_video_df['Description'].apply(remove_two_letter_words)"
   ],
   "metadata": {
    "collapsed": false,
    "ExecuteTime": {
     "end_time": "2024-02-11T22:42:22.863178600Z",
     "start_time": "2024-02-11T22:42:15.239832600Z"
    }
   },
   "id": "dfcdd958ab3c6afd",
   "execution_count": 47
  },
  {
   "cell_type": "code",
   "outputs": [
    {
     "data": {
      "text/plain": "                                                    Title  Category_ID  \\\n0                                      want talk marriage           22   \n1       trump presidency last week tonight john oliver...           24   \n2        racist superman rudy mancuso king bach lele pons           23   \n3                             nickelback lyrics real fake           24   \n4                                         dare going bald           24   \n...                                                   ...          ...   \n972273                           survive sun ending world           20   \n972274           chandrayaan launch live sriharikota isro           22   \n972275  pen parkum function most awaited day kanmani b...           26   \n972276  performance itlu mee anjalipavan emotional nee...           24   \n972277  radhakrishn raasleela part shalv ka antt radha...           24   \n\n                                                     Tags  \\\n0                                         shantell martin   \n1       last week tonight trump presidency last week t...   \n2       racist superman rudy mancuso king bach racist ...   \n3       rhett link gmm good mythical morning rhett lin...   \n4       ryan higa higatv nigahiga dare idy rhpc dares ...   \n...                                                   ...   \n972273  adispot adispot adispot adispoot proboiz techn...   \n972274  vlogs vlog indian vlogger flying beast review ...   \n972275  kanmani beauty tips kanmani tamil beuty tips d...   \n972276  chandamama vlog anjali pavan itlu mee anjali p...   \n972277  star bharat star bharat serial star bharat cha...   \n\n                                              Description   Category_Name  \n0       shantells channel video lens drone gear camera...  People & Blogs  \n1       one year presidential election john oliver dis...   Entertainment  \n2       watch previous video subscribe watching like s...          Comedy  \n3       today find link nickelback amateur secret nick...   Entertainment  \n4       know since show back might best episode yet le...   Entertainment  \n...                                                   ...             ...  \n972273  survive sun ending worldsocial media instagram...          Gaming  \n972274  vlog isro chandryaan gauravs instagram instagr...  People & Blogs  \n972275  hii friendshope good todays video aboutmy ponn...   Howto & Style  \n972276  anjalipavan neethonedance performance starmaa ...   Entertainment  \n972277  click subscribe star bharat like radhakrishn r...   Entertainment  \n\n[972278 rows x 5 columns]",
      "text/html": "<div>\n<style scoped>\n    .dataframe tbody tr th:only-of-type {\n        vertical-align: middle;\n    }\n\n    .dataframe tbody tr th {\n        vertical-align: top;\n    }\n\n    .dataframe thead th {\n        text-align: right;\n    }\n</style>\n<table border=\"1\" class=\"dataframe\">\n  <thead>\n    <tr style=\"text-align: right;\">\n      <th></th>\n      <th>Title</th>\n      <th>Category_ID</th>\n      <th>Tags</th>\n      <th>Description</th>\n      <th>Category_Name</th>\n    </tr>\n  </thead>\n  <tbody>\n    <tr>\n      <th>0</th>\n      <td>want talk marriage</td>\n      <td>22</td>\n      <td>shantell martin</td>\n      <td>shantells channel video lens drone gear camera...</td>\n      <td>People &amp; Blogs</td>\n    </tr>\n    <tr>\n      <th>1</th>\n      <td>trump presidency last week tonight john oliver...</td>\n      <td>24</td>\n      <td>last week tonight trump presidency last week t...</td>\n      <td>one year presidential election john oliver dis...</td>\n      <td>Entertainment</td>\n    </tr>\n    <tr>\n      <th>2</th>\n      <td>racist superman rudy mancuso king bach lele pons</td>\n      <td>23</td>\n      <td>racist superman rudy mancuso king bach racist ...</td>\n      <td>watch previous video subscribe watching like s...</td>\n      <td>Comedy</td>\n    </tr>\n    <tr>\n      <th>3</th>\n      <td>nickelback lyrics real fake</td>\n      <td>24</td>\n      <td>rhett link gmm good mythical morning rhett lin...</td>\n      <td>today find link nickelback amateur secret nick...</td>\n      <td>Entertainment</td>\n    </tr>\n    <tr>\n      <th>4</th>\n      <td>dare going bald</td>\n      <td>24</td>\n      <td>ryan higa higatv nigahiga dare idy rhpc dares ...</td>\n      <td>know since show back might best episode yet le...</td>\n      <td>Entertainment</td>\n    </tr>\n    <tr>\n      <th>...</th>\n      <td>...</td>\n      <td>...</td>\n      <td>...</td>\n      <td>...</td>\n      <td>...</td>\n    </tr>\n    <tr>\n      <th>972273</th>\n      <td>survive sun ending world</td>\n      <td>20</td>\n      <td>adispot adispot adispot adispoot proboiz techn...</td>\n      <td>survive sun ending worldsocial media instagram...</td>\n      <td>Gaming</td>\n    </tr>\n    <tr>\n      <th>972274</th>\n      <td>chandrayaan launch live sriharikota isro</td>\n      <td>22</td>\n      <td>vlogs vlog indian vlogger flying beast review ...</td>\n      <td>vlog isro chandryaan gauravs instagram instagr...</td>\n      <td>People &amp; Blogs</td>\n    </tr>\n    <tr>\n      <th>972275</th>\n      <td>pen parkum function most awaited day kanmani b...</td>\n      <td>26</td>\n      <td>kanmani beauty tips kanmani tamil beuty tips d...</td>\n      <td>hii friendshope good todays video aboutmy ponn...</td>\n      <td>Howto &amp; Style</td>\n    </tr>\n    <tr>\n      <th>972276</th>\n      <td>performance itlu mee anjalipavan emotional nee...</td>\n      <td>24</td>\n      <td>chandamama vlog anjali pavan itlu mee anjali p...</td>\n      <td>anjalipavan neethonedance performance starmaa ...</td>\n      <td>Entertainment</td>\n    </tr>\n    <tr>\n      <th>972277</th>\n      <td>radhakrishn raasleela part shalv ka antt radha...</td>\n      <td>24</td>\n      <td>star bharat star bharat serial star bharat cha...</td>\n      <td>click subscribe star bharat like radhakrishn r...</td>\n      <td>Entertainment</td>\n    </tr>\n  </tbody>\n</table>\n<p>972278 rows × 5 columns</p>\n</div>"
     },
     "execution_count": 48,
     "metadata": {},
     "output_type": "execute_result"
    }
   ],
   "source": [
    "new_video_df"
   ],
   "metadata": {
    "collapsed": false,
    "ExecuteTime": {
     "end_time": "2024-02-11T22:42:22.910587700Z",
     "start_time": "2024-02-11T22:42:22.865185Z"
    }
   },
   "id": "9e45ee80b56a6dcf",
   "execution_count": 48
  },
  {
   "cell_type": "code",
   "outputs": [],
   "source": [
    "# Concatenate the three text columns into a single column\n",
    "new_video_df['Cleaned Title'] = new_video_df['Title'] + ' ' + new_video_df['Description'] + ' ' + new_video_df['Tags']"
   ],
   "metadata": {
    "collapsed": false,
    "ExecuteTime": {
     "end_time": "2024-02-11T22:42:24.748422600Z",
     "start_time": "2024-02-11T22:42:22.898452500Z"
    }
   },
   "id": "29e58c3fefd684ca",
   "execution_count": 49
  },
  {
   "cell_type": "code",
   "outputs": [],
   "source": [
    "blacklist = [\"lil\", \"ft\", \"got\", \"get\", \"first\", \"highlights\", \"channel\", \"new\", \"official\", \"best\",\n",
    "             \"check\", \"latest\", \"also\", \"thanks\", \"join\", \"new\", \"video\", \"content\", \"tiktok\", \"snapchat\", \"instagram\",\n",
    "             \"twitter\", \"videos\", \"subscribe\", \"every\", \"facebook\", \"watch\", \"youtube\", \"follow\", \"like\", \"comment\"]\n",
    "\n",
    "blacklist2 = [\"thi\", \"tak\", \"mo\", \"jo\", \"minut\", \"fnaf\", \"vs\", \"back\", \"short\",\n",
    "              \"official\", \"ofici\", \"gets\", \"music\", \"none\", \"nan\"]\n",
    "\n",
    "def remove_blacklist(text):\n",
    "    words = text.split()\n",
    "    filtered_words = [word for word in words if word.lower() not in blacklist and word.lower() not in blacklist2]\n",
    "    return ' '.join(filtered_words)\n",
    "\n",
    "# Apply the function to the 'Cleaned Title' column\n",
    "new_video_df['Cleaned Title'] = new_video_df['Cleaned Title'].apply(remove_blacklist)"
   ],
   "metadata": {
    "collapsed": false,
    "ExecuteTime": {
     "end_time": "2024-02-11T22:43:25.418426700Z",
     "start_time": "2024-02-11T22:42:24.770208400Z"
    }
   },
   "id": "83fe22af885e12eb",
   "execution_count": 50
  },
  {
   "cell_type": "code",
   "outputs": [
    {
     "data": {
      "text/plain": "Title            0\nCategory_ID      0\nTags             0\nDescription      0\nCategory_Name    0\nCleaned Title    0\ndtype: int64"
     },
     "execution_count": 51,
     "metadata": {},
     "output_type": "execute_result"
    }
   ],
   "source": [
    "new_video_df.isna().sum()"
   ],
   "metadata": {
    "collapsed": false,
    "ExecuteTime": {
     "end_time": "2024-02-11T22:43:26.069665500Z",
     "start_time": "2024-02-11T22:43:25.563260700Z"
    }
   },
   "id": "30a4e47767a88ac0",
   "execution_count": 51
  },
  {
   "cell_type": "code",
   "outputs": [
    {
     "data": {
      "text/plain": "                                                    Title  Category_ID  \\\n0                                      want talk marriage           22   \n1       trump presidency last week tonight john oliver...           24   \n2        racist superman rudy mancuso king bach lele pons           23   \n3                             nickelback lyrics real fake           24   \n4                                         dare going bald           24   \n...                                                   ...          ...   \n972273                           survive sun ending world           20   \n972274           chandrayaan launch live sriharikota isro           22   \n972275  pen parkum function most awaited day kanmani b...           26   \n972276  performance itlu mee anjalipavan emotional nee...           24   \n972277  radhakrishn raasleela part shalv ka antt radha...           24   \n\n                                                     Tags  \\\n0                                         shantell martin   \n1       last week tonight trump presidency last week t...   \n2       racist superman rudy mancuso king bach racist ...   \n3       rhett link gmm good mythical morning rhett lin...   \n4       ryan higa higatv nigahiga dare idy rhpc dares ...   \n...                                                   ...   \n972273  adispot adispot adispot adispoot proboiz techn...   \n972274  vlogs vlog indian vlogger flying beast review ...   \n972275  kanmani beauty tips kanmani tamil beuty tips d...   \n972276  chandamama vlog anjali pavan itlu mee anjali p...   \n972277  star bharat star bharat serial star bharat cha...   \n\n                                              Description   Category_Name  \\\n0       shantells channel video lens drone gear camera...  People & Blogs   \n1       one year presidential election john oliver dis...   Entertainment   \n2       watch previous video subscribe watching like s...          Comedy   \n3       today find link nickelback amateur secret nick...   Entertainment   \n4       know since show back might best episode yet le...   Entertainment   \n...                                                   ...             ...   \n972273  survive sun ending worldsocial media instagram...          Gaming   \n972274  vlog isro chandryaan gauravs instagram instagr...  People & Blogs   \n972275  hii friendshope good todays video aboutmy ponn...   Howto & Style   \n972276  anjalipavan neethonedance performance starmaa ...   Entertainment   \n972277  click subscribe star bharat like radhakrishn r...   Entertainment   \n\n                                            Cleaned Title  \n0       want talk marriage shantells lens drone gear c...  \n1       trump presidency last week tonight john oliver...  \n2       racist superman rudy mancuso king bach lele po...  \n3       nickelback lyrics real fake today find link ni...  \n4       dare going bald know since show might episode ...  \n...                                                   ...  \n972273  survive sun ending world survive sun ending wo...  \n972274  chandrayaan launch live sriharikota isro vlog ...  \n972275  pen parkum function most awaited day kanmani b...  \n972276  performance itlu mee anjalipavan emotional nee...  \n972277  radhakrishn raasleela part shalv ka antt radha...  \n\n[972278 rows x 6 columns]",
      "text/html": "<div>\n<style scoped>\n    .dataframe tbody tr th:only-of-type {\n        vertical-align: middle;\n    }\n\n    .dataframe tbody tr th {\n        vertical-align: top;\n    }\n\n    .dataframe thead th {\n        text-align: right;\n    }\n</style>\n<table border=\"1\" class=\"dataframe\">\n  <thead>\n    <tr style=\"text-align: right;\">\n      <th></th>\n      <th>Title</th>\n      <th>Category_ID</th>\n      <th>Tags</th>\n      <th>Description</th>\n      <th>Category_Name</th>\n      <th>Cleaned Title</th>\n    </tr>\n  </thead>\n  <tbody>\n    <tr>\n      <th>0</th>\n      <td>want talk marriage</td>\n      <td>22</td>\n      <td>shantell martin</td>\n      <td>shantells channel video lens drone gear camera...</td>\n      <td>People &amp; Blogs</td>\n      <td>want talk marriage shantells lens drone gear c...</td>\n    </tr>\n    <tr>\n      <th>1</th>\n      <td>trump presidency last week tonight john oliver...</td>\n      <td>24</td>\n      <td>last week tonight trump presidency last week t...</td>\n      <td>one year presidential election john oliver dis...</td>\n      <td>Entertainment</td>\n      <td>trump presidency last week tonight john oliver...</td>\n    </tr>\n    <tr>\n      <th>2</th>\n      <td>racist superman rudy mancuso king bach lele pons</td>\n      <td>23</td>\n      <td>racist superman rudy mancuso king bach racist ...</td>\n      <td>watch previous video subscribe watching like s...</td>\n      <td>Comedy</td>\n      <td>racist superman rudy mancuso king bach lele po...</td>\n    </tr>\n    <tr>\n      <th>3</th>\n      <td>nickelback lyrics real fake</td>\n      <td>24</td>\n      <td>rhett link gmm good mythical morning rhett lin...</td>\n      <td>today find link nickelback amateur secret nick...</td>\n      <td>Entertainment</td>\n      <td>nickelback lyrics real fake today find link ni...</td>\n    </tr>\n    <tr>\n      <th>4</th>\n      <td>dare going bald</td>\n      <td>24</td>\n      <td>ryan higa higatv nigahiga dare idy rhpc dares ...</td>\n      <td>know since show back might best episode yet le...</td>\n      <td>Entertainment</td>\n      <td>dare going bald know since show might episode ...</td>\n    </tr>\n    <tr>\n      <th>...</th>\n      <td>...</td>\n      <td>...</td>\n      <td>...</td>\n      <td>...</td>\n      <td>...</td>\n      <td>...</td>\n    </tr>\n    <tr>\n      <th>972273</th>\n      <td>survive sun ending world</td>\n      <td>20</td>\n      <td>adispot adispot adispot adispoot proboiz techn...</td>\n      <td>survive sun ending worldsocial media instagram...</td>\n      <td>Gaming</td>\n      <td>survive sun ending world survive sun ending wo...</td>\n    </tr>\n    <tr>\n      <th>972274</th>\n      <td>chandrayaan launch live sriharikota isro</td>\n      <td>22</td>\n      <td>vlogs vlog indian vlogger flying beast review ...</td>\n      <td>vlog isro chandryaan gauravs instagram instagr...</td>\n      <td>People &amp; Blogs</td>\n      <td>chandrayaan launch live sriharikota isro vlog ...</td>\n    </tr>\n    <tr>\n      <th>972275</th>\n      <td>pen parkum function most awaited day kanmani b...</td>\n      <td>26</td>\n      <td>kanmani beauty tips kanmani tamil beuty tips d...</td>\n      <td>hii friendshope good todays video aboutmy ponn...</td>\n      <td>Howto &amp; Style</td>\n      <td>pen parkum function most awaited day kanmani b...</td>\n    </tr>\n    <tr>\n      <th>972276</th>\n      <td>performance itlu mee anjalipavan emotional nee...</td>\n      <td>24</td>\n      <td>chandamama vlog anjali pavan itlu mee anjali p...</td>\n      <td>anjalipavan neethonedance performance starmaa ...</td>\n      <td>Entertainment</td>\n      <td>performance itlu mee anjalipavan emotional nee...</td>\n    </tr>\n    <tr>\n      <th>972277</th>\n      <td>radhakrishn raasleela part shalv ka antt radha...</td>\n      <td>24</td>\n      <td>star bharat star bharat serial star bharat cha...</td>\n      <td>click subscribe star bharat like radhakrishn r...</td>\n      <td>Entertainment</td>\n      <td>radhakrishn raasleela part shalv ka antt radha...</td>\n    </tr>\n  </tbody>\n</table>\n<p>972278 rows × 6 columns</p>\n</div>"
     },
     "execution_count": 52,
     "metadata": {},
     "output_type": "execute_result"
    }
   ],
   "source": [
    "new_video_df"
   ],
   "metadata": {
    "collapsed": false,
    "ExecuteTime": {
     "end_time": "2024-02-11T22:43:26.129998500Z",
     "start_time": "2024-02-11T22:43:26.072993800Z"
    }
   },
   "id": "fd42a64abfd7bea5",
   "execution_count": 52
  },
  {
   "cell_type": "code",
   "outputs": [],
   "source": [
    "new_video_df['Cleaned Title'] = new_video_df['Cleaned Title'].apply(lambda x: [i.lower() for i in nltk.word_tokenize(x) if i.lower() not in stop])"
   ],
   "metadata": {
    "collapsed": false,
    "ExecuteTime": {
     "end_time": "2024-02-11T22:52:40.502354100Z",
     "start_time": "2024-02-11T22:43:26.107301900Z"
    }
   },
   "id": "944fcf5efa052d25",
   "execution_count": 53
  },
  {
   "cell_type": "code",
   "outputs": [],
   "source": [
    "lemmatizer = WordNetLemmatizer()\n",
    "new_video_df['Cleaned Title'] = new_video_df['Cleaned Title'].apply(lambda x: [lemmatizer.lemmatize(i) for i in x]).apply(lambda x:' '.join(x))"
   ],
   "metadata": {
    "collapsed": false,
    "ExecuteTime": {
     "end_time": "2024-02-11T23:06:42.690694800Z",
     "start_time": "2024-02-11T22:52:40.479832100Z"
    }
   },
   "id": "614d88fc71c5a2cc",
   "execution_count": 54
  },
  {
   "cell_type": "code",
   "outputs": [
    {
     "data": {
      "text/plain": "                                                    Title  Category_ID  \\\n0                                      want talk marriage           22   \n1       trump presidency last week tonight john oliver...           24   \n2        racist superman rudy mancuso king bach lele pons           23   \n3                             nickelback lyrics real fake           24   \n4                                         dare going bald           24   \n...                                                   ...          ...   \n972273                           survive sun ending world           20   \n972274           chandrayaan launch live sriharikota isro           22   \n972275  pen parkum function most awaited day kanmani b...           26   \n972276  performance itlu mee anjalipavan emotional nee...           24   \n972277  radhakrishn raasleela part shalv ka antt radha...           24   \n\n                                                     Tags  \\\n0                                         shantell martin   \n1       last week tonight trump presidency last week t...   \n2       racist superman rudy mancuso king bach racist ...   \n3       rhett link gmm good mythical morning rhett lin...   \n4       ryan higa higatv nigahiga dare idy rhpc dares ...   \n...                                                   ...   \n972273  adispot adispot adispot adispoot proboiz techn...   \n972274  vlogs vlog indian vlogger flying beast review ...   \n972275  kanmani beauty tips kanmani tamil beuty tips d...   \n972276  chandamama vlog anjali pavan itlu mee anjali p...   \n972277  star bharat star bharat serial star bharat cha...   \n\n                                              Description   Category_Name  \\\n0       shantells channel video lens drone gear camera...  People & Blogs   \n1       one year presidential election john oliver dis...   Entertainment   \n2       watch previous video subscribe watching like s...          Comedy   \n3       today find link nickelback amateur secret nick...   Entertainment   \n4       know since show back might best episode yet le...   Entertainment   \n...                                                   ...             ...   \n972273  survive sun ending worldsocial media instagram...          Gaming   \n972274  vlog isro chandryaan gauravs instagram instagr...  People & Blogs   \n972275  hii friendshope good todays video aboutmy ponn...   Howto & Style   \n972276  anjalipavan neethonedance performance starmaa ...   Entertainment   \n972277  click subscribe star bharat like radhakrishn r...   Entertainment   \n\n                                            Cleaned Title  \n0       want talk marriage shantells lens drone gear c...  \n1       trump presidency last week tonight john oliver...  \n2       racist superman rudy mancuso king bach lele po...  \n3       nickelback lyric real fake today find link nic...  \n4       dare going bald know since show might episode ...  \n...                                                   ...  \n972273  survive sun ending world survive sun ending wo...  \n972274  chandrayaan launch live sriharikota isro vlog ...  \n972275  pen parkum function awaited day kanmani beauty...  \n972276  performance itlu mee anjalipavan emotional nee...  \n972277  radhakrishn raasleela part shalv ka antt radha...  \n\n[972278 rows x 6 columns]",
      "text/html": "<div>\n<style scoped>\n    .dataframe tbody tr th:only-of-type {\n        vertical-align: middle;\n    }\n\n    .dataframe tbody tr th {\n        vertical-align: top;\n    }\n\n    .dataframe thead th {\n        text-align: right;\n    }\n</style>\n<table border=\"1\" class=\"dataframe\">\n  <thead>\n    <tr style=\"text-align: right;\">\n      <th></th>\n      <th>Title</th>\n      <th>Category_ID</th>\n      <th>Tags</th>\n      <th>Description</th>\n      <th>Category_Name</th>\n      <th>Cleaned Title</th>\n    </tr>\n  </thead>\n  <tbody>\n    <tr>\n      <th>0</th>\n      <td>want talk marriage</td>\n      <td>22</td>\n      <td>shantell martin</td>\n      <td>shantells channel video lens drone gear camera...</td>\n      <td>People &amp; Blogs</td>\n      <td>want talk marriage shantells lens drone gear c...</td>\n    </tr>\n    <tr>\n      <th>1</th>\n      <td>trump presidency last week tonight john oliver...</td>\n      <td>24</td>\n      <td>last week tonight trump presidency last week t...</td>\n      <td>one year presidential election john oliver dis...</td>\n      <td>Entertainment</td>\n      <td>trump presidency last week tonight john oliver...</td>\n    </tr>\n    <tr>\n      <th>2</th>\n      <td>racist superman rudy mancuso king bach lele pons</td>\n      <td>23</td>\n      <td>racist superman rudy mancuso king bach racist ...</td>\n      <td>watch previous video subscribe watching like s...</td>\n      <td>Comedy</td>\n      <td>racist superman rudy mancuso king bach lele po...</td>\n    </tr>\n    <tr>\n      <th>3</th>\n      <td>nickelback lyrics real fake</td>\n      <td>24</td>\n      <td>rhett link gmm good mythical morning rhett lin...</td>\n      <td>today find link nickelback amateur secret nick...</td>\n      <td>Entertainment</td>\n      <td>nickelback lyric real fake today find link nic...</td>\n    </tr>\n    <tr>\n      <th>4</th>\n      <td>dare going bald</td>\n      <td>24</td>\n      <td>ryan higa higatv nigahiga dare idy rhpc dares ...</td>\n      <td>know since show back might best episode yet le...</td>\n      <td>Entertainment</td>\n      <td>dare going bald know since show might episode ...</td>\n    </tr>\n    <tr>\n      <th>...</th>\n      <td>...</td>\n      <td>...</td>\n      <td>...</td>\n      <td>...</td>\n      <td>...</td>\n      <td>...</td>\n    </tr>\n    <tr>\n      <th>972273</th>\n      <td>survive sun ending world</td>\n      <td>20</td>\n      <td>adispot adispot adispot adispoot proboiz techn...</td>\n      <td>survive sun ending worldsocial media instagram...</td>\n      <td>Gaming</td>\n      <td>survive sun ending world survive sun ending wo...</td>\n    </tr>\n    <tr>\n      <th>972274</th>\n      <td>chandrayaan launch live sriharikota isro</td>\n      <td>22</td>\n      <td>vlogs vlog indian vlogger flying beast review ...</td>\n      <td>vlog isro chandryaan gauravs instagram instagr...</td>\n      <td>People &amp; Blogs</td>\n      <td>chandrayaan launch live sriharikota isro vlog ...</td>\n    </tr>\n    <tr>\n      <th>972275</th>\n      <td>pen parkum function most awaited day kanmani b...</td>\n      <td>26</td>\n      <td>kanmani beauty tips kanmani tamil beuty tips d...</td>\n      <td>hii friendshope good todays video aboutmy ponn...</td>\n      <td>Howto &amp; Style</td>\n      <td>pen parkum function awaited day kanmani beauty...</td>\n    </tr>\n    <tr>\n      <th>972276</th>\n      <td>performance itlu mee anjalipavan emotional nee...</td>\n      <td>24</td>\n      <td>chandamama vlog anjali pavan itlu mee anjali p...</td>\n      <td>anjalipavan neethonedance performance starmaa ...</td>\n      <td>Entertainment</td>\n      <td>performance itlu mee anjalipavan emotional nee...</td>\n    </tr>\n    <tr>\n      <th>972277</th>\n      <td>radhakrishn raasleela part shalv ka antt radha...</td>\n      <td>24</td>\n      <td>star bharat star bharat serial star bharat cha...</td>\n      <td>click subscribe star bharat like radhakrishn r...</td>\n      <td>Entertainment</td>\n      <td>radhakrishn raasleela part shalv ka antt radha...</td>\n    </tr>\n  </tbody>\n</table>\n<p>972278 rows × 6 columns</p>\n</div>"
     },
     "execution_count": 55,
     "metadata": {},
     "output_type": "execute_result"
    }
   ],
   "source": [
    "new_video_df"
   ],
   "metadata": {
    "collapsed": false,
    "ExecuteTime": {
     "end_time": "2024-02-11T23:06:42.959904200Z",
     "start_time": "2024-02-11T23:06:42.691741700Z"
    }
   },
   "id": "15b38217ea3d4364",
   "execution_count": 55
  },
  {
   "cell_type": "code",
   "outputs": [],
   "source": [
    "# Function to remove two-letter words\n",
    "def remove_two_letter_words(text):\n",
    "    words = text.split()\n",
    "    filtered_words = [word for word in words if len(word) != 2]\n",
    "    return ' '.join(filtered_words)\n",
    "\n",
    "# Apply the function to the specified column\n",
    "new_video_df['Cleaned Title'] = new_video_df['Cleaned Title'].apply(remove_two_letter_words)"
   ],
   "metadata": {
    "collapsed": false,
    "ExecuteTime": {
     "end_time": "2024-02-11T23:13:37.584821900Z",
     "start_time": "2024-02-11T23:13:25.556356Z"
    }
   },
   "id": "24eb1a49185b462c",
   "execution_count": 57
  },
  {
   "cell_type": "code",
   "outputs": [],
   "source": [
    "new_video_df.to_csv('C:/Users/shrey/OneDrive/Desktop/Thesis/3B/Clean_final.csv', index=False)"
   ],
   "metadata": {
    "collapsed": false,
    "ExecuteTime": {
     "end_time": "2024-02-11T23:14:09.773775Z",
     "start_time": "2024-02-11T23:13:42.432953400Z"
    }
   },
   "id": "65bf1ee4d6bb0efd",
   "execution_count": 58
  },
  {
   "cell_type": "code",
   "outputs": [
    {
     "name": "stdout",
     "output_type": "stream",
     "text": [
      "                                                    Title  Category_ID  \\\n",
      "0                                      want talk marriage           22   \n",
      "1       trump presidency last week tonight john oliver...           24   \n",
      "2        racist superman rudy mancuso king bach lele pons           23   \n",
      "3                             nickelback lyrics real fake           24   \n",
      "4                                         dare going bald           24   \n",
      "...                                                   ...          ...   \n",
      "972273                           survive sun ending world           20   \n",
      "972274           chandrayaan launch live sriharikota isro           22   \n",
      "972275  pen parkum function most awaited day kanmani b...           26   \n",
      "972276  performance itlu mee anjalipavan emotional nee...           24   \n",
      "972277  radhakrishn raasleela part shalv ka antt radha...           24   \n",
      "\n",
      "                                                     Tags  \\\n",
      "0                                         shantell martin   \n",
      "1       last week tonight trump presidency last week t...   \n",
      "2       racist superman rudy mancuso king bach racist ...   \n",
      "3       rhett link gmm good mythical morning rhett lin...   \n",
      "4       ryan higa higatv nigahiga dare idy rhpc dares ...   \n",
      "...                                                   ...   \n",
      "972273  adispot adispot adispot adispoot proboiz techn...   \n",
      "972274  vlogs vlog indian vlogger flying beast review ...   \n",
      "972275  kanmani beauty tips kanmani tamil beuty tips d...   \n",
      "972276  chandamama vlog anjali pavan itlu mee anjali p...   \n",
      "972277  star bharat star bharat serial star bharat cha...   \n",
      "\n",
      "                                              Description   Category_Name  \\\n",
      "0       shantells channel video lens drone gear camera...  People & Blogs   \n",
      "1       one year presidential election john oliver dis...   Entertainment   \n",
      "2       watch previous video subscribe watching like s...          Comedy   \n",
      "3       today find link nickelback amateur secret nick...   Entertainment   \n",
      "4       know since show back might best episode yet le...   Entertainment   \n",
      "...                                                   ...             ...   \n",
      "972273  survive sun ending worldsocial media instagram...          Gaming   \n",
      "972274  vlog isro chandryaan gauravs instagram instagr...  People & Blogs   \n",
      "972275  hii friendshope good todays video aboutmy ponn...   Howto & Style   \n",
      "972276  anjalipavan neethonedance performance starmaa ...   Entertainment   \n",
      "972277  click subscribe star bharat like radhakrishn r...   Entertainment   \n",
      "\n",
      "                                            Cleaned Title  \n",
      "0       want talk marriage shantells shantell lens dro...  \n",
      "1       trump presidency last week tonight john oliver...  \n",
      "2       racist superman rudy mancuso king bach lele po...  \n",
      "3       nickelback lyric real fake today find link ama...  \n",
      "4       dare going bald know since show might episode ...  \n",
      "...                                                   ...  \n",
      "972273  survive sun ending world worldsocial medium qu...  \n",
      "972274  chandrayaan launch live sriharikota isro vlog ...  \n",
      "972275  pen parkum function awaited day kanmani beauty...  \n",
      "972276  performance itlu mee anjali anjalipavan pavan ...  \n",
      "972277  radha radhakrishn krishn raasleela raas part s...  \n",
      "\n",
      "[972278 rows x 6 columns]\n"
     ]
    }
   ],
   "source": [
    "new_video_df['Cleaned Title'] = new_video_df['Cleaned Title'].apply(lambda x: ' '.join(sorted(set(x.split()), key=x.index)))\n",
    "\n",
    "# Display the DataFrame to check the result\n",
    "print(new_video_df)"
   ],
   "metadata": {
    "collapsed": false,
    "ExecuteTime": {
     "end_time": "2024-02-13T01:25:46.987477700Z",
     "start_time": "2024-02-13T01:24:40.798241Z"
    }
   },
   "id": "62869d8e2e930eaa",
   "execution_count": 60
  },
  {
   "cell_type": "code",
   "outputs": [],
   "source": [
    "new_video_df.to_csv('C:/Users/shrey/OneDrive/Desktop/Thesis/3B/Clean_finale.csv', index=False)"
   ],
   "metadata": {
    "collapsed": false,
    "ExecuteTime": {
     "end_time": "2024-02-13T01:31:24.653562900Z",
     "start_time": "2024-02-13T01:30:39.830254400Z"
    }
   },
   "id": "eba91a04d5722146",
   "execution_count": 62
  },
  {
   "cell_type": "code",
   "outputs": [],
   "source": [],
   "metadata": {
    "collapsed": false
   },
   "id": "eb9f2436271c343"
  }
 ],
 "metadata": {
  "kernelspec": {
   "display_name": "Python 3",
   "language": "python",
   "name": "python3"
  },
  "language_info": {
   "codemirror_mode": {
    "name": "ipython",
    "version": 2
   },
   "file_extension": ".py",
   "mimetype": "text/x-python",
   "name": "python",
   "nbconvert_exporter": "python",
   "pygments_lexer": "ipython2",
   "version": "2.7.6"
  }
 },
 "nbformat": 4,
 "nbformat_minor": 5
}
