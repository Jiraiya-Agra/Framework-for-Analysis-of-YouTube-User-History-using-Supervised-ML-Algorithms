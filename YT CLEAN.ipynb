{
 "cells": [
  {
   "cell_type": "code",
   "execution_count": 50,
   "id": "initial_id",
   "metadata": {
    "collapsed": true,
    "ExecuteTime": {
     "end_time": "2024-02-13T23:11:07.473141500Z",
     "start_time": "2024-02-13T23:11:06.535623400Z"
    }
   },
   "outputs": [
    {
     "name": "stderr",
     "output_type": "stream",
     "text": [
      "[nltk_data] Downloading package stopwords to\n",
      "[nltk_data]     C:\\Users\\shrey\\AppData\\Roaming\\nltk_data...\n",
      "[nltk_data]   Package stopwords is already up-to-date!\n",
      "[nltk_data] Downloading package punkt to\n",
      "[nltk_data]     C:\\Users\\shrey\\AppData\\Roaming\\nltk_data...\n",
      "[nltk_data]   Package punkt is already up-to-date!\n",
      "[nltk_data] Downloading package words to\n",
      "[nltk_data]     C:\\Users\\shrey\\AppData\\Roaming\\nltk_data...\n",
      "[nltk_data]   Package words is already up-to-date!\n",
      "[nltk_data] Downloading package wordnet to\n",
      "[nltk_data]     C:\\Users\\shrey\\AppData\\Roaming\\nltk_data...\n",
      "[nltk_data]   Package wordnet is already up-to-date!\n",
      "[nltk_data] Downloading package omw-1.4 to\n",
      "[nltk_data]     C:\\Users\\shrey\\AppData\\Roaming\\nltk_data...\n",
      "[nltk_data]   Package omw-1.4 is already up-to-date!\n"
     ]
    }
   ],
   "source": [
    "from joblib import load\n",
    "from UTILITIES import global_df_4\n",
    "import nltk\n",
    "nltk.download('stopwords')\n",
    "nltk.download('punkt')\n",
    "nltk.download('words')\n",
    "nltk.download('wordnet')\n",
    "nltk.download('omw-1.4')\n",
    "from tqdm.notebook import tqdm\n",
    "tqdm.pandas()\n",
    "\n",
    "from nltk.corpus import stopwords\n",
    "stop = stopwords.words('english')\n",
    "from nltk.stem import WordNetLemmatizer\n",
    "import json\n",
    "from UTILITIES import read_multiple_csv_files\n",
    "import re, string\n",
    "import pandas as pd  # data processing, CSV file I/O (e.g. pd.read_csv)"
   ]
  },
  {
   "cell_type": "code",
   "outputs": [
    {
     "name": "stdout",
     "output_type": "stream",
     "text": [
      "                                         Video Title        Category  \\\n",
      "0  Labrinth - When I R.I.P. (Euphoria Live Perfor...  People & Blogs   \n",
      "1            EMIWAY - COMPANY (OFFICIAL MUSIC VIDEO)           Music   \n",
      "2  EMIWAY - KYA BOLTI PUBLIC ft.YOUNG GALIB (PROD...           Music   \n",
      "3  MC STΔN - KAL HAI MERA SHOW (Official Video) |...           Music   \n",
      "4  MC STΔN  X @KSHMRmusic    HAATH VARTHI  (Offic...           Music   \n",
      "\n",
      "   Category ID                                        Description  \\\n",
      "0           22  Labrinth performs \"When I R.I.P.\" from Euphori...   \n",
      "1           10  From Album - KOTS (King of the Streets)\\n\\nAud...   \n",
      "2           10  From Album - KOTS (King of the Streets)\\n\\nAud...   \n",
      "3           10  Humanity was and will always be above all. Hum...   \n",
      "4           10  “ HAATH VARTHI “ OUT NOW 🔥💯👇🏼 ( Official Music...   \n",
      "\n",
      "                                                Tags Duration  View Count  \\\n",
      "0  ['remix', 'live', 'acoustic', 'cover', 'karaok...  PT2M56S     3373725   \n",
      "1  ['emiway bantai', 'emiway guess', 'emiway new ...  PT3M50S   196106811   \n",
      "2  ['emiway bantai', 'emiway', 'emiway new song',...  PT2M24S     7945140   \n",
      "3  ['MC Stan', 'MC stan', 'desi hip hip', 'dhh', ...  PT2M30S    16544446   \n",
      "4  ['mc stan', 'rap', 'haath varthi', 'haath vart...  PT2M30S    56903414   \n",
      "\n",
      "   Like Count  Comment Count                                     titleUrl  \n",
      "0       79735            692  https://www.youtube.com/watch?v=OsD1SJKtO9U  \n",
      "1     4019772         195664  https://www.youtube.com/watch?v=GuGYYdwcPYw  \n",
      "2      468266          31100  https://www.youtube.com/watch?v=uMcU5qVz9YE  \n",
      "3     1002149          40487  https://www.youtube.com/watch?v=0ws4JuK5Lwg  \n",
      "4     2111789         123668  https://www.youtube.com/watch?v=pg2tsJErYH4  \n"
     ]
    }
   ],
   "source": [
    "# 1. Reading multiple CSV files for the dataset with trending videos from 2017-2018 for US, CA, GB, IN.\n",
    "# List of file paths to read:\n",
    "file_paths = [\n",
    "    \"C:/Users/shrey/OneDrive/Desktop/Thesis/9A/YT_final1.csv\",\n",
    "    \"C:/Users/shrey/OneDrive/Desktop/Thesis/9A/YT_final2.csv\",\n",
    "    \"C:/Users/shrey/OneDrive/Desktop/Thesis/9A/YT_final3.csv\",\n",
    "    \"C:/Users/shrey/OneDrive/Desktop/Thesis/9A/YT_final4.csv\",\n",
    "    \"C:/Users/shrey/OneDrive/Desktop/Thesis/9A/YT_final5.csv\"\n",
    "]\n",
    "\n",
    "# Reading and combining multiple files into a single DataFrame\n",
    "df1 = read_multiple_csv_files(file_paths)\n",
    "\n",
    "# Displays the first 5 rows of the combined DataFrame\n",
    "print(df1.head())"
   ],
   "metadata": {
    "collapsed": false,
    "ExecuteTime": {
     "end_time": "2024-02-13T23:11:12.131773800Z",
     "start_time": "2024-02-13T23:11:09.415772600Z"
    }
   },
   "id": "d853b113b1f1475",
   "execution_count": 51
  },
  {
   "cell_type": "code",
   "outputs": [],
   "source": [
    "df1.to_csv('C:/Users/shrey/OneDrive/Desktop/Thesis/9A/YT_final.csv', index=False)"
   ],
   "metadata": {
    "collapsed": false,
    "ExecuteTime": {
     "end_time": "2024-02-13T23:11:18.687781700Z",
     "start_time": "2024-02-13T23:11:17.405386100Z"
    }
   },
   "id": "b2eb2febb9c18b92",
   "execution_count": 52
  },
  {
   "cell_type": "code",
   "outputs": [
    {
     "data": {
      "text/plain": "                                             Video Title        Category  \\\n0      Labrinth - When I R.I.P. (Euphoria Live Perfor...  People & Blogs   \n1                EMIWAY - COMPANY (OFFICIAL MUSIC VIDEO)           Music   \n2      EMIWAY - KYA BOLTI PUBLIC ft.YOUNG GALIB (PROD...           Music   \n3      MC STΔN - KAL HAI MERA SHOW (Official Video) |...           Music   \n4      MC STΔN  X @KSHMRmusic    HAATH VARTHI  (Offic...           Music   \n...                                                  ...             ...   \n38921  The Chainsmokers & Coldplay - Something Just L...           Music   \n38922                     Shameless - The Weeknd (cover)           Music   \n38923        AIB Podcast : 2 Million Celebration Podcast   Entertainment   \n38924                          BEST THING ON THIS PLANET          Comedy   \n38925                                          E.X.A.M.S          Comedy   \n\n       Category ID                                        Description  \\\n0               22  Labrinth performs \"When I R.I.P.\" from Euphori...   \n1               10  From Album - KOTS (King of the Streets)\\n\\nAud...   \n2               10  From Album - KOTS (King of the Streets)\\n\\nAud...   \n3               10  Humanity was and will always be above all. Hum...   \n4               10  “ HAATH VARTHI “ OUT NOW 🔥💯👇🏼 ( Official Music...   \n...            ...                                                ...   \n38921           10  The Chainsmokers & Coldplay - Something Just L...   \n38922           10  The Weeknds next single if it was up to me !! ...   \n38923           24  A look back at our YouTube journey. Hugs and p...   \n38924           23  BHAGO HAIWAAN AAYA!\\n\\nCensorship by Ocus Gami...   \n38925           23  Everybody Good Luck for your Exams!\\n#Marnanah...   \n\n                                                    Tags  Duration  \\\n0      ['remix', 'live', 'acoustic', 'cover', 'karaok...   PT2M56S   \n1      ['emiway bantai', 'emiway guess', 'emiway new ...   PT3M50S   \n2      ['emiway bantai', 'emiway', 'emiway new song',...   PT2M24S   \n3      ['MC Stan', 'MC stan', 'desi hip hip', 'dhh', ...   PT2M30S   \n4      ['mc stan', 'rap', 'haath varthi', 'haath vart...   PT2M30S   \n...                                                  ...       ...   \n38921  ['The Chainsmokers', 'Coldplay', 'Something Ju...   PT2M58S   \n38922  ['Shameless', 'The Weeknd (Musical Artist)', '...   PT2M56S   \n38923  ['All India Bakchod', 'AIB', 'AllIndiaBakchod'...  PT45M17S   \n38924  ['CarryMinati', 'Carry', 'Indian', 'youtuber',...    PT9M2S   \n38925  ['CarryMinati', 'Carry', 'Indian', 'youtuber',...   PT8M32S   \n\n       View Count  Like Count  Comment Count  \\\n0         3373725       79735            692   \n1       196106811     4019772         195664   \n2         7945140      468266          31100   \n3        16544446     1002149          40487   \n4        56903414     2111789         123668   \n...           ...         ...            ...   \n38921      410190        8580            457   \n38922    14829209      165795           2898   \n38923     1694453       41355           2130   \n38924     8105070      587971          12206   \n38925    14478816      995018          22046   \n\n                                          titleUrl  \n0      https://www.youtube.com/watch?v=OsD1SJKtO9U  \n1      https://www.youtube.com/watch?v=GuGYYdwcPYw  \n2      https://www.youtube.com/watch?v=uMcU5qVz9YE  \n3      https://www.youtube.com/watch?v=0ws4JuK5Lwg  \n4      https://www.youtube.com/watch?v=pg2tsJErYH4  \n...                                            ...  \n38921  https://www.youtube.com/watch?v=-oO-MlSjsUE  \n38922  https://www.youtube.com/watch?v=DXEj_IZmUKU  \n38923  https://www.youtube.com/watch?v=N5c9ZmaGu58  \n38924  https://www.youtube.com/watch?v=vuuA-Gk4tY4  \n38925  https://www.youtube.com/watch?v=oilFiLwY4Ks  \n\n[38926 rows x 10 columns]",
      "text/html": "<div>\n<style scoped>\n    .dataframe tbody tr th:only-of-type {\n        vertical-align: middle;\n    }\n\n    .dataframe tbody tr th {\n        vertical-align: top;\n    }\n\n    .dataframe thead th {\n        text-align: right;\n    }\n</style>\n<table border=\"1\" class=\"dataframe\">\n  <thead>\n    <tr style=\"text-align: right;\">\n      <th></th>\n      <th>Video Title</th>\n      <th>Category</th>\n      <th>Category ID</th>\n      <th>Description</th>\n      <th>Tags</th>\n      <th>Duration</th>\n      <th>View Count</th>\n      <th>Like Count</th>\n      <th>Comment Count</th>\n      <th>titleUrl</th>\n    </tr>\n  </thead>\n  <tbody>\n    <tr>\n      <th>0</th>\n      <td>Labrinth - When I R.I.P. (Euphoria Live Perfor...</td>\n      <td>People &amp; Blogs</td>\n      <td>22</td>\n      <td>Labrinth performs \"When I R.I.P.\" from Euphori...</td>\n      <td>['remix', 'live', 'acoustic', 'cover', 'karaok...</td>\n      <td>PT2M56S</td>\n      <td>3373725</td>\n      <td>79735</td>\n      <td>692</td>\n      <td>https://www.youtube.com/watch?v=OsD1SJKtO9U</td>\n    </tr>\n    <tr>\n      <th>1</th>\n      <td>EMIWAY - COMPANY (OFFICIAL MUSIC VIDEO)</td>\n      <td>Music</td>\n      <td>10</td>\n      <td>From Album - KOTS (King of the Streets)\\n\\nAud...</td>\n      <td>['emiway bantai', 'emiway guess', 'emiway new ...</td>\n      <td>PT3M50S</td>\n      <td>196106811</td>\n      <td>4019772</td>\n      <td>195664</td>\n      <td>https://www.youtube.com/watch?v=GuGYYdwcPYw</td>\n    </tr>\n    <tr>\n      <th>2</th>\n      <td>EMIWAY - KYA BOLTI PUBLIC ft.YOUNG GALIB (PROD...</td>\n      <td>Music</td>\n      <td>10</td>\n      <td>From Album - KOTS (King of the Streets)\\n\\nAud...</td>\n      <td>['emiway bantai', 'emiway', 'emiway new song',...</td>\n      <td>PT2M24S</td>\n      <td>7945140</td>\n      <td>468266</td>\n      <td>31100</td>\n      <td>https://www.youtube.com/watch?v=uMcU5qVz9YE</td>\n    </tr>\n    <tr>\n      <th>3</th>\n      <td>MC STΔN - KAL HAI MERA SHOW (Official Video) |...</td>\n      <td>Music</td>\n      <td>10</td>\n      <td>Humanity was and will always be above all. Hum...</td>\n      <td>['MC Stan', 'MC stan', 'desi hip hip', 'dhh', ...</td>\n      <td>PT2M30S</td>\n      <td>16544446</td>\n      <td>1002149</td>\n      <td>40487</td>\n      <td>https://www.youtube.com/watch?v=0ws4JuK5Lwg</td>\n    </tr>\n    <tr>\n      <th>4</th>\n      <td>MC STΔN  X @KSHMRmusic    HAATH VARTHI  (Offic...</td>\n      <td>Music</td>\n      <td>10</td>\n      <td>“ HAATH VARTHI “ OUT NOW 🔥💯👇🏼 ( Official Music...</td>\n      <td>['mc stan', 'rap', 'haath varthi', 'haath vart...</td>\n      <td>PT2M30S</td>\n      <td>56903414</td>\n      <td>2111789</td>\n      <td>123668</td>\n      <td>https://www.youtube.com/watch?v=pg2tsJErYH4</td>\n    </tr>\n    <tr>\n      <th>...</th>\n      <td>...</td>\n      <td>...</td>\n      <td>...</td>\n      <td>...</td>\n      <td>...</td>\n      <td>...</td>\n      <td>...</td>\n      <td>...</td>\n      <td>...</td>\n      <td>...</td>\n    </tr>\n    <tr>\n      <th>38921</th>\n      <td>The Chainsmokers &amp; Coldplay - Something Just L...</td>\n      <td>Music</td>\n      <td>10</td>\n      <td>The Chainsmokers &amp; Coldplay - Something Just L...</td>\n      <td>['The Chainsmokers', 'Coldplay', 'Something Ju...</td>\n      <td>PT2M58S</td>\n      <td>410190</td>\n      <td>8580</td>\n      <td>457</td>\n      <td>https://www.youtube.com/watch?v=-oO-MlSjsUE</td>\n    </tr>\n    <tr>\n      <th>38922</th>\n      <td>Shameless - The Weeknd (cover)</td>\n      <td>Music</td>\n      <td>10</td>\n      <td>The Weeknds next single if it was up to me !! ...</td>\n      <td>['Shameless', 'The Weeknd (Musical Artist)', '...</td>\n      <td>PT2M56S</td>\n      <td>14829209</td>\n      <td>165795</td>\n      <td>2898</td>\n      <td>https://www.youtube.com/watch?v=DXEj_IZmUKU</td>\n    </tr>\n    <tr>\n      <th>38923</th>\n      <td>AIB Podcast : 2 Million Celebration Podcast</td>\n      <td>Entertainment</td>\n      <td>24</td>\n      <td>A look back at our YouTube journey. Hugs and p...</td>\n      <td>['All India Bakchod', 'AIB', 'AllIndiaBakchod'...</td>\n      <td>PT45M17S</td>\n      <td>1694453</td>\n      <td>41355</td>\n      <td>2130</td>\n      <td>https://www.youtube.com/watch?v=N5c9ZmaGu58</td>\n    </tr>\n    <tr>\n      <th>38924</th>\n      <td>BEST THING ON THIS PLANET</td>\n      <td>Comedy</td>\n      <td>23</td>\n      <td>BHAGO HAIWAAN AAYA!\\n\\nCensorship by Ocus Gami...</td>\n      <td>['CarryMinati', 'Carry', 'Indian', 'youtuber',...</td>\n      <td>PT9M2S</td>\n      <td>8105070</td>\n      <td>587971</td>\n      <td>12206</td>\n      <td>https://www.youtube.com/watch?v=vuuA-Gk4tY4</td>\n    </tr>\n    <tr>\n      <th>38925</th>\n      <td>E.X.A.M.S</td>\n      <td>Comedy</td>\n      <td>23</td>\n      <td>Everybody Good Luck for your Exams!\\n#Marnanah...</td>\n      <td>['CarryMinati', 'Carry', 'Indian', 'youtuber',...</td>\n      <td>PT8M32S</td>\n      <td>14478816</td>\n      <td>995018</td>\n      <td>22046</td>\n      <td>https://www.youtube.com/watch?v=oilFiLwY4Ks</td>\n    </tr>\n  </tbody>\n</table>\n<p>38926 rows × 10 columns</p>\n</div>"
     },
     "execution_count": 53,
     "metadata": {},
     "output_type": "execute_result"
    }
   ],
   "source": [
    "df1"
   ],
   "metadata": {
    "collapsed": false,
    "ExecuteTime": {
     "end_time": "2024-02-13T23:11:25.565822900Z",
     "start_time": "2024-02-13T23:11:25.495751100Z"
    }
   },
   "id": "2893f49c0e76407b",
   "execution_count": 53
  },
  {
   "cell_type": "code",
   "outputs": [
    {
     "name": "stdout",
     "output_type": "stream",
     "text": [
      "                                         Video Title        Category  \\\n",
      "0  Labrinth - When I R.I.P. (Euphoria Live Perfor...  People & Blogs   \n",
      "1            EMIWAY - COMPANY (OFFICIAL MUSIC VIDEO)           Music   \n",
      "2  EMIWAY - KYA BOLTI PUBLIC ft.YOUNG GALIB (PROD...           Music   \n",
      "3  MC STΔN - KAL HAI MERA SHOW (Official Video) |...           Music   \n",
      "4  MC STΔN  X @KSHMRmusic    HAATH VARTHI  (Offic...           Music   \n",
      "\n",
      "   Category ID                                        Description  \\\n",
      "0           22  Labrinth performs \"When I R.I.P.\" from Euphori...   \n",
      "1           10  From Album - KOTS (King of the Streets)\\n\\nAud...   \n",
      "2           10  From Album - KOTS (King of the Streets)\\n\\nAud...   \n",
      "3           10  Humanity was and will always be above all. Hum...   \n",
      "4           10  “ HAATH VARTHI “ OUT NOW 🔥💯👇🏼 ( Official Music...   \n",
      "\n",
      "                                                Tags  \\\n",
      "0  ['remix', 'live', 'acoustic', 'cover', 'karaok...   \n",
      "1  ['emiway bantai', 'emiway guess', 'emiway new ...   \n",
      "2  ['emiway bantai', 'emiway', 'emiway new song',...   \n",
      "3  ['MC Stan', 'MC stan', 'desi hip hip', 'dhh', ...   \n",
      "4  ['mc stan', 'rap', 'haath varthi', 'haath vart...   \n",
      "\n",
      "                                      titleUrl  \n",
      "0  https://www.youtube.com/watch?v=OsD1SJKtO9U  \n",
      "1  https://www.youtube.com/watch?v=GuGYYdwcPYw  \n",
      "2  https://www.youtube.com/watch?v=uMcU5qVz9YE  \n",
      "3  https://www.youtube.com/watch?v=0ws4JuK5Lwg  \n",
      "4  https://www.youtube.com/watch?v=pg2tsJErYH4  \n"
     ]
    }
   ],
   "source": [
    "# 1. Reading multiple CSV files for the dataset with trending videos from 2017-2018 for US, CA, GB, IN.\n",
    "# List of file paths to read:\n",
    "file_paths = [\n",
    "    \"C:/Users/shrey/OneDrive/Desktop/Thesis/9A/YT_finale1.csv\",\n",
    "    \"C:/Users/shrey/OneDrive/Desktop/Thesis/9A/YT_finale2.csv\",\n",
    "    \"C:/Users/shrey/OneDrive/Desktop/Thesis/9A/YT_finale3.csv\",\n",
    "    \"C:/Users/shrey/OneDrive/Desktop/Thesis/9A/YT_finale4.csv\",\n",
    "    \"C:/Users/shrey/OneDrive/Desktop/Thesis/9A/YT_finale5.csv\"\n",
    "]\n",
    "\n",
    "# Reading and combining multiple files into a single DataFrame\n",
    "df2 = read_multiple_csv_files(file_paths)\n",
    "\n",
    "# Displays the first 5 rows of the combined DataFrame\n",
    "print(df2.head())"
   ],
   "metadata": {
    "collapsed": false,
    "ExecuteTime": {
     "end_time": "2024-02-13T23:11:32.869124600Z",
     "start_time": "2024-02-13T23:11:31.422225Z"
    }
   },
   "id": "376579c7ad6a4ae7",
   "execution_count": 54
  },
  {
   "cell_type": "code",
   "outputs": [],
   "source": [
    "df2.to_csv('C:/Users/shrey/OneDrive/Desktop/Thesis/9A/YT_finale.csv', index=False)"
   ],
   "metadata": {
    "collapsed": false,
    "ExecuteTime": {
     "end_time": "2024-02-13T23:11:47.497250400Z",
     "start_time": "2024-02-13T23:11:46.136939100Z"
    }
   },
   "id": "4a54f56f32bddc60",
   "execution_count": 55
  },
  {
   "cell_type": "code",
   "outputs": [
    {
     "data": {
      "text/plain": "                                             Video Title        Category  \\\n0      Labrinth - When I R.I.P. (Euphoria Live Perfor...  People & Blogs   \n1                EMIWAY - COMPANY (OFFICIAL MUSIC VIDEO)           Music   \n2      EMIWAY - KYA BOLTI PUBLIC ft.YOUNG GALIB (PROD...           Music   \n3      MC STΔN - KAL HAI MERA SHOW (Official Video) |...           Music   \n4      MC STΔN  X @KSHMRmusic    HAATH VARTHI  (Offic...           Music   \n...                                                  ...             ...   \n38921  The Chainsmokers & Coldplay - Something Just L...           Music   \n38922                     Shameless - The Weeknd (cover)           Music   \n38923        AIB Podcast : 2 Million Celebration Podcast   Entertainment   \n38924                          BEST THING ON THIS PLANET          Comedy   \n38925                                          E.X.A.M.S          Comedy   \n\n       Category ID                                        Description  \\\n0               22  Labrinth performs \"When I R.I.P.\" from Euphori...   \n1               10  From Album - KOTS (King of the Streets)\\n\\nAud...   \n2               10  From Album - KOTS (King of the Streets)\\n\\nAud...   \n3               10  Humanity was and will always be above all. Hum...   \n4               10  “ HAATH VARTHI “ OUT NOW 🔥💯👇🏼 ( Official Music...   \n...            ...                                                ...   \n38921           10  The Chainsmokers & Coldplay - Something Just L...   \n38922           10  The Weeknds next single if it was up to me !! ...   \n38923           24  A look back at our YouTube journey. Hugs and p...   \n38924           23  BHAGO HAIWAAN AAYA!\\n\\nCensorship by Ocus Gami...   \n38925           23  Everybody Good Luck for your Exams!\\n#Marnanah...   \n\n                                                    Tags  \\\n0      ['remix', 'live', 'acoustic', 'cover', 'karaok...   \n1      ['emiway bantai', 'emiway guess', 'emiway new ...   \n2      ['emiway bantai', 'emiway', 'emiway new song',...   \n3      ['MC Stan', 'MC stan', 'desi hip hip', 'dhh', ...   \n4      ['mc stan', 'rap', 'haath varthi', 'haath vart...   \n...                                                  ...   \n38921  ['The Chainsmokers', 'Coldplay', 'Something Ju...   \n38922  ['Shameless', 'The Weeknd (Musical Artist)', '...   \n38923  ['All India Bakchod', 'AIB', 'AllIndiaBakchod'...   \n38924  ['CarryMinati', 'Carry', 'Indian', 'youtuber',...   \n38925  ['CarryMinati', 'Carry', 'Indian', 'youtuber',...   \n\n                                          titleUrl  \n0      https://www.youtube.com/watch?v=OsD1SJKtO9U  \n1      https://www.youtube.com/watch?v=GuGYYdwcPYw  \n2      https://www.youtube.com/watch?v=uMcU5qVz9YE  \n3      https://www.youtube.com/watch?v=0ws4JuK5Lwg  \n4      https://www.youtube.com/watch?v=pg2tsJErYH4  \n...                                            ...  \n38921  https://www.youtube.com/watch?v=-oO-MlSjsUE  \n38922  https://www.youtube.com/watch?v=DXEj_IZmUKU  \n38923  https://www.youtube.com/watch?v=N5c9ZmaGu58  \n38924  https://www.youtube.com/watch?v=vuuA-Gk4tY4  \n38925  https://www.youtube.com/watch?v=oilFiLwY4Ks  \n\n[38926 rows x 6 columns]",
      "text/html": "<div>\n<style scoped>\n    .dataframe tbody tr th:only-of-type {\n        vertical-align: middle;\n    }\n\n    .dataframe tbody tr th {\n        vertical-align: top;\n    }\n\n    .dataframe thead th {\n        text-align: right;\n    }\n</style>\n<table border=\"1\" class=\"dataframe\">\n  <thead>\n    <tr style=\"text-align: right;\">\n      <th></th>\n      <th>Video Title</th>\n      <th>Category</th>\n      <th>Category ID</th>\n      <th>Description</th>\n      <th>Tags</th>\n      <th>titleUrl</th>\n    </tr>\n  </thead>\n  <tbody>\n    <tr>\n      <th>0</th>\n      <td>Labrinth - When I R.I.P. (Euphoria Live Perfor...</td>\n      <td>People &amp; Blogs</td>\n      <td>22</td>\n      <td>Labrinth performs \"When I R.I.P.\" from Euphori...</td>\n      <td>['remix', 'live', 'acoustic', 'cover', 'karaok...</td>\n      <td>https://www.youtube.com/watch?v=OsD1SJKtO9U</td>\n    </tr>\n    <tr>\n      <th>1</th>\n      <td>EMIWAY - COMPANY (OFFICIAL MUSIC VIDEO)</td>\n      <td>Music</td>\n      <td>10</td>\n      <td>From Album - KOTS (King of the Streets)\\n\\nAud...</td>\n      <td>['emiway bantai', 'emiway guess', 'emiway new ...</td>\n      <td>https://www.youtube.com/watch?v=GuGYYdwcPYw</td>\n    </tr>\n    <tr>\n      <th>2</th>\n      <td>EMIWAY - KYA BOLTI PUBLIC ft.YOUNG GALIB (PROD...</td>\n      <td>Music</td>\n      <td>10</td>\n      <td>From Album - KOTS (King of the Streets)\\n\\nAud...</td>\n      <td>['emiway bantai', 'emiway', 'emiway new song',...</td>\n      <td>https://www.youtube.com/watch?v=uMcU5qVz9YE</td>\n    </tr>\n    <tr>\n      <th>3</th>\n      <td>MC STΔN - KAL HAI MERA SHOW (Official Video) |...</td>\n      <td>Music</td>\n      <td>10</td>\n      <td>Humanity was and will always be above all. Hum...</td>\n      <td>['MC Stan', 'MC stan', 'desi hip hip', 'dhh', ...</td>\n      <td>https://www.youtube.com/watch?v=0ws4JuK5Lwg</td>\n    </tr>\n    <tr>\n      <th>4</th>\n      <td>MC STΔN  X @KSHMRmusic    HAATH VARTHI  (Offic...</td>\n      <td>Music</td>\n      <td>10</td>\n      <td>“ HAATH VARTHI “ OUT NOW 🔥💯👇🏼 ( Official Music...</td>\n      <td>['mc stan', 'rap', 'haath varthi', 'haath vart...</td>\n      <td>https://www.youtube.com/watch?v=pg2tsJErYH4</td>\n    </tr>\n    <tr>\n      <th>...</th>\n      <td>...</td>\n      <td>...</td>\n      <td>...</td>\n      <td>...</td>\n      <td>...</td>\n      <td>...</td>\n    </tr>\n    <tr>\n      <th>38921</th>\n      <td>The Chainsmokers &amp; Coldplay - Something Just L...</td>\n      <td>Music</td>\n      <td>10</td>\n      <td>The Chainsmokers &amp; Coldplay - Something Just L...</td>\n      <td>['The Chainsmokers', 'Coldplay', 'Something Ju...</td>\n      <td>https://www.youtube.com/watch?v=-oO-MlSjsUE</td>\n    </tr>\n    <tr>\n      <th>38922</th>\n      <td>Shameless - The Weeknd (cover)</td>\n      <td>Music</td>\n      <td>10</td>\n      <td>The Weeknds next single if it was up to me !! ...</td>\n      <td>['Shameless', 'The Weeknd (Musical Artist)', '...</td>\n      <td>https://www.youtube.com/watch?v=DXEj_IZmUKU</td>\n    </tr>\n    <tr>\n      <th>38923</th>\n      <td>AIB Podcast : 2 Million Celebration Podcast</td>\n      <td>Entertainment</td>\n      <td>24</td>\n      <td>A look back at our YouTube journey. Hugs and p...</td>\n      <td>['All India Bakchod', 'AIB', 'AllIndiaBakchod'...</td>\n      <td>https://www.youtube.com/watch?v=N5c9ZmaGu58</td>\n    </tr>\n    <tr>\n      <th>38924</th>\n      <td>BEST THING ON THIS PLANET</td>\n      <td>Comedy</td>\n      <td>23</td>\n      <td>BHAGO HAIWAAN AAYA!\\n\\nCensorship by Ocus Gami...</td>\n      <td>['CarryMinati', 'Carry', 'Indian', 'youtuber',...</td>\n      <td>https://www.youtube.com/watch?v=vuuA-Gk4tY4</td>\n    </tr>\n    <tr>\n      <th>38925</th>\n      <td>E.X.A.M.S</td>\n      <td>Comedy</td>\n      <td>23</td>\n      <td>Everybody Good Luck for your Exams!\\n#Marnanah...</td>\n      <td>['CarryMinati', 'Carry', 'Indian', 'youtuber',...</td>\n      <td>https://www.youtube.com/watch?v=oilFiLwY4Ks</td>\n    </tr>\n  </tbody>\n</table>\n<p>38926 rows × 6 columns</p>\n</div>"
     },
     "execution_count": 56,
     "metadata": {},
     "output_type": "execute_result"
    }
   ],
   "source": [
    "df2"
   ],
   "metadata": {
    "collapsed": false,
    "ExecuteTime": {
     "end_time": "2024-02-13T23:11:50.444621100Z",
     "start_time": "2024-02-13T23:11:49.361091200Z"
    }
   },
   "id": "41a6c6344a2004c0",
   "execution_count": 56
  },
  {
   "cell_type": "code",
   "outputs": [],
   "source": [
    "def remove_punctuation(text):\n",
    "    return text.translate(str.maketrans('', '', string.punctuation))\n",
    "\n",
    "# Apply the function to the Title column in your data frame\n",
    "df2['Video Title'] = df2['Video Title'].apply(remove_punctuation)"
   ],
   "metadata": {
    "collapsed": false,
    "ExecuteTime": {
     "end_time": "2024-02-13T23:12:01.803439600Z",
     "start_time": "2024-02-13T23:12:01.666462400Z"
    }
   },
   "id": "93cb88ccfd641f20",
   "execution_count": 57
  },
  {
   "cell_type": "code",
   "outputs": [],
   "source": [
    "# Convert the Title column to lowercase\n",
    "df2['Video Title'] = df2['Video Title'].str.lower()"
   ],
   "metadata": {
    "collapsed": false,
    "ExecuteTime": {
     "end_time": "2024-02-13T23:12:02.474224400Z",
     "start_time": "2024-02-13T23:12:02.439521300Z"
    }
   },
   "id": "d7c3559c90d88a74",
   "execution_count": 58
  },
  {
   "cell_type": "code",
   "outputs": [],
   "source": [
    "# Load the NLTK stop word list\n",
    "stop_words = nltk.corpus.stopwords.words('english')\n",
    "\n",
    "# Remove stop words from the Title column\n",
    "def remove_stop_words(text):\n",
    "    return [word for word in text.split() if word not in stop_words]\n",
    "\n",
    "# Apply the function to the Title column in your data frame\n",
    "df2['Video Title'] = df2['Video Title'].apply(remove_stop_words)"
   ],
   "metadata": {
    "collapsed": false,
    "ExecuteTime": {
     "end_time": "2024-02-13T23:12:04.054294Z",
     "start_time": "2024-02-13T23:12:03.189393900Z"
    }
   },
   "id": "c7d8c758bf015d55",
   "execution_count": 59
  },
  {
   "cell_type": "code",
   "outputs": [
    {
     "name": "stdout",
     "output_type": "stream",
     "text": [
      "                                             Video Title        Category  \\\n",
      "0                 labrinth rip euphoria live performance  People & Blogs   \n",
      "1                    emiway company official music video           Music   \n",
      "2      emiway kya bolti public ftyoung galib prod myk...           Music   \n",
      "3      mc stδn kal hai mera show official video 2022 ...           Music   \n",
      "4      mc stδn x kshmrmusic haath varthi official vid...           Music   \n",
      "...                                                  ...             ...   \n",
      "38921  chainsmokers coldplay something like emma hees...           Music   \n",
      "38922                             shameless weeknd cover           Music   \n",
      "38923          aib podcast 2 million celebration podcast   Entertainment   \n",
      "38924                                  best thing planet          Comedy   \n",
      "38925                                              exams          Comedy   \n",
      "\n",
      "       Category ID                                        Description  \\\n",
      "0               22  Labrinth performs \"When I R.I.P.\" from Euphori...   \n",
      "1               10  From Album - KOTS (King of the Streets)\\n\\nAud...   \n",
      "2               10  From Album - KOTS (King of the Streets)\\n\\nAud...   \n",
      "3               10  Humanity was and will always be above all. Hum...   \n",
      "4               10  “ HAATH VARTHI “ OUT NOW 🔥💯👇🏼 ( Official Music...   \n",
      "...            ...                                                ...   \n",
      "38921           10  The Chainsmokers & Coldplay - Something Just L...   \n",
      "38922           10  The Weeknds next single if it was up to me !! ...   \n",
      "38923           24  A look back at our YouTube journey. Hugs and p...   \n",
      "38924           23  BHAGO HAIWAAN AAYA!\\n\\nCensorship by Ocus Gami...   \n",
      "38925           23  Everybody Good Luck for your Exams!\\n#Marnanah...   \n",
      "\n",
      "                                                    Tags  \\\n",
      "0      ['remix', 'live', 'acoustic', 'cover', 'karaok...   \n",
      "1      ['emiway bantai', 'emiway guess', 'emiway new ...   \n",
      "2      ['emiway bantai', 'emiway', 'emiway new song',...   \n",
      "3      ['MC Stan', 'MC stan', 'desi hip hip', 'dhh', ...   \n",
      "4      ['mc stan', 'rap', 'haath varthi', 'haath vart...   \n",
      "...                                                  ...   \n",
      "38921  ['The Chainsmokers', 'Coldplay', 'Something Ju...   \n",
      "38922  ['Shameless', 'The Weeknd (Musical Artist)', '...   \n",
      "38923  ['All India Bakchod', 'AIB', 'AllIndiaBakchod'...   \n",
      "38924  ['CarryMinati', 'Carry', 'Indian', 'youtuber',...   \n",
      "38925  ['CarryMinati', 'Carry', 'Indian', 'youtuber',...   \n",
      "\n",
      "                                          titleUrl  \n",
      "0      https://www.youtube.com/watch?v=OsD1SJKtO9U  \n",
      "1      https://www.youtube.com/watch?v=GuGYYdwcPYw  \n",
      "2      https://www.youtube.com/watch?v=uMcU5qVz9YE  \n",
      "3      https://www.youtube.com/watch?v=0ws4JuK5Lwg  \n",
      "4      https://www.youtube.com/watch?v=pg2tsJErYH4  \n",
      "...                                            ...  \n",
      "38921  https://www.youtube.com/watch?v=-oO-MlSjsUE  \n",
      "38922  https://www.youtube.com/watch?v=DXEj_IZmUKU  \n",
      "38923  https://www.youtube.com/watch?v=N5c9ZmaGu58  \n",
      "38924  https://www.youtube.com/watch?v=vuuA-Gk4tY4  \n",
      "38925  https://www.youtube.com/watch?v=oilFiLwY4Ks  \n",
      "\n",
      "[38926 rows x 6 columns]\n"
     ]
    }
   ],
   "source": [
    "# Function to clean the titles\n",
    "def clean_title(title_list):\n",
    "    title = ', '.join(title_list)  # Convert the list to a string\n",
    "    title = title.strip('[]')  # Remove brackets\n",
    "    title = title.replace(',', '')  # Remove commas\n",
    "    return title\n",
    "\n",
    "# Apply the clean_title function to the 'title' column\n",
    "df2['Video Title'] = df2['Video Title'].apply(clean_title)\n",
    "\n",
    "# Display the cleaned DataFrame\n",
    "print(df2)"
   ],
   "metadata": {
    "collapsed": false,
    "ExecuteTime": {
     "end_time": "2024-02-13T23:12:04.963857100Z",
     "start_time": "2024-02-13T23:12:04.803910200Z"
    }
   },
   "id": "c33bbfffa8767d36",
   "execution_count": 60
  },
  {
   "cell_type": "code",
   "outputs": [],
   "source": [
    "# Function to clean the titles\n",
    "def clean_titl(title):\n",
    "    # Remove numbers, special characters, and non-English words\n",
    "    cleaned_title = re.sub(r'[^a-zA-Z\\s]', '', title)\n",
    "    return cleaned_title\n",
    "\n",
    "# Apply the clean_title function to the 'Title' column\n",
    "df2['Video Title'] = df2['Video Title'].apply(clean_titl)"
   ],
   "metadata": {
    "collapsed": false,
    "ExecuteTime": {
     "end_time": "2024-02-13T23:12:06.118270500Z",
     "start_time": "2024-02-13T23:12:06.028722Z"
    }
   },
   "id": "c7daad6788839f7f",
   "execution_count": 61
  },
  {
   "cell_type": "code",
   "outputs": [],
   "source": [
    "# Remove single characters\n",
    "df2['Video Title'] = df2['Video Title'].apply(lambda x: ' '.join([word for word in x.split() if len(word) > 1]))\n",
    "\n",
    "# Remove extra spaces between words\n",
    "df2['Video Title'] = df2['Video Title'].apply(lambda x: ' '.join(x.split()))"
   ],
   "metadata": {
    "collapsed": false,
    "ExecuteTime": {
     "end_time": "2024-02-13T23:12:07.429526900Z",
     "start_time": "2024-02-13T23:12:07.216415800Z"
    }
   },
   "id": "ab239c2aa39e134b",
   "execution_count": 62
  },
  {
   "cell_type": "code",
   "outputs": [
    {
     "data": {
      "text/plain": "                                             Video Title        Category  \\\n0                 labrinth rip euphoria live performance  People & Blogs   \n1                    emiway company official music video           Music   \n2      emiway kya bolti public ftyoung galib prod myk...           Music   \n3         mc stn kal hai mera show official video insaan           Music   \n4          mc stn kshmrmusic haath varthi official video           Music   \n...                                                  ...             ...   \n38921  chainsmokers coldplay something like emma hees...           Music   \n38922                             shameless weeknd cover           Music   \n38923            aib podcast million celebration podcast   Entertainment   \n38924                                  best thing planet          Comedy   \n38925                                              exams          Comedy   \n\n       Category ID                                        Description  \\\n0               22  Labrinth performs \"When I R.I.P.\" from Euphori...   \n1               10  From Album - KOTS (King of the Streets)\\n\\nAud...   \n2               10  From Album - KOTS (King of the Streets)\\n\\nAud...   \n3               10  Humanity was and will always be above all. Hum...   \n4               10  “ HAATH VARTHI “ OUT NOW 🔥💯👇🏼 ( Official Music...   \n...            ...                                                ...   \n38921           10  The Chainsmokers & Coldplay - Something Just L...   \n38922           10  The Weeknds next single if it was up to me !! ...   \n38923           24  A look back at our YouTube journey. Hugs and p...   \n38924           23  BHAGO HAIWAAN AAYA!\\n\\nCensorship by Ocus Gami...   \n38925           23  Everybody Good Luck for your Exams!\\n#Marnanah...   \n\n                                                    Tags  \\\n0      ['remix', 'live', 'acoustic', 'cover', 'karaok...   \n1      ['emiway bantai', 'emiway guess', 'emiway new ...   \n2      ['emiway bantai', 'emiway', 'emiway new song',...   \n3      ['MC Stan', 'MC stan', 'desi hip hip', 'dhh', ...   \n4      ['mc stan', 'rap', 'haath varthi', 'haath vart...   \n...                                                  ...   \n38921  ['The Chainsmokers', 'Coldplay', 'Something Ju...   \n38922  ['Shameless', 'The Weeknd (Musical Artist)', '...   \n38923  ['All India Bakchod', 'AIB', 'AllIndiaBakchod'...   \n38924  ['CarryMinati', 'Carry', 'Indian', 'youtuber',...   \n38925  ['CarryMinati', 'Carry', 'Indian', 'youtuber',...   \n\n                                          titleUrl  \n0      https://www.youtube.com/watch?v=OsD1SJKtO9U  \n1      https://www.youtube.com/watch?v=GuGYYdwcPYw  \n2      https://www.youtube.com/watch?v=uMcU5qVz9YE  \n3      https://www.youtube.com/watch?v=0ws4JuK5Lwg  \n4      https://www.youtube.com/watch?v=pg2tsJErYH4  \n...                                            ...  \n38921  https://www.youtube.com/watch?v=-oO-MlSjsUE  \n38922  https://www.youtube.com/watch?v=DXEj_IZmUKU  \n38923  https://www.youtube.com/watch?v=N5c9ZmaGu58  \n38924  https://www.youtube.com/watch?v=vuuA-Gk4tY4  \n38925  https://www.youtube.com/watch?v=oilFiLwY4Ks  \n\n[38926 rows x 6 columns]",
      "text/html": "<div>\n<style scoped>\n    .dataframe tbody tr th:only-of-type {\n        vertical-align: middle;\n    }\n\n    .dataframe tbody tr th {\n        vertical-align: top;\n    }\n\n    .dataframe thead th {\n        text-align: right;\n    }\n</style>\n<table border=\"1\" class=\"dataframe\">\n  <thead>\n    <tr style=\"text-align: right;\">\n      <th></th>\n      <th>Video Title</th>\n      <th>Category</th>\n      <th>Category ID</th>\n      <th>Description</th>\n      <th>Tags</th>\n      <th>titleUrl</th>\n    </tr>\n  </thead>\n  <tbody>\n    <tr>\n      <th>0</th>\n      <td>labrinth rip euphoria live performance</td>\n      <td>People &amp; Blogs</td>\n      <td>22</td>\n      <td>Labrinth performs \"When I R.I.P.\" from Euphori...</td>\n      <td>['remix', 'live', 'acoustic', 'cover', 'karaok...</td>\n      <td>https://www.youtube.com/watch?v=OsD1SJKtO9U</td>\n    </tr>\n    <tr>\n      <th>1</th>\n      <td>emiway company official music video</td>\n      <td>Music</td>\n      <td>10</td>\n      <td>From Album - KOTS (King of the Streets)\\n\\nAud...</td>\n      <td>['emiway bantai', 'emiway guess', 'emiway new ...</td>\n      <td>https://www.youtube.com/watch?v=GuGYYdwcPYw</td>\n    </tr>\n    <tr>\n      <th>2</th>\n      <td>emiway kya bolti public ftyoung galib prod myk...</td>\n      <td>Music</td>\n      <td>10</td>\n      <td>From Album - KOTS (King of the Streets)\\n\\nAud...</td>\n      <td>['emiway bantai', 'emiway', 'emiway new song',...</td>\n      <td>https://www.youtube.com/watch?v=uMcU5qVz9YE</td>\n    </tr>\n    <tr>\n      <th>3</th>\n      <td>mc stn kal hai mera show official video insaan</td>\n      <td>Music</td>\n      <td>10</td>\n      <td>Humanity was and will always be above all. Hum...</td>\n      <td>['MC Stan', 'MC stan', 'desi hip hip', 'dhh', ...</td>\n      <td>https://www.youtube.com/watch?v=0ws4JuK5Lwg</td>\n    </tr>\n    <tr>\n      <th>4</th>\n      <td>mc stn kshmrmusic haath varthi official video</td>\n      <td>Music</td>\n      <td>10</td>\n      <td>“ HAATH VARTHI “ OUT NOW 🔥💯👇🏼 ( Official Music...</td>\n      <td>['mc stan', 'rap', 'haath varthi', 'haath vart...</td>\n      <td>https://www.youtube.com/watch?v=pg2tsJErYH4</td>\n    </tr>\n    <tr>\n      <th>...</th>\n      <td>...</td>\n      <td>...</td>\n      <td>...</td>\n      <td>...</td>\n      <td>...</td>\n      <td>...</td>\n    </tr>\n    <tr>\n      <th>38921</th>\n      <td>chainsmokers coldplay something like emma hees...</td>\n      <td>Music</td>\n      <td>10</td>\n      <td>The Chainsmokers &amp; Coldplay - Something Just L...</td>\n      <td>['The Chainsmokers', 'Coldplay', 'Something Ju...</td>\n      <td>https://www.youtube.com/watch?v=-oO-MlSjsUE</td>\n    </tr>\n    <tr>\n      <th>38922</th>\n      <td>shameless weeknd cover</td>\n      <td>Music</td>\n      <td>10</td>\n      <td>The Weeknds next single if it was up to me !! ...</td>\n      <td>['Shameless', 'The Weeknd (Musical Artist)', '...</td>\n      <td>https://www.youtube.com/watch?v=DXEj_IZmUKU</td>\n    </tr>\n    <tr>\n      <th>38923</th>\n      <td>aib podcast million celebration podcast</td>\n      <td>Entertainment</td>\n      <td>24</td>\n      <td>A look back at our YouTube journey. Hugs and p...</td>\n      <td>['All India Bakchod', 'AIB', 'AllIndiaBakchod'...</td>\n      <td>https://www.youtube.com/watch?v=N5c9ZmaGu58</td>\n    </tr>\n    <tr>\n      <th>38924</th>\n      <td>best thing planet</td>\n      <td>Comedy</td>\n      <td>23</td>\n      <td>BHAGO HAIWAAN AAYA!\\n\\nCensorship by Ocus Gami...</td>\n      <td>['CarryMinati', 'Carry', 'Indian', 'youtuber',...</td>\n      <td>https://www.youtube.com/watch?v=vuuA-Gk4tY4</td>\n    </tr>\n    <tr>\n      <th>38925</th>\n      <td>exams</td>\n      <td>Comedy</td>\n      <td>23</td>\n      <td>Everybody Good Luck for your Exams!\\n#Marnanah...</td>\n      <td>['CarryMinati', 'Carry', 'Indian', 'youtuber',...</td>\n      <td>https://www.youtube.com/watch?v=oilFiLwY4Ks</td>\n    </tr>\n  </tbody>\n</table>\n<p>38926 rows × 6 columns</p>\n</div>"
     },
     "execution_count": 63,
     "metadata": {},
     "output_type": "execute_result"
    }
   ],
   "source": [
    "df2"
   ],
   "metadata": {
    "collapsed": false,
    "ExecuteTime": {
     "end_time": "2024-02-13T23:12:08.310982300Z",
     "start_time": "2024-02-13T23:12:08.260998900Z"
    }
   },
   "id": "babb2f354ac984e",
   "execution_count": 63
  },
  {
   "cell_type": "code",
   "outputs": [],
   "source": [
    "# Remove double quotes and |\n",
    "df2['Tags'] = df2['Tags'].str.replace('\"', '').str.replace('|', ' ')\n",
    "\n",
    "# Convert to lowercase\n",
    "df2['Tags'] = df2['Tags'].str.lower()"
   ],
   "metadata": {
    "collapsed": false,
    "ExecuteTime": {
     "end_time": "2024-02-13T23:12:09.838617900Z",
     "start_time": "2024-02-13T23:12:09.743722600Z"
    }
   },
   "id": "32abbb3629f85a3",
   "execution_count": 64
  },
  {
   "cell_type": "code",
   "outputs": [],
   "source": [
    "# Function to clean the titles\n",
    "def clean_title(title):\n",
    "    # Remove numbers, special characters, and non-English words\n",
    "    cleaned_title = re.sub(r'[^a-zA-Z\\s]', '', title)\n",
    "    return cleaned_title\n",
    "\n",
    "# Apply the clean_title function to the 'Title' column\n",
    "df2['Tags'] = df2['Tags'].apply(clean_title)"
   ],
   "metadata": {
    "collapsed": false,
    "ExecuteTime": {
     "end_time": "2024-02-13T23:12:11.251156500Z",
     "start_time": "2024-02-13T23:12:10.698036200Z"
    }
   },
   "id": "e2b903c5e5c742f1",
   "execution_count": 65
  },
  {
   "cell_type": "code",
   "outputs": [
    {
     "name": "stdout",
     "output_type": "stream",
     "text": [
      "                                             Video Title        Category  \\\n",
      "0                 labrinth rip euphoria live performance  People & Blogs   \n",
      "1                    emiway company official music video           Music   \n",
      "2      emiway kya bolti public ftyoung galib prod myk...           Music   \n",
      "3         mc stn kal hai mera show official video insaan           Music   \n",
      "4          mc stn kshmrmusic haath varthi official video           Music   \n",
      "...                                                  ...             ...   \n",
      "38921  chainsmokers coldplay something like emma hees...           Music   \n",
      "38922                             shameless weeknd cover           Music   \n",
      "38923            aib podcast million celebration podcast   Entertainment   \n",
      "38924                                  best thing planet          Comedy   \n",
      "38925                                              exams          Comedy   \n",
      "\n",
      "       Category ID                                        Description  \\\n",
      "0               22  Labrinth performs \"When I R.I.P.\" from Euphori...   \n",
      "1               10  From Album - KOTS (King of the Streets)\\n\\nAud...   \n",
      "2               10  From Album - KOTS (King of the Streets)\\n\\nAud...   \n",
      "3               10  Humanity was and will always be above all. Hum...   \n",
      "4               10  “ HAATH VARTHI “ OUT NOW 🔥💯👇🏼 ( Official Music...   \n",
      "...            ...                                                ...   \n",
      "38921           10  The Chainsmokers & Coldplay - Something Just L...   \n",
      "38922           10  The Weeknds next single if it was up to me !! ...   \n",
      "38923           24  A look back at our YouTube journey. Hugs and p...   \n",
      "38924           23  BHAGO HAIWAAN AAYA!\\n\\nCensorship by Ocus Gami...   \n",
      "38925           23  Everybody Good Luck for your Exams!\\n#Marnanah...   \n",
      "\n",
      "                                                    Tags  \\\n",
      "0      [remix, live, acoustic, cover, karaoke, labrin...   \n",
      "1      [emiway, bantai, emiway, guess, emiway, new, s...   \n",
      "2      [emiway, bantai, emiway, emiway, new, song, ra...   \n",
      "3      [mc, stan, mc, stan, desi, hip, hip, dhh, dhh,...   \n",
      "4      [mc, stan, rap, haath, varthi, haath, varti, m...   \n",
      "...                                                  ...   \n",
      "38921  [chainsmokers, coldplay, something, like, cove...   \n",
      "38922  [shameless, weeknd, musical, artist, music, tv...   \n",
      "38923  [india, bakchod, aib, allindiabakchod, tanmay,...   \n",
      "38924  [carryminati, carry, indian, youtuber, carrymi...   \n",
      "38925  [carryminati, carry, indian, youtuber, carrymi...   \n",
      "\n",
      "                                          titleUrl  \n",
      "0      https://www.youtube.com/watch?v=OsD1SJKtO9U  \n",
      "1      https://www.youtube.com/watch?v=GuGYYdwcPYw  \n",
      "2      https://www.youtube.com/watch?v=uMcU5qVz9YE  \n",
      "3      https://www.youtube.com/watch?v=0ws4JuK5Lwg  \n",
      "4      https://www.youtube.com/watch?v=pg2tsJErYH4  \n",
      "...                                            ...  \n",
      "38921  https://www.youtube.com/watch?v=-oO-MlSjsUE  \n",
      "38922  https://www.youtube.com/watch?v=DXEj_IZmUKU  \n",
      "38923  https://www.youtube.com/watch?v=N5c9ZmaGu58  \n",
      "38924  https://www.youtube.com/watch?v=vuuA-Gk4tY4  \n",
      "38925  https://www.youtube.com/watch?v=oilFiLwY4Ks  \n",
      "\n",
      "[38926 rows x 6 columns]\n"
     ]
    }
   ],
   "source": [
    "# Remove stop words from the Title column\n",
    "def remove_stop_words(text):\n",
    "    return [word for word in text.split() if word not in stop_words]\n",
    "\n",
    "# Apply the function to the Title column in your data frame\n",
    "df2['Tags'] = df2['Tags'].apply(remove_stop_words)\n",
    "\n",
    "print(df2)"
   ],
   "metadata": {
    "collapsed": false,
    "ExecuteTime": {
     "end_time": "2024-02-13T23:12:14.672608900Z",
     "start_time": "2024-02-13T23:12:11.976183800Z"
    }
   },
   "id": "3d7aa2a913483d5",
   "execution_count": 66
  },
  {
   "cell_type": "code",
   "outputs": [],
   "source": [
    "# Function to clean the titles\n",
    "def clean_title(title_list):\n",
    "    title = ', '.join(title_list)  # Convert the list to a string\n",
    "    title = title.strip('[]')  # Remove brackets\n",
    "    title = title.replace(',', '')  # Remove commas\n",
    "    return title\n",
    "\n",
    "# Apply the clean_title function to the 'title' column\n",
    "df2['Tags'] = df2['Tags'].apply(clean_title)"
   ],
   "metadata": {
    "collapsed": false,
    "ExecuteTime": {
     "end_time": "2024-02-13T23:12:14.815414400Z",
     "start_time": "2024-02-13T23:12:14.667995Z"
    }
   },
   "id": "f38ce3c500a04c8a",
   "execution_count": 67
  },
  {
   "cell_type": "code",
   "outputs": [],
   "source": [
    "# Remove single characters\n",
    "df2['Tags'] = df2['Tags'].apply(lambda x: ' '.join([word for word in x.split() if len(word) > 1]))\n",
    "\n",
    "# Remove extra spaces between words\n",
    "df2['Tags'] = df2['Tags'].apply(lambda x: ' '.join(x.split()))\n",
    "\n",
    "df2['Tags'] = df2['Tags'].replace(to_replace='none', value=' ', regex=True)"
   ],
   "metadata": {
    "collapsed": false,
    "ExecuteTime": {
     "end_time": "2024-02-13T23:12:15.209539Z",
     "start_time": "2024-02-13T23:12:14.806554600Z"
    }
   },
   "id": "82d4ea40531c458b",
   "execution_count": 68
  },
  {
   "cell_type": "code",
   "outputs": [
    {
     "data": {
      "text/plain": "                                             Video Title        Category  \\\n0                 labrinth rip euphoria live performance  People & Blogs   \n1                    emiway company official music video           Music   \n2      emiway kya bolti public ftyoung galib prod myk...           Music   \n3         mc stn kal hai mera show official video insaan           Music   \n4          mc stn kshmrmusic haath varthi official video           Music   \n...                                                  ...             ...   \n38921  chainsmokers coldplay something like emma hees...           Music   \n38922                             shameless weeknd cover           Music   \n38923            aib podcast million celebration podcast   Entertainment   \n38924                                  best thing planet          Comedy   \n38925                                              exams          Comedy   \n\n       Category ID                                        Description  \\\n0               22  Labrinth performs \"When I R.I.P.\" from Euphori...   \n1               10  From Album - KOTS (King of the Streets)\\n\\nAud...   \n2               10  From Album - KOTS (King of the Streets)\\n\\nAud...   \n3               10  Humanity was and will always be above all. Hum...   \n4               10  “ HAATH VARTHI “ OUT NOW 🔥💯👇🏼 ( Official Music...   \n...            ...                                                ...   \n38921           10  The Chainsmokers & Coldplay - Something Just L...   \n38922           10  The Weeknds next single if it was up to me !! ...   \n38923           24  A look back at our YouTube journey. Hugs and p...   \n38924           23  BHAGO HAIWAAN AAYA!\\n\\nCensorship by Ocus Gami...   \n38925           23  Everybody Good Luck for your Exams!\\n#Marnanah...   \n\n                                                    Tags  \\\n0      remix live acoustic cover karaoke labrinth lab...   \n1      emiway bantai emiway guess emiway new song emi...   \n2      emiway bantai emiway emiway new song rap hip h...   \n3      mc stan mc stan desi hip hip dhh dhh rap hindi...   \n4      mc stan rap haath varthi haath varti mc stan k...   \n...                                                  ...   \n38921  chainsmokers coldplay something like cover cha...   \n38922  shameless weeknd musical artist music tv genre...   \n38923  india bakchod aib allindiabakchod tanmay bhat ...   \n38924  carryminati carry indian youtuber carryminati ...   \n38925  carryminati carry indian youtuber carryminati ...   \n\n                                          titleUrl  \n0      https://www.youtube.com/watch?v=OsD1SJKtO9U  \n1      https://www.youtube.com/watch?v=GuGYYdwcPYw  \n2      https://www.youtube.com/watch?v=uMcU5qVz9YE  \n3      https://www.youtube.com/watch?v=0ws4JuK5Lwg  \n4      https://www.youtube.com/watch?v=pg2tsJErYH4  \n...                                            ...  \n38921  https://www.youtube.com/watch?v=-oO-MlSjsUE  \n38922  https://www.youtube.com/watch?v=DXEj_IZmUKU  \n38923  https://www.youtube.com/watch?v=N5c9ZmaGu58  \n38924  https://www.youtube.com/watch?v=vuuA-Gk4tY4  \n38925  https://www.youtube.com/watch?v=oilFiLwY4Ks  \n\n[38926 rows x 6 columns]",
      "text/html": "<div>\n<style scoped>\n    .dataframe tbody tr th:only-of-type {\n        vertical-align: middle;\n    }\n\n    .dataframe tbody tr th {\n        vertical-align: top;\n    }\n\n    .dataframe thead th {\n        text-align: right;\n    }\n</style>\n<table border=\"1\" class=\"dataframe\">\n  <thead>\n    <tr style=\"text-align: right;\">\n      <th></th>\n      <th>Video Title</th>\n      <th>Category</th>\n      <th>Category ID</th>\n      <th>Description</th>\n      <th>Tags</th>\n      <th>titleUrl</th>\n    </tr>\n  </thead>\n  <tbody>\n    <tr>\n      <th>0</th>\n      <td>labrinth rip euphoria live performance</td>\n      <td>People &amp; Blogs</td>\n      <td>22</td>\n      <td>Labrinth performs \"When I R.I.P.\" from Euphori...</td>\n      <td>remix live acoustic cover karaoke labrinth lab...</td>\n      <td>https://www.youtube.com/watch?v=OsD1SJKtO9U</td>\n    </tr>\n    <tr>\n      <th>1</th>\n      <td>emiway company official music video</td>\n      <td>Music</td>\n      <td>10</td>\n      <td>From Album - KOTS (King of the Streets)\\n\\nAud...</td>\n      <td>emiway bantai emiway guess emiway new song emi...</td>\n      <td>https://www.youtube.com/watch?v=GuGYYdwcPYw</td>\n    </tr>\n    <tr>\n      <th>2</th>\n      <td>emiway kya bolti public ftyoung galib prod myk...</td>\n      <td>Music</td>\n      <td>10</td>\n      <td>From Album - KOTS (King of the Streets)\\n\\nAud...</td>\n      <td>emiway bantai emiway emiway new song rap hip h...</td>\n      <td>https://www.youtube.com/watch?v=uMcU5qVz9YE</td>\n    </tr>\n    <tr>\n      <th>3</th>\n      <td>mc stn kal hai mera show official video insaan</td>\n      <td>Music</td>\n      <td>10</td>\n      <td>Humanity was and will always be above all. Hum...</td>\n      <td>mc stan mc stan desi hip hip dhh dhh rap hindi...</td>\n      <td>https://www.youtube.com/watch?v=0ws4JuK5Lwg</td>\n    </tr>\n    <tr>\n      <th>4</th>\n      <td>mc stn kshmrmusic haath varthi official video</td>\n      <td>Music</td>\n      <td>10</td>\n      <td>“ HAATH VARTHI “ OUT NOW 🔥💯👇🏼 ( Official Music...</td>\n      <td>mc stan rap haath varthi haath varti mc stan k...</td>\n      <td>https://www.youtube.com/watch?v=pg2tsJErYH4</td>\n    </tr>\n    <tr>\n      <th>...</th>\n      <td>...</td>\n      <td>...</td>\n      <td>...</td>\n      <td>...</td>\n      <td>...</td>\n      <td>...</td>\n    </tr>\n    <tr>\n      <th>38921</th>\n      <td>chainsmokers coldplay something like emma hees...</td>\n      <td>Music</td>\n      <td>10</td>\n      <td>The Chainsmokers &amp; Coldplay - Something Just L...</td>\n      <td>chainsmokers coldplay something like cover cha...</td>\n      <td>https://www.youtube.com/watch?v=-oO-MlSjsUE</td>\n    </tr>\n    <tr>\n      <th>38922</th>\n      <td>shameless weeknd cover</td>\n      <td>Music</td>\n      <td>10</td>\n      <td>The Weeknds next single if it was up to me !! ...</td>\n      <td>shameless weeknd musical artist music tv genre...</td>\n      <td>https://www.youtube.com/watch?v=DXEj_IZmUKU</td>\n    </tr>\n    <tr>\n      <th>38923</th>\n      <td>aib podcast million celebration podcast</td>\n      <td>Entertainment</td>\n      <td>24</td>\n      <td>A look back at our YouTube journey. Hugs and p...</td>\n      <td>india bakchod aib allindiabakchod tanmay bhat ...</td>\n      <td>https://www.youtube.com/watch?v=N5c9ZmaGu58</td>\n    </tr>\n    <tr>\n      <th>38924</th>\n      <td>best thing planet</td>\n      <td>Comedy</td>\n      <td>23</td>\n      <td>BHAGO HAIWAAN AAYA!\\n\\nCensorship by Ocus Gami...</td>\n      <td>carryminati carry indian youtuber carryminati ...</td>\n      <td>https://www.youtube.com/watch?v=vuuA-Gk4tY4</td>\n    </tr>\n    <tr>\n      <th>38925</th>\n      <td>exams</td>\n      <td>Comedy</td>\n      <td>23</td>\n      <td>Everybody Good Luck for your Exams!\\n#Marnanah...</td>\n      <td>carryminati carry indian youtuber carryminati ...</td>\n      <td>https://www.youtube.com/watch?v=oilFiLwY4Ks</td>\n    </tr>\n  </tbody>\n</table>\n<p>38926 rows × 6 columns</p>\n</div>"
     },
     "execution_count": 69,
     "metadata": {},
     "output_type": "execute_result"
    }
   ],
   "source": [
    "df2"
   ],
   "metadata": {
    "collapsed": false,
    "ExecuteTime": {
     "end_time": "2024-02-13T23:12:15.230151400Z",
     "start_time": "2024-02-13T23:12:15.210656500Z"
    }
   },
   "id": "4c890f2c987be963",
   "execution_count": 69
  },
  {
   "cell_type": "code",
   "outputs": [],
   "source": [
    "# Remove links and convert to lowercase\n",
    "df2['Description'] = df2['Description'].apply(lambda x: re.sub(r'http\\S+', ' ', str(x))).str.lower()\n",
    "\n",
    "df2['Description'] = df2['Description'].replace(to_replace=r'\\b(?:https?://|www\\.)\\S+\\b', value='', regex=True)"
   ],
   "metadata": {
    "collapsed": false,
    "ExecuteTime": {
     "end_time": "2024-02-13T23:12:18.702129200Z",
     "start_time": "2024-02-13T23:12:17.353492900Z"
    }
   },
   "id": "56d9ba947adf45be",
   "execution_count": 70
  },
  {
   "cell_type": "code",
   "outputs": [],
   "source": [
    "# Remove \"\\n\" and \":\"\n",
    "df2['Description'] = df2['Description'].str.replace(r'\\n+', ' ').str.replace(r'\\n\\n', ' ').str.replace(r'\\n\\n\\n', '').str.replace(r':', '')"
   ],
   "metadata": {
    "collapsed": false,
    "ExecuteTime": {
     "end_time": "2024-02-13T23:12:18.908366600Z",
     "start_time": "2024-02-13T23:12:18.705571700Z"
    }
   },
   "id": "ce393f83b0308bb2",
   "execution_count": 71
  },
  {
   "cell_type": "code",
   "outputs": [],
   "source": [
    "# Remove \\n characters\n",
    "df2['Description'] = df2['Description'].str.replace(r'\\n', ' ')\n",
    "df2['Description'] = df2['Description'].str.replace(r'/', ' ')"
   ],
   "metadata": {
    "collapsed": false,
    "ExecuteTime": {
     "end_time": "2024-02-13T23:12:19.789798700Z",
     "start_time": "2024-02-13T23:12:19.692166800Z"
    }
   },
   "id": "63cf756c5c332cc9",
   "execution_count": 72
  },
  {
   "cell_type": "code",
   "outputs": [],
   "source": [
    "# Function to clean the titles\n",
    "def clean_title(title):\n",
    "    if isinstance(title, str):\n",
    "        # Remove numbers, special characters, and non-English words\n",
    "        cleaned_title = re.sub(r'[^a-zA-Z\\s]', '', title)\n",
    "        return cleaned_title\n",
    "    else:\n",
    "        return title  # or handle appropriately if title is not a string\n",
    "\n",
    "# Apply the clean_title function to the 'Description' column\n",
    "df2['Description'] = df2['Description'].apply(clean_title)"
   ],
   "metadata": {
    "collapsed": false,
    "ExecuteTime": {
     "end_time": "2024-02-13T23:12:21.469988600Z",
     "start_time": "2024-02-13T23:12:20.548657100Z"
    }
   },
   "id": "306dc2a28244b004",
   "execution_count": 73
  },
  {
   "cell_type": "code",
   "outputs": [],
   "source": [
    "# Remove stop words from the Title column\n",
    "def remove_stop_words(text):\n",
    "    if isinstance(text, str):\n",
    "        return ' '.join([word for word in text.split() if word.lower() not in stop_words])\n",
    "    else:\n",
    "        return text\n",
    "\n",
    "# Apply the function to the Title column in your data frame\n",
    "df2['Description'] = df2['Description'].apply(remove_stop_words)"
   ],
   "metadata": {
    "collapsed": false,
    "ExecuteTime": {
     "end_time": "2024-02-13T23:12:29.174748Z",
     "start_time": "2024-02-13T23:12:22.121282800Z"
    }
   },
   "id": "57b61c85d24ddcbb",
   "execution_count": 74
  },
  {
   "cell_type": "code",
   "outputs": [],
   "source": [
    "# Remove single characters\n",
    "df2['Description'] = df2['Description'].apply(lambda x: ' '.join([word for word in str(x).split() if len(word) > 1]))\n",
    "\n",
    "# Remove extra spaces between words\n",
    "df2['Description'] = df2['Description'].apply(lambda x: ' '.join(str(x).split()))"
   ],
   "metadata": {
    "collapsed": false,
    "ExecuteTime": {
     "end_time": "2024-02-13T23:12:30.906654400Z",
     "start_time": "2024-02-13T23:12:30.195976600Z"
    }
   },
   "id": "e916d30f1a806435",
   "execution_count": 75
  },
  {
   "cell_type": "code",
   "outputs": [
    {
     "data": {
      "text/plain": "                                             Video Title        Category  \\\n0                 labrinth rip euphoria live performance  People & Blogs   \n1                    emiway company official music video           Music   \n2      emiway kya bolti public ftyoung galib prod myk...           Music   \n3         mc stn kal hai mera show official video insaan           Music   \n4          mc stn kshmrmusic haath varthi official video           Music   \n...                                                  ...             ...   \n38921  chainsmokers coldplay something like emma hees...           Music   \n38922                             shameless weeknd cover           Music   \n38923            aib podcast million celebration podcast   Entertainment   \n38924                                  best thing planet          Comedy   \n38925                                              exams          Comedy   \n\n       Category ID                                        Description  \\\n0               22  labrinth performs rip euphoria live first time...   \n1               10  album kots king streets audio credits song com...   \n2               10  album kots king streets audio credits song kya...   \n3               10  humanity always humans started believing illus...   \n4               10  haath varthi official music video stan family ...   \n...            ...                                                ...   \n38921           10  chainsmokers coldplay something like like subs...   \n38922           10       weeknds next single spotify itunes instagram   \n38923           24  look back youtube journey hugs pappis follow u...   \n38924           23  bhago haiwaan aaya censorship ocus gaming carr...   \n38925           23  everybody good luck exams marnanahihai carryis...   \n\n                                                    Tags  \\\n0      remix live acoustic cover karaoke labrinth lab...   \n1      emiway bantai emiway guess emiway new song emi...   \n2      emiway bantai emiway emiway new song rap hip h...   \n3      mc stan mc stan desi hip hip dhh dhh rap hindi...   \n4      mc stan rap haath varthi haath varti mc stan k...   \n...                                                  ...   \n38921  chainsmokers coldplay something like cover cha...   \n38922  shameless weeknd musical artist music tv genre...   \n38923  india bakchod aib allindiabakchod tanmay bhat ...   \n38924  carryminati carry indian youtuber carryminati ...   \n38925  carryminati carry indian youtuber carryminati ...   \n\n                                          titleUrl  \n0      https://www.youtube.com/watch?v=OsD1SJKtO9U  \n1      https://www.youtube.com/watch?v=GuGYYdwcPYw  \n2      https://www.youtube.com/watch?v=uMcU5qVz9YE  \n3      https://www.youtube.com/watch?v=0ws4JuK5Lwg  \n4      https://www.youtube.com/watch?v=pg2tsJErYH4  \n...                                            ...  \n38921  https://www.youtube.com/watch?v=-oO-MlSjsUE  \n38922  https://www.youtube.com/watch?v=DXEj_IZmUKU  \n38923  https://www.youtube.com/watch?v=N5c9ZmaGu58  \n38924  https://www.youtube.com/watch?v=vuuA-Gk4tY4  \n38925  https://www.youtube.com/watch?v=oilFiLwY4Ks  \n\n[38926 rows x 6 columns]",
      "text/html": "<div>\n<style scoped>\n    .dataframe tbody tr th:only-of-type {\n        vertical-align: middle;\n    }\n\n    .dataframe tbody tr th {\n        vertical-align: top;\n    }\n\n    .dataframe thead th {\n        text-align: right;\n    }\n</style>\n<table border=\"1\" class=\"dataframe\">\n  <thead>\n    <tr style=\"text-align: right;\">\n      <th></th>\n      <th>Video Title</th>\n      <th>Category</th>\n      <th>Category ID</th>\n      <th>Description</th>\n      <th>Tags</th>\n      <th>titleUrl</th>\n    </tr>\n  </thead>\n  <tbody>\n    <tr>\n      <th>0</th>\n      <td>labrinth rip euphoria live performance</td>\n      <td>People &amp; Blogs</td>\n      <td>22</td>\n      <td>labrinth performs rip euphoria live first time...</td>\n      <td>remix live acoustic cover karaoke labrinth lab...</td>\n      <td>https://www.youtube.com/watch?v=OsD1SJKtO9U</td>\n    </tr>\n    <tr>\n      <th>1</th>\n      <td>emiway company official music video</td>\n      <td>Music</td>\n      <td>10</td>\n      <td>album kots king streets audio credits song com...</td>\n      <td>emiway bantai emiway guess emiway new song emi...</td>\n      <td>https://www.youtube.com/watch?v=GuGYYdwcPYw</td>\n    </tr>\n    <tr>\n      <th>2</th>\n      <td>emiway kya bolti public ftyoung galib prod myk...</td>\n      <td>Music</td>\n      <td>10</td>\n      <td>album kots king streets audio credits song kya...</td>\n      <td>emiway bantai emiway emiway new song rap hip h...</td>\n      <td>https://www.youtube.com/watch?v=uMcU5qVz9YE</td>\n    </tr>\n    <tr>\n      <th>3</th>\n      <td>mc stn kal hai mera show official video insaan</td>\n      <td>Music</td>\n      <td>10</td>\n      <td>humanity always humans started believing illus...</td>\n      <td>mc stan mc stan desi hip hip dhh dhh rap hindi...</td>\n      <td>https://www.youtube.com/watch?v=0ws4JuK5Lwg</td>\n    </tr>\n    <tr>\n      <th>4</th>\n      <td>mc stn kshmrmusic haath varthi official video</td>\n      <td>Music</td>\n      <td>10</td>\n      <td>haath varthi official music video stan family ...</td>\n      <td>mc stan rap haath varthi haath varti mc stan k...</td>\n      <td>https://www.youtube.com/watch?v=pg2tsJErYH4</td>\n    </tr>\n    <tr>\n      <th>...</th>\n      <td>...</td>\n      <td>...</td>\n      <td>...</td>\n      <td>...</td>\n      <td>...</td>\n      <td>...</td>\n    </tr>\n    <tr>\n      <th>38921</th>\n      <td>chainsmokers coldplay something like emma hees...</td>\n      <td>Music</td>\n      <td>10</td>\n      <td>chainsmokers coldplay something like like subs...</td>\n      <td>chainsmokers coldplay something like cover cha...</td>\n      <td>https://www.youtube.com/watch?v=-oO-MlSjsUE</td>\n    </tr>\n    <tr>\n      <th>38922</th>\n      <td>shameless weeknd cover</td>\n      <td>Music</td>\n      <td>10</td>\n      <td>weeknds next single spotify itunes instagram</td>\n      <td>shameless weeknd musical artist music tv genre...</td>\n      <td>https://www.youtube.com/watch?v=DXEj_IZmUKU</td>\n    </tr>\n    <tr>\n      <th>38923</th>\n      <td>aib podcast million celebration podcast</td>\n      <td>Entertainment</td>\n      <td>24</td>\n      <td>look back youtube journey hugs pappis follow u...</td>\n      <td>india bakchod aib allindiabakchod tanmay bhat ...</td>\n      <td>https://www.youtube.com/watch?v=N5c9ZmaGu58</td>\n    </tr>\n    <tr>\n      <th>38924</th>\n      <td>best thing planet</td>\n      <td>Comedy</td>\n      <td>23</td>\n      <td>bhago haiwaan aaya censorship ocus gaming carr...</td>\n      <td>carryminati carry indian youtuber carryminati ...</td>\n      <td>https://www.youtube.com/watch?v=vuuA-Gk4tY4</td>\n    </tr>\n    <tr>\n      <th>38925</th>\n      <td>exams</td>\n      <td>Comedy</td>\n      <td>23</td>\n      <td>everybody good luck exams marnanahihai carryis...</td>\n      <td>carryminati carry indian youtuber carryminati ...</td>\n      <td>https://www.youtube.com/watch?v=oilFiLwY4Ks</td>\n    </tr>\n  </tbody>\n</table>\n<p>38926 rows × 6 columns</p>\n</div>"
     },
     "execution_count": 76,
     "metadata": {},
     "output_type": "execute_result"
    }
   ],
   "source": [
    "df2"
   ],
   "metadata": {
    "collapsed": false,
    "ExecuteTime": {
     "end_time": "2024-02-13T23:12:33.470477300Z",
     "start_time": "2024-02-13T23:12:33.392847700Z"
    }
   },
   "id": "8655c6a75a7427d0",
   "execution_count": 76
  },
  {
   "cell_type": "code",
   "outputs": [
    {
     "data": {
      "text/plain": "Video Title    0\nCategory       0\nCategory ID    0\nDescription    0\nTags           0\ntitleUrl       0\ndtype: int64"
     },
     "execution_count": 77,
     "metadata": {},
     "output_type": "execute_result"
    }
   ],
   "source": [
    "df2.isna().sum()"
   ],
   "metadata": {
    "collapsed": false,
    "ExecuteTime": {
     "end_time": "2024-02-13T23:12:35.996800300Z",
     "start_time": "2024-02-13T23:12:35.941352500Z"
    }
   },
   "id": "3c907311b29e4c3f",
   "execution_count": 77
  },
  {
   "cell_type": "code",
   "outputs": [],
   "source": [
    "df2['Description'] = df2['Description'].replace(to_replace='nan', value=' ', regex=True)\n",
    "df2['Description'] = df2['Description'].fillna(' ')"
   ],
   "metadata": {
    "collapsed": false,
    "ExecuteTime": {
     "end_time": "2024-02-13T23:12:37.824933500Z",
     "start_time": "2024-02-13T23:12:37.749986900Z"
    }
   },
   "id": "d5cc75d3e509ba03",
   "execution_count": 78
  },
  {
   "cell_type": "code",
   "outputs": [
    {
     "data": {
      "text/plain": "                                             Video Title        Category  \\\n0                 labrinth rip euphoria live performance  People & Blogs   \n1                    emiway company official music video           Music   \n2      emiway kya bolti public ftyoung galib prod myk...           Music   \n3         mc stn kal hai mera show official video insaan           Music   \n4          mc stn kshmrmusic haath varthi official video           Music   \n...                                                  ...             ...   \n38921  chainsmokers coldplay something like emma hees...           Music   \n38922                             shameless weeknd cover           Music   \n38923            aib podcast million celebration podcast   Entertainment   \n38924                                  best thing planet          Comedy   \n38925                                              exams          Comedy   \n\n       Category ID                                        Description  \\\n0               22  labrinth performs rip euphoria live first time...   \n1               10  album kots king streets audio credits song com...   \n2               10  album kots king streets audio credits song kya...   \n3               10  humanity always humans started believing illus...   \n4               10  haath varthi official music video stan family ...   \n...            ...                                                ...   \n38921           10  chainsmokers coldplay something like like subs...   \n38922           10       weeknds next single spotify itunes instagram   \n38923           24  look back youtube journey hugs pappis follow u...   \n38924           23  bhago haiwaan aaya censorship ocus gaming carr...   \n38925           23  everybody good luck exams mar ahihai carryisli...   \n\n                                                    Tags  \\\n0      remix live acoustic cover karaoke labrinth lab...   \n1      emiway bantai emiway guess emiway new song emi...   \n2      emiway bantai emiway emiway new song rap hip h...   \n3      mc stan mc stan desi hip hip dhh dhh rap hindi...   \n4      mc stan rap haath varthi haath varti mc stan k...   \n...                                                  ...   \n38921  chainsmokers coldplay something like cover cha...   \n38922  shameless weeknd musical artist music tv genre...   \n38923  india bakchod aib allindiabakchod tanmay bhat ...   \n38924  carryminati carry indian youtuber carryminati ...   \n38925  carryminati carry indian youtuber carryminati ...   \n\n                                          titleUrl  \n0      https://www.youtube.com/watch?v=OsD1SJKtO9U  \n1      https://www.youtube.com/watch?v=GuGYYdwcPYw  \n2      https://www.youtube.com/watch?v=uMcU5qVz9YE  \n3      https://www.youtube.com/watch?v=0ws4JuK5Lwg  \n4      https://www.youtube.com/watch?v=pg2tsJErYH4  \n...                                            ...  \n38921  https://www.youtube.com/watch?v=-oO-MlSjsUE  \n38922  https://www.youtube.com/watch?v=DXEj_IZmUKU  \n38923  https://www.youtube.com/watch?v=N5c9ZmaGu58  \n38924  https://www.youtube.com/watch?v=vuuA-Gk4tY4  \n38925  https://www.youtube.com/watch?v=oilFiLwY4Ks  \n\n[38926 rows x 6 columns]",
      "text/html": "<div>\n<style scoped>\n    .dataframe tbody tr th:only-of-type {\n        vertical-align: middle;\n    }\n\n    .dataframe tbody tr th {\n        vertical-align: top;\n    }\n\n    .dataframe thead th {\n        text-align: right;\n    }\n</style>\n<table border=\"1\" class=\"dataframe\">\n  <thead>\n    <tr style=\"text-align: right;\">\n      <th></th>\n      <th>Video Title</th>\n      <th>Category</th>\n      <th>Category ID</th>\n      <th>Description</th>\n      <th>Tags</th>\n      <th>titleUrl</th>\n    </tr>\n  </thead>\n  <tbody>\n    <tr>\n      <th>0</th>\n      <td>labrinth rip euphoria live performance</td>\n      <td>People &amp; Blogs</td>\n      <td>22</td>\n      <td>labrinth performs rip euphoria live first time...</td>\n      <td>remix live acoustic cover karaoke labrinth lab...</td>\n      <td>https://www.youtube.com/watch?v=OsD1SJKtO9U</td>\n    </tr>\n    <tr>\n      <th>1</th>\n      <td>emiway company official music video</td>\n      <td>Music</td>\n      <td>10</td>\n      <td>album kots king streets audio credits song com...</td>\n      <td>emiway bantai emiway guess emiway new song emi...</td>\n      <td>https://www.youtube.com/watch?v=GuGYYdwcPYw</td>\n    </tr>\n    <tr>\n      <th>2</th>\n      <td>emiway kya bolti public ftyoung galib prod myk...</td>\n      <td>Music</td>\n      <td>10</td>\n      <td>album kots king streets audio credits song kya...</td>\n      <td>emiway bantai emiway emiway new song rap hip h...</td>\n      <td>https://www.youtube.com/watch?v=uMcU5qVz9YE</td>\n    </tr>\n    <tr>\n      <th>3</th>\n      <td>mc stn kal hai mera show official video insaan</td>\n      <td>Music</td>\n      <td>10</td>\n      <td>humanity always humans started believing illus...</td>\n      <td>mc stan mc stan desi hip hip dhh dhh rap hindi...</td>\n      <td>https://www.youtube.com/watch?v=0ws4JuK5Lwg</td>\n    </tr>\n    <tr>\n      <th>4</th>\n      <td>mc stn kshmrmusic haath varthi official video</td>\n      <td>Music</td>\n      <td>10</td>\n      <td>haath varthi official music video stan family ...</td>\n      <td>mc stan rap haath varthi haath varti mc stan k...</td>\n      <td>https://www.youtube.com/watch?v=pg2tsJErYH4</td>\n    </tr>\n    <tr>\n      <th>...</th>\n      <td>...</td>\n      <td>...</td>\n      <td>...</td>\n      <td>...</td>\n      <td>...</td>\n      <td>...</td>\n    </tr>\n    <tr>\n      <th>38921</th>\n      <td>chainsmokers coldplay something like emma hees...</td>\n      <td>Music</td>\n      <td>10</td>\n      <td>chainsmokers coldplay something like like subs...</td>\n      <td>chainsmokers coldplay something like cover cha...</td>\n      <td>https://www.youtube.com/watch?v=-oO-MlSjsUE</td>\n    </tr>\n    <tr>\n      <th>38922</th>\n      <td>shameless weeknd cover</td>\n      <td>Music</td>\n      <td>10</td>\n      <td>weeknds next single spotify itunes instagram</td>\n      <td>shameless weeknd musical artist music tv genre...</td>\n      <td>https://www.youtube.com/watch?v=DXEj_IZmUKU</td>\n    </tr>\n    <tr>\n      <th>38923</th>\n      <td>aib podcast million celebration podcast</td>\n      <td>Entertainment</td>\n      <td>24</td>\n      <td>look back youtube journey hugs pappis follow u...</td>\n      <td>india bakchod aib allindiabakchod tanmay bhat ...</td>\n      <td>https://www.youtube.com/watch?v=N5c9ZmaGu58</td>\n    </tr>\n    <tr>\n      <th>38924</th>\n      <td>best thing planet</td>\n      <td>Comedy</td>\n      <td>23</td>\n      <td>bhago haiwaan aaya censorship ocus gaming carr...</td>\n      <td>carryminati carry indian youtuber carryminati ...</td>\n      <td>https://www.youtube.com/watch?v=vuuA-Gk4tY4</td>\n    </tr>\n    <tr>\n      <th>38925</th>\n      <td>exams</td>\n      <td>Comedy</td>\n      <td>23</td>\n      <td>everybody good luck exams mar ahihai carryisli...</td>\n      <td>carryminati carry indian youtuber carryminati ...</td>\n      <td>https://www.youtube.com/watch?v=oilFiLwY4Ks</td>\n    </tr>\n  </tbody>\n</table>\n<p>38926 rows × 6 columns</p>\n</div>"
     },
     "execution_count": 79,
     "metadata": {},
     "output_type": "execute_result"
    }
   ],
   "source": [
    "df2"
   ],
   "metadata": {
    "collapsed": false,
    "ExecuteTime": {
     "end_time": "2024-02-13T23:12:39.627524200Z",
     "start_time": "2024-02-13T23:12:39.560620700Z"
    }
   },
   "id": "5985cafb24ea68c6",
   "execution_count": 79
  },
  {
   "cell_type": "code",
   "outputs": [
    {
     "data": {
      "text/plain": "  0%|          | 0/38926 [00:00<?, ?it/s]",
      "application/vnd.jupyter.widget-view+json": {
       "version_major": 2,
       "version_minor": 0,
       "model_id": "068b07a06ed04fdbbcad3ad579b2298b"
      }
     },
     "metadata": {},
     "output_type": "display_data"
    },
    {
     "data": {
      "text/plain": "  0%|          | 0/38926 [00:00<?, ?it/s]",
      "application/vnd.jupyter.widget-view+json": {
       "version_major": 2,
       "version_minor": 0,
       "model_id": "65927c42cdf745ac9f969eacf5d38a0f"
      }
     },
     "metadata": {},
     "output_type": "display_data"
    },
    {
     "data": {
      "text/plain": "  0%|          | 0/38926 [00:00<?, ?it/s]",
      "application/vnd.jupyter.widget-view+json": {
       "version_major": 2,
       "version_minor": 0,
       "model_id": "3d0a9db137fe4bb2b6df777533e60154"
      }
     },
     "metadata": {},
     "output_type": "display_data"
    }
   ],
   "source": [
    "def preprocesss(text):\n",
    "    # Remove words that look like random strings\n",
    "    text = re.sub(r'\\b\\w{20,}\\b', '', text)\n",
    "    return text\n",
    "\n",
    "# Assuming new is your DataFrame\n",
    "df2['Video Title'] = df2['Video Title'].fillna('').progress_apply(lambda x: preprocesss(x))\n",
    "df2['Description'] = df2['Description'].fillna('').progress_apply(lambda x: preprocesss(x))\n",
    "df2['Tags'] = df2['Tags'].fillna('').progress_apply(lambda x: preprocesss(x))"
   ],
   "metadata": {
    "collapsed": false,
    "ExecuteTime": {
     "end_time": "2024-02-13T23:12:41.859708400Z",
     "start_time": "2024-02-13T23:12:40.659810400Z"
    }
   },
   "id": "ab9f7c30f6e04388",
   "execution_count": 80
  },
  {
   "cell_type": "code",
   "outputs": [],
   "source": [
    "# Function to remove two-letter words\n",
    "def remove_two_letter_words(text):\n",
    "    words = text.split()\n",
    "    filtered_words = [word for word in words if len(word) != 2]\n",
    "    return ' '.join(filtered_words)\n",
    "\n",
    "# Apply the function to the specified column\n",
    "df2['Description'] = df2['Description'].apply(remove_two_letter_words)"
   ],
   "metadata": {
    "collapsed": false,
    "ExecuteTime": {
     "end_time": "2024-02-13T23:12:43.411478700Z",
     "start_time": "2024-02-13T23:12:42.946652700Z"
    }
   },
   "id": "ad3401a390deaf5e",
   "execution_count": 81
  },
  {
   "cell_type": "code",
   "outputs": [],
   "source": [
    "# Concatenate the three text columns into a single column\n",
    "df2['Cleaned Title'] = df2['Video Title'] + ' ' + df2['Description'] + ' ' + df2['Tags']"
   ],
   "metadata": {
    "collapsed": false,
    "ExecuteTime": {
     "end_time": "2024-02-13T23:12:45.621752500Z",
     "start_time": "2024-02-13T23:12:45.520298700Z"
    }
   },
   "id": "5c5025b0acf3c0b1",
   "execution_count": 82
  },
  {
   "cell_type": "code",
   "outputs": [],
   "source": [
    "blacklist = [\"lil\", \"ft\", \"got\", \"get\", \"first\", \"highlights\", \"channel\", \"new\", \"official\", \"best\",\n",
    "             \"check\", \"latest\", \"also\", \"thanks\", \"join\", \"new\", \"video\", \"content\", \"tiktok\", \"snapchat\", \"instagram\",\n",
    "             \"twitter\", \"videos\", \"subscribe\", \"every\", \"facebook\", \"watch\", \"youtube\", \"follow\", \"like\", \"comment\"]\n",
    "\n",
    "blacklist2 = [\"thi\", \"tak\", \"mo\", \"jo\", \"minut\", \"fnaf\", \"vs\", \"back\", \"short\",\n",
    "              \"official\", \"ofici\", \"gets\", \"music\", \"none\", \"nan\"]\n",
    "\n",
    "def remove_blacklist(text):\n",
    "    words = text.split()\n",
    "    filtered_words = [word for word in words if word.lower() not in blacklist and word.lower() not in blacklist2]\n",
    "    return ' '.join(filtered_words)\n",
    "\n",
    "# Apply the function to the 'Cleaned Title' column\n",
    "df2['Cleaned Title'] = df2['Cleaned Title'].apply(remove_blacklist)"
   ],
   "metadata": {
    "collapsed": false,
    "ExecuteTime": {
     "end_time": "2024-02-13T23:12:49.628444700Z",
     "start_time": "2024-02-13T23:12:46.692485600Z"
    }
   },
   "id": "1f2bb54bba5786ba",
   "execution_count": 83
  },
  {
   "cell_type": "code",
   "outputs": [
    {
     "data": {
      "text/plain": "Video Title      0\nCategory         0\nCategory ID      0\nDescription      0\nTags             0\ntitleUrl         0\nCleaned Title    0\ndtype: int64"
     },
     "execution_count": 84,
     "metadata": {},
     "output_type": "execute_result"
    }
   ],
   "source": [
    "df2.isna().sum()"
   ],
   "metadata": {
    "collapsed": false,
    "ExecuteTime": {
     "end_time": "2024-02-13T23:12:50.648650100Z",
     "start_time": "2024-02-13T23:12:50.579635200Z"
    }
   },
   "id": "19bad8eb3996b01",
   "execution_count": 84
  },
  {
   "cell_type": "code",
   "outputs": [],
   "source": [
    "df2['Cleaned Title'] = df2['Cleaned Title'].apply(lambda x: [i.lower() for i in nltk.word_tokenize(x) if i.lower() not in stop])"
   ],
   "metadata": {
    "collapsed": false,
    "ExecuteTime": {
     "end_time": "2024-02-13T23:13:14.686390100Z",
     "start_time": "2024-02-13T23:12:56.238209200Z"
    }
   },
   "id": "ecc51ed473fea578",
   "execution_count": 85
  },
  {
   "cell_type": "code",
   "outputs": [],
   "source": [
    "lemmatizer = WordNetLemmatizer()\n",
    "df2['Cleaned Title'] = df2['Cleaned Title'].apply(lambda x: [lemmatizer.lemmatize(i) for i in x]).apply(lambda x:' '.join(x))"
   ],
   "metadata": {
    "collapsed": false,
    "ExecuteTime": {
     "end_time": "2024-02-13T23:13:28.784862300Z",
     "start_time": "2024-02-13T23:13:17.013918500Z"
    }
   },
   "id": "3c7c866970e97ff2",
   "execution_count": 86
  },
  {
   "cell_type": "code",
   "outputs": [],
   "source": [
    "# Function to remove two-letter words\n",
    "def remove_two_letter_words(text):\n",
    "    words = text.split()\n",
    "    filtered_words = [word for word in words if len(word) != 2]\n",
    "    return ' '.join(filtered_words)\n",
    "\n",
    "# Apply the function to the specified column\n",
    "df2['Cleaned Title'] = df2['Cleaned Title'].apply(remove_two_letter_words)"
   ],
   "metadata": {
    "collapsed": false,
    "ExecuteTime": {
     "end_time": "2024-02-13T23:13:30.692051400Z",
     "start_time": "2024-02-13T23:13:30.100392500Z"
    }
   },
   "id": "9456919f9368de1e",
   "execution_count": 87
  },
  {
   "cell_type": "code",
   "outputs": [
    {
     "data": {
      "text/plain": "                                             Video Title        Category  \\\n0                 labrinth rip euphoria live performance  People & Blogs   \n1                    emiway company official music video           Music   \n2      emiway kya bolti public ftyoung galib prod myk...           Music   \n3         mc stn kal hai mera show official video insaan           Music   \n4          mc stn kshmrmusic haath varthi official video           Music   \n...                                                  ...             ...   \n38921  chainsmokers coldplay something like emma hees...           Music   \n38922                             shameless weeknd cover           Music   \n38923            aib podcast million celebration podcast   Entertainment   \n38924                                  best thing planet          Comedy   \n38925                                              exams          Comedy   \n\n       Category ID                                        Description  \\\n0               22  labrinth performs rip euphoria live first time...   \n1               10  album kots king streets audio credits song com...   \n2               10  album kots king streets audio credits song kya...   \n3               10  humanity always humans started believing illus...   \n4               10  haath varthi official music video stan family ...   \n...            ...                                                ...   \n38921           10  chainsmokers coldplay something like like subs...   \n38922           10       weeknds next single spotify itunes instagram   \n38923           24  look back youtube journey hugs pappis follow i...   \n38924           23  bhago haiwaan aaya censorship ocus gaming carr...   \n38925           23  everybody good luck exams mar ahihai carryisli...   \n\n                                                    Tags  \\\n0      remix live acoustic cover karaoke labrinth lab...   \n1      emiway bantai emiway guess emiway new song emi...   \n2      emiway bantai emiway emiway new song rap hip h...   \n3      mc stan mc stan desi hip hip dhh dhh rap hindi...   \n4      mc stan rap haath varthi haath varti mc stan k...   \n...                                                  ...   \n38921  chainsmokers coldplay something like cover cha...   \n38922  shameless weeknd musical artist music tv genre...   \n38923  india bakchod aib allindiabakchod tanmay bhat ...   \n38924  carryminati carry indian youtuber carryminati ...   \n38925  carryminati carry indian youtuber carryminati ...   \n\n                                          titleUrl  \\\n0      https://www.youtube.com/watch?v=OsD1SJKtO9U   \n1      https://www.youtube.com/watch?v=GuGYYdwcPYw   \n2      https://www.youtube.com/watch?v=uMcU5qVz9YE   \n3      https://www.youtube.com/watch?v=0ws4JuK5Lwg   \n4      https://www.youtube.com/watch?v=pg2tsJErYH4   \n...                                            ...   \n38921  https://www.youtube.com/watch?v=-oO-MlSjsUE   \n38922  https://www.youtube.com/watch?v=DXEj_IZmUKU   \n38923  https://www.youtube.com/watch?v=N5c9ZmaGu58   \n38924  https://www.youtube.com/watch?v=vuuA-Gk4tY4   \n38925  https://www.youtube.com/watch?v=oilFiLwY4Ks   \n\n                                           Cleaned Title  \n0      labrinth rip euphoria live performance labrint...  \n1      emiway company album kots king street audio cr...  \n2      emiway kya bolti public ftyoung galib prod myk...  \n3      stn kal hai mera show insaan humanity always h...  \n4      stn kshmrmusic haath varthi haath varthi stan ...  \n...                                                  ...  \n38921  chainsmokers coldplay something emma heesters ...  \n38922  shameless weeknd cover weeknds next single spo...  \n38923  aib podcast million celebration podcast look j...  \n38924  thing planet bhago haiwaan aaya censorship ocu...  \n38925  exam everybody good luck exam mar ahihai carry...  \n\n[38926 rows x 7 columns]",
      "text/html": "<div>\n<style scoped>\n    .dataframe tbody tr th:only-of-type {\n        vertical-align: middle;\n    }\n\n    .dataframe tbody tr th {\n        vertical-align: top;\n    }\n\n    .dataframe thead th {\n        text-align: right;\n    }\n</style>\n<table border=\"1\" class=\"dataframe\">\n  <thead>\n    <tr style=\"text-align: right;\">\n      <th></th>\n      <th>Video Title</th>\n      <th>Category</th>\n      <th>Category ID</th>\n      <th>Description</th>\n      <th>Tags</th>\n      <th>titleUrl</th>\n      <th>Cleaned Title</th>\n    </tr>\n  </thead>\n  <tbody>\n    <tr>\n      <th>0</th>\n      <td>labrinth rip euphoria live performance</td>\n      <td>People &amp; Blogs</td>\n      <td>22</td>\n      <td>labrinth performs rip euphoria live first time...</td>\n      <td>remix live acoustic cover karaoke labrinth lab...</td>\n      <td>https://www.youtube.com/watch?v=OsD1SJKtO9U</td>\n      <td>labrinth rip euphoria live performance labrint...</td>\n    </tr>\n    <tr>\n      <th>1</th>\n      <td>emiway company official music video</td>\n      <td>Music</td>\n      <td>10</td>\n      <td>album kots king streets audio credits song com...</td>\n      <td>emiway bantai emiway guess emiway new song emi...</td>\n      <td>https://www.youtube.com/watch?v=GuGYYdwcPYw</td>\n      <td>emiway company album kots king street audio cr...</td>\n    </tr>\n    <tr>\n      <th>2</th>\n      <td>emiway kya bolti public ftyoung galib prod myk...</td>\n      <td>Music</td>\n      <td>10</td>\n      <td>album kots king streets audio credits song kya...</td>\n      <td>emiway bantai emiway emiway new song rap hip h...</td>\n      <td>https://www.youtube.com/watch?v=uMcU5qVz9YE</td>\n      <td>emiway kya bolti public ftyoung galib prod myk...</td>\n    </tr>\n    <tr>\n      <th>3</th>\n      <td>mc stn kal hai mera show official video insaan</td>\n      <td>Music</td>\n      <td>10</td>\n      <td>humanity always humans started believing illus...</td>\n      <td>mc stan mc stan desi hip hip dhh dhh rap hindi...</td>\n      <td>https://www.youtube.com/watch?v=0ws4JuK5Lwg</td>\n      <td>stn kal hai mera show insaan humanity always h...</td>\n    </tr>\n    <tr>\n      <th>4</th>\n      <td>mc stn kshmrmusic haath varthi official video</td>\n      <td>Music</td>\n      <td>10</td>\n      <td>haath varthi official music video stan family ...</td>\n      <td>mc stan rap haath varthi haath varti mc stan k...</td>\n      <td>https://www.youtube.com/watch?v=pg2tsJErYH4</td>\n      <td>stn kshmrmusic haath varthi haath varthi stan ...</td>\n    </tr>\n    <tr>\n      <th>...</th>\n      <td>...</td>\n      <td>...</td>\n      <td>...</td>\n      <td>...</td>\n      <td>...</td>\n      <td>...</td>\n      <td>...</td>\n    </tr>\n    <tr>\n      <th>38921</th>\n      <td>chainsmokers coldplay something like emma hees...</td>\n      <td>Music</td>\n      <td>10</td>\n      <td>chainsmokers coldplay something like like subs...</td>\n      <td>chainsmokers coldplay something like cover cha...</td>\n      <td>https://www.youtube.com/watch?v=-oO-MlSjsUE</td>\n      <td>chainsmokers coldplay something emma heesters ...</td>\n    </tr>\n    <tr>\n      <th>38922</th>\n      <td>shameless weeknd cover</td>\n      <td>Music</td>\n      <td>10</td>\n      <td>weeknds next single spotify itunes instagram</td>\n      <td>shameless weeknd musical artist music tv genre...</td>\n      <td>https://www.youtube.com/watch?v=DXEj_IZmUKU</td>\n      <td>shameless weeknd cover weeknds next single spo...</td>\n    </tr>\n    <tr>\n      <th>38923</th>\n      <td>aib podcast million celebration podcast</td>\n      <td>Entertainment</td>\n      <td>24</td>\n      <td>look back youtube journey hugs pappis follow i...</td>\n      <td>india bakchod aib allindiabakchod tanmay bhat ...</td>\n      <td>https://www.youtube.com/watch?v=N5c9ZmaGu58</td>\n      <td>aib podcast million celebration podcast look j...</td>\n    </tr>\n    <tr>\n      <th>38924</th>\n      <td>best thing planet</td>\n      <td>Comedy</td>\n      <td>23</td>\n      <td>bhago haiwaan aaya censorship ocus gaming carr...</td>\n      <td>carryminati carry indian youtuber carryminati ...</td>\n      <td>https://www.youtube.com/watch?v=vuuA-Gk4tY4</td>\n      <td>thing planet bhago haiwaan aaya censorship ocu...</td>\n    </tr>\n    <tr>\n      <th>38925</th>\n      <td>exams</td>\n      <td>Comedy</td>\n      <td>23</td>\n      <td>everybody good luck exams mar ahihai carryisli...</td>\n      <td>carryminati carry indian youtuber carryminati ...</td>\n      <td>https://www.youtube.com/watch?v=oilFiLwY4Ks</td>\n      <td>exam everybody good luck exam mar ahihai carry...</td>\n    </tr>\n  </tbody>\n</table>\n<p>38926 rows × 7 columns</p>\n</div>"
     },
     "execution_count": 88,
     "metadata": {},
     "output_type": "execute_result"
    }
   ],
   "source": [
    "df2"
   ],
   "metadata": {
    "collapsed": false,
    "ExecuteTime": {
     "end_time": "2024-02-13T23:13:32.058821800Z",
     "start_time": "2024-02-13T23:13:32.015093700Z"
    }
   },
   "id": "660b0cf061f948d",
   "execution_count": 88
  },
  {
   "cell_type": "code",
   "outputs": [],
   "source": [
    "df2.dropna(inplace=True)"
   ],
   "metadata": {
    "collapsed": false,
    "ExecuteTime": {
     "end_time": "2024-02-13T23:13:34.185505200Z",
     "start_time": "2024-02-13T23:13:33.686452600Z"
    }
   },
   "id": "a3659e9d3971a572",
   "execution_count": 89
  },
  {
   "cell_type": "code",
   "outputs": [
    {
     "data": {
      "text/plain": "Video Title      0\nCategory         0\nCategory ID      0\nDescription      0\nTags             0\ntitleUrl         0\nCleaned Title    0\ndtype: int64"
     },
     "execution_count": 90,
     "metadata": {},
     "output_type": "execute_result"
    }
   ],
   "source": [
    "df2.isna().sum()"
   ],
   "metadata": {
    "collapsed": false,
    "ExecuteTime": {
     "end_time": "2024-02-13T23:13:36.195577200Z",
     "start_time": "2024-02-13T23:13:35.970802200Z"
    }
   },
   "id": "cff8be629b533a41",
   "execution_count": 90
  },
  {
   "cell_type": "code",
   "outputs": [
    {
     "data": {
      "text/plain": "                                             Video Title        Category  \\\n0                 labrinth rip euphoria live performance  People & Blogs   \n1                    emiway company official music video           Music   \n2      emiway kya bolti public ftyoung galib prod myk...           Music   \n3         mc stn kal hai mera show official video insaan           Music   \n4          mc stn kshmrmusic haath varthi official video           Music   \n...                                                  ...             ...   \n38921  chainsmokers coldplay something like emma hees...           Music   \n38922                             shameless weeknd cover           Music   \n38923            aib podcast million celebration podcast   Entertainment   \n38924                                  best thing planet          Comedy   \n38925                                              exams          Comedy   \n\n       Category ID                                        Description  \\\n0               22  labrinth performs rip euphoria live first time...   \n1               10  album kots king streets audio credits song com...   \n2               10  album kots king streets audio credits song kya...   \n3               10  humanity always humans started believing illus...   \n4               10  haath varthi official music video stan family ...   \n...            ...                                                ...   \n38921           10  chainsmokers coldplay something like like subs...   \n38922           10       weeknds next single spotify itunes instagram   \n38923           24  look back youtube journey hugs pappis follow i...   \n38924           23  bhago haiwaan aaya censorship ocus gaming carr...   \n38925           23  everybody good luck exams mar ahihai carryisli...   \n\n                                                    Tags  \\\n0      remix live acoustic cover karaoke labrinth lab...   \n1      emiway bantai emiway guess emiway new song emi...   \n2      emiway bantai emiway emiway new song rap hip h...   \n3      mc stan mc stan desi hip hip dhh dhh rap hindi...   \n4      mc stan rap haath varthi haath varti mc stan k...   \n...                                                  ...   \n38921  chainsmokers coldplay something like cover cha...   \n38922  shameless weeknd musical artist music tv genre...   \n38923  india bakchod aib allindiabakchod tanmay bhat ...   \n38924  carryminati carry indian youtuber carryminati ...   \n38925  carryminati carry indian youtuber carryminati ...   \n\n                                          titleUrl  \\\n0      https://www.youtube.com/watch?v=OsD1SJKtO9U   \n1      https://www.youtube.com/watch?v=GuGYYdwcPYw   \n2      https://www.youtube.com/watch?v=uMcU5qVz9YE   \n3      https://www.youtube.com/watch?v=0ws4JuK5Lwg   \n4      https://www.youtube.com/watch?v=pg2tsJErYH4   \n...                                            ...   \n38921  https://www.youtube.com/watch?v=-oO-MlSjsUE   \n38922  https://www.youtube.com/watch?v=DXEj_IZmUKU   \n38923  https://www.youtube.com/watch?v=N5c9ZmaGu58   \n38924  https://www.youtube.com/watch?v=vuuA-Gk4tY4   \n38925  https://www.youtube.com/watch?v=oilFiLwY4Ks   \n\n                                           Cleaned Title  \n0      labrinth rip euphoria live performance labrint...  \n1      emiway company album kots king street audio cr...  \n2      emiway kya bolti public ftyoung galib prod myk...  \n3      stn kal hai mera show insaan humanity always h...  \n4      stn kshmrmusic haath varthi haath varthi stan ...  \n...                                                  ...  \n38921  chainsmokers coldplay something emma heesters ...  \n38922  shameless weeknd cover weeknds next single spo...  \n38923  aib podcast million celebration podcast look j...  \n38924  thing planet bhago haiwaan aaya censorship ocu...  \n38925  exam everybody good luck exam mar ahihai carry...  \n\n[38926 rows x 7 columns]",
      "text/html": "<div>\n<style scoped>\n    .dataframe tbody tr th:only-of-type {\n        vertical-align: middle;\n    }\n\n    .dataframe tbody tr th {\n        vertical-align: top;\n    }\n\n    .dataframe thead th {\n        text-align: right;\n    }\n</style>\n<table border=\"1\" class=\"dataframe\">\n  <thead>\n    <tr style=\"text-align: right;\">\n      <th></th>\n      <th>Video Title</th>\n      <th>Category</th>\n      <th>Category ID</th>\n      <th>Description</th>\n      <th>Tags</th>\n      <th>titleUrl</th>\n      <th>Cleaned Title</th>\n    </tr>\n  </thead>\n  <tbody>\n    <tr>\n      <th>0</th>\n      <td>labrinth rip euphoria live performance</td>\n      <td>People &amp; Blogs</td>\n      <td>22</td>\n      <td>labrinth performs rip euphoria live first time...</td>\n      <td>remix live acoustic cover karaoke labrinth lab...</td>\n      <td>https://www.youtube.com/watch?v=OsD1SJKtO9U</td>\n      <td>labrinth rip euphoria live performance labrint...</td>\n    </tr>\n    <tr>\n      <th>1</th>\n      <td>emiway company official music video</td>\n      <td>Music</td>\n      <td>10</td>\n      <td>album kots king streets audio credits song com...</td>\n      <td>emiway bantai emiway guess emiway new song emi...</td>\n      <td>https://www.youtube.com/watch?v=GuGYYdwcPYw</td>\n      <td>emiway company album kots king street audio cr...</td>\n    </tr>\n    <tr>\n      <th>2</th>\n      <td>emiway kya bolti public ftyoung galib prod myk...</td>\n      <td>Music</td>\n      <td>10</td>\n      <td>album kots king streets audio credits song kya...</td>\n      <td>emiway bantai emiway emiway new song rap hip h...</td>\n      <td>https://www.youtube.com/watch?v=uMcU5qVz9YE</td>\n      <td>emiway kya bolti public ftyoung galib prod myk...</td>\n    </tr>\n    <tr>\n      <th>3</th>\n      <td>mc stn kal hai mera show official video insaan</td>\n      <td>Music</td>\n      <td>10</td>\n      <td>humanity always humans started believing illus...</td>\n      <td>mc stan mc stan desi hip hip dhh dhh rap hindi...</td>\n      <td>https://www.youtube.com/watch?v=0ws4JuK5Lwg</td>\n      <td>stn kal hai mera show insaan humanity always h...</td>\n    </tr>\n    <tr>\n      <th>4</th>\n      <td>mc stn kshmrmusic haath varthi official video</td>\n      <td>Music</td>\n      <td>10</td>\n      <td>haath varthi official music video stan family ...</td>\n      <td>mc stan rap haath varthi haath varti mc stan k...</td>\n      <td>https://www.youtube.com/watch?v=pg2tsJErYH4</td>\n      <td>stn kshmrmusic haath varthi haath varthi stan ...</td>\n    </tr>\n    <tr>\n      <th>...</th>\n      <td>...</td>\n      <td>...</td>\n      <td>...</td>\n      <td>...</td>\n      <td>...</td>\n      <td>...</td>\n      <td>...</td>\n    </tr>\n    <tr>\n      <th>38921</th>\n      <td>chainsmokers coldplay something like emma hees...</td>\n      <td>Music</td>\n      <td>10</td>\n      <td>chainsmokers coldplay something like like subs...</td>\n      <td>chainsmokers coldplay something like cover cha...</td>\n      <td>https://www.youtube.com/watch?v=-oO-MlSjsUE</td>\n      <td>chainsmokers coldplay something emma heesters ...</td>\n    </tr>\n    <tr>\n      <th>38922</th>\n      <td>shameless weeknd cover</td>\n      <td>Music</td>\n      <td>10</td>\n      <td>weeknds next single spotify itunes instagram</td>\n      <td>shameless weeknd musical artist music tv genre...</td>\n      <td>https://www.youtube.com/watch?v=DXEj_IZmUKU</td>\n      <td>shameless weeknd cover weeknds next single spo...</td>\n    </tr>\n    <tr>\n      <th>38923</th>\n      <td>aib podcast million celebration podcast</td>\n      <td>Entertainment</td>\n      <td>24</td>\n      <td>look back youtube journey hugs pappis follow i...</td>\n      <td>india bakchod aib allindiabakchod tanmay bhat ...</td>\n      <td>https://www.youtube.com/watch?v=N5c9ZmaGu58</td>\n      <td>aib podcast million celebration podcast look j...</td>\n    </tr>\n    <tr>\n      <th>38924</th>\n      <td>best thing planet</td>\n      <td>Comedy</td>\n      <td>23</td>\n      <td>bhago haiwaan aaya censorship ocus gaming carr...</td>\n      <td>carryminati carry indian youtuber carryminati ...</td>\n      <td>https://www.youtube.com/watch?v=vuuA-Gk4tY4</td>\n      <td>thing planet bhago haiwaan aaya censorship ocu...</td>\n    </tr>\n    <tr>\n      <th>38925</th>\n      <td>exams</td>\n      <td>Comedy</td>\n      <td>23</td>\n      <td>everybody good luck exams mar ahihai carryisli...</td>\n      <td>carryminati carry indian youtuber carryminati ...</td>\n      <td>https://www.youtube.com/watch?v=oilFiLwY4Ks</td>\n      <td>exam everybody good luck exam mar ahihai carry...</td>\n    </tr>\n  </tbody>\n</table>\n<p>38926 rows × 7 columns</p>\n</div>"
     },
     "execution_count": 91,
     "metadata": {},
     "output_type": "execute_result"
    }
   ],
   "source": [
    "df2"
   ],
   "metadata": {
    "collapsed": false,
    "ExecuteTime": {
     "end_time": "2024-02-13T23:13:37.617689300Z",
     "start_time": "2024-02-13T23:13:37.554967200Z"
    }
   },
   "id": "4dc3191affe93607",
   "execution_count": 91
  },
  {
   "cell_type": "code",
   "outputs": [],
   "source": [
    "df2.to_csv('C:/Users/shrey/OneDrive/Desktop/Thesis/3B/YT_CLEANED.csv', index=False)"
   ],
   "metadata": {
    "collapsed": false,
    "ExecuteTime": {
     "end_time": "2024-02-13T23:13:43.895694500Z",
     "start_time": "2024-02-13T23:13:42.657048200Z"
    }
   },
   "id": "d603a03a6967dcda",
   "execution_count": 92
  },
  {
   "cell_type": "code",
   "outputs": [],
   "source": [
    "columns_to_drop = ['Video Title', 'Tags', 'Description']\n",
    "df = df2.drop(columns=columns_to_drop)"
   ],
   "metadata": {
    "collapsed": false,
    "ExecuteTime": {
     "end_time": "2024-02-13T23:13:50.103488600Z",
     "start_time": "2024-02-13T23:13:50.077617Z"
    }
   },
   "id": "9c1c0d176f809935",
   "execution_count": 93
  },
  {
   "cell_type": "code",
   "outputs": [
    {
     "data": {
      "text/plain": "             Category  Category ID  \\\n0      People & Blogs           22   \n1               Music           10   \n2               Music           10   \n3               Music           10   \n4               Music           10   \n...               ...          ...   \n38921           Music           10   \n38922           Music           10   \n38923   Entertainment           24   \n38924          Comedy           23   \n38925          Comedy           23   \n\n                                          titleUrl  \\\n0      https://www.youtube.com/watch?v=OsD1SJKtO9U   \n1      https://www.youtube.com/watch?v=GuGYYdwcPYw   \n2      https://www.youtube.com/watch?v=uMcU5qVz9YE   \n3      https://www.youtube.com/watch?v=0ws4JuK5Lwg   \n4      https://www.youtube.com/watch?v=pg2tsJErYH4   \n...                                            ...   \n38921  https://www.youtube.com/watch?v=-oO-MlSjsUE   \n38922  https://www.youtube.com/watch?v=DXEj_IZmUKU   \n38923  https://www.youtube.com/watch?v=N5c9ZmaGu58   \n38924  https://www.youtube.com/watch?v=vuuA-Gk4tY4   \n38925  https://www.youtube.com/watch?v=oilFiLwY4Ks   \n\n                                           Cleaned Title  \n0      labrinth rip euphoria live performance labrint...  \n1      emiway company album kots king street audio cr...  \n2      emiway kya bolti public ftyoung galib prod myk...  \n3      stn kal hai mera show insaan humanity always h...  \n4      stn kshmrmusic haath varthi haath varthi stan ...  \n...                                                  ...  \n38921  chainsmokers coldplay something emma heesters ...  \n38922  shameless weeknd cover weeknds next single spo...  \n38923  aib podcast million celebration podcast look j...  \n38924  thing planet bhago haiwaan aaya censorship ocu...  \n38925  exam everybody good luck exam mar ahihai carry...  \n\n[38926 rows x 4 columns]",
      "text/html": "<div>\n<style scoped>\n    .dataframe tbody tr th:only-of-type {\n        vertical-align: middle;\n    }\n\n    .dataframe tbody tr th {\n        vertical-align: top;\n    }\n\n    .dataframe thead th {\n        text-align: right;\n    }\n</style>\n<table border=\"1\" class=\"dataframe\">\n  <thead>\n    <tr style=\"text-align: right;\">\n      <th></th>\n      <th>Category</th>\n      <th>Category ID</th>\n      <th>titleUrl</th>\n      <th>Cleaned Title</th>\n    </tr>\n  </thead>\n  <tbody>\n    <tr>\n      <th>0</th>\n      <td>People &amp; Blogs</td>\n      <td>22</td>\n      <td>https://www.youtube.com/watch?v=OsD1SJKtO9U</td>\n      <td>labrinth rip euphoria live performance labrint...</td>\n    </tr>\n    <tr>\n      <th>1</th>\n      <td>Music</td>\n      <td>10</td>\n      <td>https://www.youtube.com/watch?v=GuGYYdwcPYw</td>\n      <td>emiway company album kots king street audio cr...</td>\n    </tr>\n    <tr>\n      <th>2</th>\n      <td>Music</td>\n      <td>10</td>\n      <td>https://www.youtube.com/watch?v=uMcU5qVz9YE</td>\n      <td>emiway kya bolti public ftyoung galib prod myk...</td>\n    </tr>\n    <tr>\n      <th>3</th>\n      <td>Music</td>\n      <td>10</td>\n      <td>https://www.youtube.com/watch?v=0ws4JuK5Lwg</td>\n      <td>stn kal hai mera show insaan humanity always h...</td>\n    </tr>\n    <tr>\n      <th>4</th>\n      <td>Music</td>\n      <td>10</td>\n      <td>https://www.youtube.com/watch?v=pg2tsJErYH4</td>\n      <td>stn kshmrmusic haath varthi haath varthi stan ...</td>\n    </tr>\n    <tr>\n      <th>...</th>\n      <td>...</td>\n      <td>...</td>\n      <td>...</td>\n      <td>...</td>\n    </tr>\n    <tr>\n      <th>38921</th>\n      <td>Music</td>\n      <td>10</td>\n      <td>https://www.youtube.com/watch?v=-oO-MlSjsUE</td>\n      <td>chainsmokers coldplay something emma heesters ...</td>\n    </tr>\n    <tr>\n      <th>38922</th>\n      <td>Music</td>\n      <td>10</td>\n      <td>https://www.youtube.com/watch?v=DXEj_IZmUKU</td>\n      <td>shameless weeknd cover weeknds next single spo...</td>\n    </tr>\n    <tr>\n      <th>38923</th>\n      <td>Entertainment</td>\n      <td>24</td>\n      <td>https://www.youtube.com/watch?v=N5c9ZmaGu58</td>\n      <td>aib podcast million celebration podcast look j...</td>\n    </tr>\n    <tr>\n      <th>38924</th>\n      <td>Comedy</td>\n      <td>23</td>\n      <td>https://www.youtube.com/watch?v=vuuA-Gk4tY4</td>\n      <td>thing planet bhago haiwaan aaya censorship ocu...</td>\n    </tr>\n    <tr>\n      <th>38925</th>\n      <td>Comedy</td>\n      <td>23</td>\n      <td>https://www.youtube.com/watch?v=oilFiLwY4Ks</td>\n      <td>exam everybody good luck exam mar ahihai carry...</td>\n    </tr>\n  </tbody>\n</table>\n<p>38926 rows × 4 columns</p>\n</div>"
     },
     "execution_count": 94,
     "metadata": {},
     "output_type": "execute_result"
    }
   ],
   "source": [
    "df"
   ],
   "metadata": {
    "collapsed": false,
    "ExecuteTime": {
     "end_time": "2024-02-13T23:13:51.823366800Z",
     "start_time": "2024-02-13T23:13:51.779796900Z"
    }
   },
   "id": "8d9b5cb09bf49ea4",
   "execution_count": 94
  },
  {
   "cell_type": "code",
   "outputs": [],
   "source": [
    "df.to_csv('C:/Users/shrey/OneDrive/Desktop/Thesis/3B/YT_CLEAN.csv', index=False)"
   ],
   "metadata": {
    "collapsed": false,
    "ExecuteTime": {
     "end_time": "2024-02-13T23:13:55.854713100Z",
     "start_time": "2024-02-13T23:13:55.272830700Z"
    }
   },
   "id": "cffd8016862c7855",
   "execution_count": 95
  },
  {
   "cell_type": "code",
   "outputs": [],
   "source": [],
   "metadata": {
    "collapsed": false
   },
   "id": "b2c2082b65ca50e6"
  }
 ],
 "metadata": {
  "kernelspec": {
   "display_name": "Python 3",
   "language": "python",
   "name": "python3"
  },
  "language_info": {
   "codemirror_mode": {
    "name": "ipython",
    "version": 2
   },
   "file_extension": ".py",
   "mimetype": "text/x-python",
   "name": "python",
   "nbconvert_exporter": "python",
   "pygments_lexer": "ipython2",
   "version": "2.7.6"
  }
 },
 "nbformat": 4,
 "nbformat_minor": 5
}
