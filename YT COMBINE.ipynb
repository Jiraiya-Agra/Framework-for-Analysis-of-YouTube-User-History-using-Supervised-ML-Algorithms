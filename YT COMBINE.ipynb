{
 "cells": [
  {
   "cell_type": "code",
   "execution_count": 1,
   "id": "initial_id",
   "metadata": {
    "collapsed": true,
    "ExecuteTime": {
     "end_time": "2024-02-14T05:35:43.740120100Z",
     "start_time": "2024-02-14T05:35:43.728323Z"
    }
   },
   "outputs": [],
   "source": [
    "import pandas as pd"
   ]
  },
  {
   "cell_type": "code",
   "outputs": [],
   "source": [
    "# Load CSV files into DataFrames\n",
    "df_thumbkey = pd.read_csv('C:/Users/shrey/OneDrive/Desktop/Thesis/3B/Thumbk4.csv')\n",
    "df_results = pd.read_csv('C:/Users/shrey/OneDrive/Desktop/Thesis/9B/result4.csv', encoding='latin1')"
   ],
   "metadata": {
    "collapsed": false,
    "ExecuteTime": {
     "end_time": "2024-02-14T05:53:12.068832500Z",
     "start_time": "2024-02-14T05:53:11.920755500Z"
    }
   },
   "id": "131cd9a0a41d49d7",
   "execution_count": 54
  },
  {
   "cell_type": "code",
   "outputs": [
    {
     "data": {
      "text/plain": "           Category  Category ID                                     titleUrl  \\\n0     Entertainment           24  https://www.youtube.com/watch?v=RyOBy0RKJws   \n1     Entertainment           24  https://www.youtube.com/watch?v=79MjHknHx-Y   \n2     Entertainment           24  https://www.youtube.com/watch?v=s9Vz368GNnA   \n3             Music           10  https://www.youtube.com/watch?v=SLsTskih7_I   \n4             Music           10  https://www.youtube.com/watch?v=UYwF-jdcVjY   \n...             ...          ...                                          ...   \n9725          Music           10  https://www.youtube.com/watch?v=-oO-MlSjsUE   \n9726          Music           10  https://www.youtube.com/watch?v=DXEj_IZmUKU   \n9727  Entertainment           24  https://www.youtube.com/watch?v=N5c9ZmaGu58   \n9728         Comedy           23  https://www.youtube.com/watch?v=vuuA-Gk4tY4   \n9729         Comedy           23  https://www.youtube.com/watch?v=oilFiLwY4Ks   \n\n                                          Cleaned Title  Serial Number  \\\n0     board exam taiyari tsps rabish report youthon ...              0   \n1     tsps rabish report upsc taiyari upsc exam indi...              1   \n2     tvf shot ever come across man masculine prove ...              2   \n3     post malone white iverson white iverson post m...              3   \n4     post malone better better song connect post ma...              4   \n...                                                 ...            ...   \n9725  chainsmokers coldplay something emma heesters ...           9725   \n9726  shameless weeknd cover weeknds next single spo...           9726   \n9727  aib podcast million celebration podcast look j...           9727   \n9728  thing planet bhago haiwaan aaya censorship ocu...           9728   \n9729  exam everybody good luck exam mar ahihai carry...           9729   \n\n                                        thumbnailUrl Thumbnail Filename  \n0     https://i.ytimg.com/vi/RyOBy0RKJws/default.jpg              0.jpg  \n1     https://i.ytimg.com/vi/79MjHknHx-Y/default.jpg              1.jpg  \n2     https://i.ytimg.com/vi/s9Vz368GNnA/default.jpg              2.jpg  \n3     https://i.ytimg.com/vi/SLsTskih7_I/default.jpg              3.jpg  \n4     https://i.ytimg.com/vi/UYwF-jdcVjY/default.jpg              4.jpg  \n...                                              ...                ...  \n9725  https://i.ytimg.com/vi/-oO-MlSjsUE/default.jpg           9725.jpg  \n9726  https://i.ytimg.com/vi/DXEj_IZmUKU/default.jpg           9726.jpg  \n9727  https://i.ytimg.com/vi/N5c9ZmaGu58/default.jpg           9727.jpg  \n9728  https://i.ytimg.com/vi/vuuA-Gk4tY4/default.jpg           9728.jpg  \n9729  https://i.ytimg.com/vi/oilFiLwY4Ks/default.jpg           9729.jpg  \n\n[9730 rows x 7 columns]",
      "text/html": "<div>\n<style scoped>\n    .dataframe tbody tr th:only-of-type {\n        vertical-align: middle;\n    }\n\n    .dataframe tbody tr th {\n        vertical-align: top;\n    }\n\n    .dataframe thead th {\n        text-align: right;\n    }\n</style>\n<table border=\"1\" class=\"dataframe\">\n  <thead>\n    <tr style=\"text-align: right;\">\n      <th></th>\n      <th>Category</th>\n      <th>Category ID</th>\n      <th>titleUrl</th>\n      <th>Cleaned Title</th>\n      <th>Serial Number</th>\n      <th>thumbnailUrl</th>\n      <th>Thumbnail Filename</th>\n    </tr>\n  </thead>\n  <tbody>\n    <tr>\n      <th>0</th>\n      <td>Entertainment</td>\n      <td>24</td>\n      <td>https://www.youtube.com/watch?v=RyOBy0RKJws</td>\n      <td>board exam taiyari tsps rabish report youthon ...</td>\n      <td>0</td>\n      <td>https://i.ytimg.com/vi/RyOBy0RKJws/default.jpg</td>\n      <td>0.jpg</td>\n    </tr>\n    <tr>\n      <th>1</th>\n      <td>Entertainment</td>\n      <td>24</td>\n      <td>https://www.youtube.com/watch?v=79MjHknHx-Y</td>\n      <td>tsps rabish report upsc taiyari upsc exam indi...</td>\n      <td>1</td>\n      <td>https://i.ytimg.com/vi/79MjHknHx-Y/default.jpg</td>\n      <td>1.jpg</td>\n    </tr>\n    <tr>\n      <th>2</th>\n      <td>Entertainment</td>\n      <td>24</td>\n      <td>https://www.youtube.com/watch?v=s9Vz368GNnA</td>\n      <td>tvf shot ever come across man masculine prove ...</td>\n      <td>2</td>\n      <td>https://i.ytimg.com/vi/s9Vz368GNnA/default.jpg</td>\n      <td>2.jpg</td>\n    </tr>\n    <tr>\n      <th>3</th>\n      <td>Music</td>\n      <td>10</td>\n      <td>https://www.youtube.com/watch?v=SLsTskih7_I</td>\n      <td>post malone white iverson white iverson post m...</td>\n      <td>3</td>\n      <td>https://i.ytimg.com/vi/SLsTskih7_I/default.jpg</td>\n      <td>3.jpg</td>\n    </tr>\n    <tr>\n      <th>4</th>\n      <td>Music</td>\n      <td>10</td>\n      <td>https://www.youtube.com/watch?v=UYwF-jdcVjY</td>\n      <td>post malone better better song connect post ma...</td>\n      <td>4</td>\n      <td>https://i.ytimg.com/vi/UYwF-jdcVjY/default.jpg</td>\n      <td>4.jpg</td>\n    </tr>\n    <tr>\n      <th>...</th>\n      <td>...</td>\n      <td>...</td>\n      <td>...</td>\n      <td>...</td>\n      <td>...</td>\n      <td>...</td>\n      <td>...</td>\n    </tr>\n    <tr>\n      <th>9725</th>\n      <td>Music</td>\n      <td>10</td>\n      <td>https://www.youtube.com/watch?v=-oO-MlSjsUE</td>\n      <td>chainsmokers coldplay something emma heesters ...</td>\n      <td>9725</td>\n      <td>https://i.ytimg.com/vi/-oO-MlSjsUE/default.jpg</td>\n      <td>9725.jpg</td>\n    </tr>\n    <tr>\n      <th>9726</th>\n      <td>Music</td>\n      <td>10</td>\n      <td>https://www.youtube.com/watch?v=DXEj_IZmUKU</td>\n      <td>shameless weeknd cover weeknds next single spo...</td>\n      <td>9726</td>\n      <td>https://i.ytimg.com/vi/DXEj_IZmUKU/default.jpg</td>\n      <td>9726.jpg</td>\n    </tr>\n    <tr>\n      <th>9727</th>\n      <td>Entertainment</td>\n      <td>24</td>\n      <td>https://www.youtube.com/watch?v=N5c9ZmaGu58</td>\n      <td>aib podcast million celebration podcast look j...</td>\n      <td>9727</td>\n      <td>https://i.ytimg.com/vi/N5c9ZmaGu58/default.jpg</td>\n      <td>9727.jpg</td>\n    </tr>\n    <tr>\n      <th>9728</th>\n      <td>Comedy</td>\n      <td>23</td>\n      <td>https://www.youtube.com/watch?v=vuuA-Gk4tY4</td>\n      <td>thing planet bhago haiwaan aaya censorship ocu...</td>\n      <td>9728</td>\n      <td>https://i.ytimg.com/vi/vuuA-Gk4tY4/default.jpg</td>\n      <td>9728.jpg</td>\n    </tr>\n    <tr>\n      <th>9729</th>\n      <td>Comedy</td>\n      <td>23</td>\n      <td>https://www.youtube.com/watch?v=oilFiLwY4Ks</td>\n      <td>exam everybody good luck exam mar ahihai carry...</td>\n      <td>9729</td>\n      <td>https://i.ytimg.com/vi/oilFiLwY4Ks/default.jpg</td>\n      <td>9729.jpg</td>\n    </tr>\n  </tbody>\n</table>\n<p>9730 rows × 7 columns</p>\n</div>"
     },
     "execution_count": 55,
     "metadata": {},
     "output_type": "execute_result"
    }
   ],
   "source": [
    "df_thumbkey"
   ],
   "metadata": {
    "collapsed": false,
    "ExecuteTime": {
     "end_time": "2024-02-14T05:53:12.930628500Z",
     "start_time": "2024-02-14T05:53:12.713809800Z"
    }
   },
   "id": "625f667b66b138e3",
   "execution_count": 55
  },
  {
   "cell_type": "code",
   "outputs": [
    {
     "data": {
      "text/plain": "      Thumbnail                                           Keywords\n0             0  sharing, television program, font, news, forma...\n1             1  television program, smile, sharing, font, disp...\n2            10  plant, water, tree, helmet, landscape, grass, ...\n3           100  purple, violet, magenta, electric blue, televi...\n4          1000  font, sharing, screenshot, technology, display...\n...         ...                                                ...\n9725        995  water, plant, hat, smile, tree, cap, art, land...\n9726        996  glasses, jaw, beard, eyewear, movie, facial ha...\n9727        997  mouth, sharing, thigh, event, entertainment, a...\n9728        998  beard, music, music artist, television program...\n9729        999  font, display device, electronic device, enter...\n\n[9730 rows x 2 columns]",
      "text/html": "<div>\n<style scoped>\n    .dataframe tbody tr th:only-of-type {\n        vertical-align: middle;\n    }\n\n    .dataframe tbody tr th {\n        vertical-align: top;\n    }\n\n    .dataframe thead th {\n        text-align: right;\n    }\n</style>\n<table border=\"1\" class=\"dataframe\">\n  <thead>\n    <tr style=\"text-align: right;\">\n      <th></th>\n      <th>Thumbnail</th>\n      <th>Keywords</th>\n    </tr>\n  </thead>\n  <tbody>\n    <tr>\n      <th>0</th>\n      <td>0</td>\n      <td>sharing, television program, font, news, forma...</td>\n    </tr>\n    <tr>\n      <th>1</th>\n      <td>1</td>\n      <td>television program, smile, sharing, font, disp...</td>\n    </tr>\n    <tr>\n      <th>2</th>\n      <td>10</td>\n      <td>plant, water, tree, helmet, landscape, grass, ...</td>\n    </tr>\n    <tr>\n      <th>3</th>\n      <td>100</td>\n      <td>purple, violet, magenta, electric blue, televi...</td>\n    </tr>\n    <tr>\n      <th>4</th>\n      <td>1000</td>\n      <td>font, sharing, screenshot, technology, display...</td>\n    </tr>\n    <tr>\n      <th>...</th>\n      <td>...</td>\n      <td>...</td>\n    </tr>\n    <tr>\n      <th>9725</th>\n      <td>995</td>\n      <td>water, plant, hat, smile, tree, cap, art, land...</td>\n    </tr>\n    <tr>\n      <th>9726</th>\n      <td>996</td>\n      <td>glasses, jaw, beard, eyewear, movie, facial ha...</td>\n    </tr>\n    <tr>\n      <th>9727</th>\n      <td>997</td>\n      <td>mouth, sharing, thigh, event, entertainment, a...</td>\n    </tr>\n    <tr>\n      <th>9728</th>\n      <td>998</td>\n      <td>beard, music, music artist, television program...</td>\n    </tr>\n    <tr>\n      <th>9729</th>\n      <td>999</td>\n      <td>font, display device, electronic device, enter...</td>\n    </tr>\n  </tbody>\n</table>\n<p>9730 rows × 2 columns</p>\n</div>"
     },
     "execution_count": 56,
     "metadata": {},
     "output_type": "execute_result"
    }
   ],
   "source": [
    "df_results"
   ],
   "metadata": {
    "collapsed": false,
    "ExecuteTime": {
     "end_time": "2024-02-14T05:53:14.199959500Z",
     "start_time": "2024-02-14T05:53:14.163939300Z"
    }
   },
   "id": "ccb8a1a547b76458",
   "execution_count": 56
  },
  {
   "cell_type": "code",
   "outputs": [],
   "source": [
    "# Remove '.jpg' extension from the \"Thumbnail Filename\" column\n",
    "df_thumbkey['Thumbnail Filename'] = df_thumbkey['Thumbnail Filename'].str.replace('.jpg', '')"
   ],
   "metadata": {
    "collapsed": false,
    "ExecuteTime": {
     "end_time": "2024-02-14T05:53:15.600642100Z",
     "start_time": "2024-02-14T05:53:15.520868800Z"
    }
   },
   "id": "5218fbf42702dc87",
   "execution_count": 57
  },
  {
   "cell_type": "code",
   "outputs": [
    {
     "data": {
      "text/plain": "           Category  Category ID                                     titleUrl  \\\n0     Entertainment           24  https://www.youtube.com/watch?v=RyOBy0RKJws   \n1     Entertainment           24  https://www.youtube.com/watch?v=79MjHknHx-Y   \n2     Entertainment           24  https://www.youtube.com/watch?v=s9Vz368GNnA   \n3             Music           10  https://www.youtube.com/watch?v=SLsTskih7_I   \n4             Music           10  https://www.youtube.com/watch?v=UYwF-jdcVjY   \n...             ...          ...                                          ...   \n9725          Music           10  https://www.youtube.com/watch?v=-oO-MlSjsUE   \n9726          Music           10  https://www.youtube.com/watch?v=DXEj_IZmUKU   \n9727  Entertainment           24  https://www.youtube.com/watch?v=N5c9ZmaGu58   \n9728         Comedy           23  https://www.youtube.com/watch?v=vuuA-Gk4tY4   \n9729         Comedy           23  https://www.youtube.com/watch?v=oilFiLwY4Ks   \n\n                                          Cleaned Title  Serial Number  \\\n0     board exam taiyari tsps rabish report youthon ...              0   \n1     tsps rabish report upsc taiyari upsc exam indi...              1   \n2     tvf shot ever come across man masculine prove ...              2   \n3     post malone white iverson white iverson post m...              3   \n4     post malone better better song connect post ma...              4   \n...                                                 ...            ...   \n9725  chainsmokers coldplay something emma heesters ...           9725   \n9726  shameless weeknd cover weeknds next single spo...           9726   \n9727  aib podcast million celebration podcast look j...           9727   \n9728  thing planet bhago haiwaan aaya censorship ocu...           9728   \n9729  exam everybody good luck exam mar ahihai carry...           9729   \n\n                                        thumbnailUrl Thumbnail Filename  \n0     https://i.ytimg.com/vi/RyOBy0RKJws/default.jpg                  0  \n1     https://i.ytimg.com/vi/79MjHknHx-Y/default.jpg                  1  \n2     https://i.ytimg.com/vi/s9Vz368GNnA/default.jpg                  2  \n3     https://i.ytimg.com/vi/SLsTskih7_I/default.jpg                  3  \n4     https://i.ytimg.com/vi/UYwF-jdcVjY/default.jpg                  4  \n...                                              ...                ...  \n9725  https://i.ytimg.com/vi/-oO-MlSjsUE/default.jpg               9725  \n9726  https://i.ytimg.com/vi/DXEj_IZmUKU/default.jpg               9726  \n9727  https://i.ytimg.com/vi/N5c9ZmaGu58/default.jpg               9727  \n9728  https://i.ytimg.com/vi/vuuA-Gk4tY4/default.jpg               9728  \n9729  https://i.ytimg.com/vi/oilFiLwY4Ks/default.jpg               9729  \n\n[9730 rows x 7 columns]",
      "text/html": "<div>\n<style scoped>\n    .dataframe tbody tr th:only-of-type {\n        vertical-align: middle;\n    }\n\n    .dataframe tbody tr th {\n        vertical-align: top;\n    }\n\n    .dataframe thead th {\n        text-align: right;\n    }\n</style>\n<table border=\"1\" class=\"dataframe\">\n  <thead>\n    <tr style=\"text-align: right;\">\n      <th></th>\n      <th>Category</th>\n      <th>Category ID</th>\n      <th>titleUrl</th>\n      <th>Cleaned Title</th>\n      <th>Serial Number</th>\n      <th>thumbnailUrl</th>\n      <th>Thumbnail Filename</th>\n    </tr>\n  </thead>\n  <tbody>\n    <tr>\n      <th>0</th>\n      <td>Entertainment</td>\n      <td>24</td>\n      <td>https://www.youtube.com/watch?v=RyOBy0RKJws</td>\n      <td>board exam taiyari tsps rabish report youthon ...</td>\n      <td>0</td>\n      <td>https://i.ytimg.com/vi/RyOBy0RKJws/default.jpg</td>\n      <td>0</td>\n    </tr>\n    <tr>\n      <th>1</th>\n      <td>Entertainment</td>\n      <td>24</td>\n      <td>https://www.youtube.com/watch?v=79MjHknHx-Y</td>\n      <td>tsps rabish report upsc taiyari upsc exam indi...</td>\n      <td>1</td>\n      <td>https://i.ytimg.com/vi/79MjHknHx-Y/default.jpg</td>\n      <td>1</td>\n    </tr>\n    <tr>\n      <th>2</th>\n      <td>Entertainment</td>\n      <td>24</td>\n      <td>https://www.youtube.com/watch?v=s9Vz368GNnA</td>\n      <td>tvf shot ever come across man masculine prove ...</td>\n      <td>2</td>\n      <td>https://i.ytimg.com/vi/s9Vz368GNnA/default.jpg</td>\n      <td>2</td>\n    </tr>\n    <tr>\n      <th>3</th>\n      <td>Music</td>\n      <td>10</td>\n      <td>https://www.youtube.com/watch?v=SLsTskih7_I</td>\n      <td>post malone white iverson white iverson post m...</td>\n      <td>3</td>\n      <td>https://i.ytimg.com/vi/SLsTskih7_I/default.jpg</td>\n      <td>3</td>\n    </tr>\n    <tr>\n      <th>4</th>\n      <td>Music</td>\n      <td>10</td>\n      <td>https://www.youtube.com/watch?v=UYwF-jdcVjY</td>\n      <td>post malone better better song connect post ma...</td>\n      <td>4</td>\n      <td>https://i.ytimg.com/vi/UYwF-jdcVjY/default.jpg</td>\n      <td>4</td>\n    </tr>\n    <tr>\n      <th>...</th>\n      <td>...</td>\n      <td>...</td>\n      <td>...</td>\n      <td>...</td>\n      <td>...</td>\n      <td>...</td>\n      <td>...</td>\n    </tr>\n    <tr>\n      <th>9725</th>\n      <td>Music</td>\n      <td>10</td>\n      <td>https://www.youtube.com/watch?v=-oO-MlSjsUE</td>\n      <td>chainsmokers coldplay something emma heesters ...</td>\n      <td>9725</td>\n      <td>https://i.ytimg.com/vi/-oO-MlSjsUE/default.jpg</td>\n      <td>9725</td>\n    </tr>\n    <tr>\n      <th>9726</th>\n      <td>Music</td>\n      <td>10</td>\n      <td>https://www.youtube.com/watch?v=DXEj_IZmUKU</td>\n      <td>shameless weeknd cover weeknds next single spo...</td>\n      <td>9726</td>\n      <td>https://i.ytimg.com/vi/DXEj_IZmUKU/default.jpg</td>\n      <td>9726</td>\n    </tr>\n    <tr>\n      <th>9727</th>\n      <td>Entertainment</td>\n      <td>24</td>\n      <td>https://www.youtube.com/watch?v=N5c9ZmaGu58</td>\n      <td>aib podcast million celebration podcast look j...</td>\n      <td>9727</td>\n      <td>https://i.ytimg.com/vi/N5c9ZmaGu58/default.jpg</td>\n      <td>9727</td>\n    </tr>\n    <tr>\n      <th>9728</th>\n      <td>Comedy</td>\n      <td>23</td>\n      <td>https://www.youtube.com/watch?v=vuuA-Gk4tY4</td>\n      <td>thing planet bhago haiwaan aaya censorship ocu...</td>\n      <td>9728</td>\n      <td>https://i.ytimg.com/vi/vuuA-Gk4tY4/default.jpg</td>\n      <td>9728</td>\n    </tr>\n    <tr>\n      <th>9729</th>\n      <td>Comedy</td>\n      <td>23</td>\n      <td>https://www.youtube.com/watch?v=oilFiLwY4Ks</td>\n      <td>exam everybody good luck exam mar ahihai carry...</td>\n      <td>9729</td>\n      <td>https://i.ytimg.com/vi/oilFiLwY4Ks/default.jpg</td>\n      <td>9729</td>\n    </tr>\n  </tbody>\n</table>\n<p>9730 rows × 7 columns</p>\n</div>"
     },
     "execution_count": 58,
     "metadata": {},
     "output_type": "execute_result"
    }
   ],
   "source": [
    "df_thumbkey"
   ],
   "metadata": {
    "collapsed": false,
    "ExecuteTime": {
     "end_time": "2024-02-14T05:53:16.369077800Z",
     "start_time": "2024-02-14T05:53:16.357049700Z"
    }
   },
   "id": "6d5bba9d5dbc7043",
   "execution_count": 58
  },
  {
   "cell_type": "code",
   "outputs": [],
   "source": [
    "# Convert the 'Thumbnail Filename' column in df_thumbkey to int32\n",
    "df_thumbkey['Thumbnail Filename'] = df_thumbkey['Thumbnail Filename'].astype('int32')"
   ],
   "metadata": {
    "collapsed": false,
    "ExecuteTime": {
     "end_time": "2024-02-14T05:53:17.218762800Z",
     "start_time": "2024-02-14T05:53:17.198371700Z"
    }
   },
   "id": "64c04dec61da10b5",
   "execution_count": 59
  },
  {
   "cell_type": "code",
   "outputs": [],
   "source": [
    "# Assuming df_results is your DataFrame\n",
    "df_results.index = df_results['Thumbnail'].astype(int)\n",
    "\n",
    "# Sort the DataFrame based on the index in ascending order\n",
    "df_results = df_results.sort_index()\n",
    "\n",
    "# Optional: Reset the index if you want a new default integer index\n",
    "df_results = df_results.reset_index(drop=True)"
   ],
   "metadata": {
    "collapsed": false,
    "ExecuteTime": {
     "end_time": "2024-02-14T05:53:18.069391200Z",
     "start_time": "2024-02-14T05:53:18.040848200Z"
    }
   },
   "id": "75a770e3e9333c61",
   "execution_count": 60
  },
  {
   "cell_type": "code",
   "outputs": [
    {
     "data": {
      "text/plain": "      Thumbnail                                           Keywords\n0             0  sharing, television program, font, news, forma...\n1             1  television program, smile, sharing, font, disp...\n2             2  head, font, entertainment, magenta, art, event...\n3             3  sky, cloud, water, automotive tire, landscape,...\n4             4  entertainment, tree, font, display device, pla...\n...         ...                                                ...\n9725       9725  smile, mouth, gesture, eyelash, violet, layere...\n9726       9726  microphone, jaw, flash photography, musician, ...\n9727       9727  font, screenshot, sharing, event, competition ...\n9728       9728  nose, glasses, vision care, mouth, smile, ear,...\n9729       9729  flash photography, black-and-white, font, wood...\n\n[9730 rows x 2 columns]",
      "text/html": "<div>\n<style scoped>\n    .dataframe tbody tr th:only-of-type {\n        vertical-align: middle;\n    }\n\n    .dataframe tbody tr th {\n        vertical-align: top;\n    }\n\n    .dataframe thead th {\n        text-align: right;\n    }\n</style>\n<table border=\"1\" class=\"dataframe\">\n  <thead>\n    <tr style=\"text-align: right;\">\n      <th></th>\n      <th>Thumbnail</th>\n      <th>Keywords</th>\n    </tr>\n  </thead>\n  <tbody>\n    <tr>\n      <th>0</th>\n      <td>0</td>\n      <td>sharing, television program, font, news, forma...</td>\n    </tr>\n    <tr>\n      <th>1</th>\n      <td>1</td>\n      <td>television program, smile, sharing, font, disp...</td>\n    </tr>\n    <tr>\n      <th>2</th>\n      <td>2</td>\n      <td>head, font, entertainment, magenta, art, event...</td>\n    </tr>\n    <tr>\n      <th>3</th>\n      <td>3</td>\n      <td>sky, cloud, water, automotive tire, landscape,...</td>\n    </tr>\n    <tr>\n      <th>4</th>\n      <td>4</td>\n      <td>entertainment, tree, font, display device, pla...</td>\n    </tr>\n    <tr>\n      <th>...</th>\n      <td>...</td>\n      <td>...</td>\n    </tr>\n    <tr>\n      <th>9725</th>\n      <td>9725</td>\n      <td>smile, mouth, gesture, eyelash, violet, layere...</td>\n    </tr>\n    <tr>\n      <th>9726</th>\n      <td>9726</td>\n      <td>microphone, jaw, flash photography, musician, ...</td>\n    </tr>\n    <tr>\n      <th>9727</th>\n      <td>9727</td>\n      <td>font, screenshot, sharing, event, competition ...</td>\n    </tr>\n    <tr>\n      <th>9728</th>\n      <td>9728</td>\n      <td>nose, glasses, vision care, mouth, smile, ear,...</td>\n    </tr>\n    <tr>\n      <th>9729</th>\n      <td>9729</td>\n      <td>flash photography, black-and-white, font, wood...</td>\n    </tr>\n  </tbody>\n</table>\n<p>9730 rows × 2 columns</p>\n</div>"
     },
     "execution_count": 61,
     "metadata": {},
     "output_type": "execute_result"
    }
   ],
   "source": [
    "df_results"
   ],
   "metadata": {
    "collapsed": false,
    "ExecuteTime": {
     "end_time": "2024-02-14T05:53:18.796050600Z",
     "start_time": "2024-02-14T05:53:18.760217900Z"
    }
   },
   "id": "53e3ea622e49353",
   "execution_count": 61
  },
  {
   "cell_type": "code",
   "outputs": [
    {
     "name": "stdout",
     "output_type": "stream",
     "text": [
      "df_results['Thumbnail'] dtype: int32\n",
      "df_thumbkey['Thumbnail Filename'] dtype: int32\n"
     ]
    }
   ],
   "source": [
    "# Convert the 'Thumbnail' column in df_results to int32\n",
    "df_results['Thumbnail'] = df_results['Thumbnail'].astype(int)\n",
    "\n",
    "\n",
    "# Check the data types of the 'Thumbnail' columns\n",
    "print(\"df_results['Thumbnail'] dtype:\", df_results['Thumbnail'].dtype)\n",
    "print(\"df_thumbkey['Thumbnail Filename'] dtype:\", df_thumbkey['Thumbnail Filename'].dtype)"
   ],
   "metadata": {
    "collapsed": false,
    "ExecuteTime": {
     "end_time": "2024-02-14T05:53:19.894044Z",
     "start_time": "2024-02-14T05:53:19.772157800Z"
    }
   },
   "id": "6d33015a662570c5",
   "execution_count": 62
  },
  {
   "cell_type": "code",
   "outputs": [
    {
     "data": {
      "text/plain": "      Thumbnail                                           Keywords\n0             0  sharing, television program, font, news, forma...\n1             1  television program, smile, sharing, font, disp...\n2             2  head, font, entertainment, magenta, art, event...\n3             3  sky, cloud, water, automotive tire, landscape,...\n4             4  entertainment, tree, font, display device, pla...\n...         ...                                                ...\n9725       9725  smile, mouth, gesture, eyelash, violet, layere...\n9726       9726  microphone, jaw, flash photography, musician, ...\n9727       9727  font, screenshot, sharing, event, competition ...\n9728       9728  nose, glasses, vision care, mouth, smile, ear,...\n9729       9729  flash photography, black-and-white, font, wood...\n\n[9730 rows x 2 columns]",
      "text/html": "<div>\n<style scoped>\n    .dataframe tbody tr th:only-of-type {\n        vertical-align: middle;\n    }\n\n    .dataframe tbody tr th {\n        vertical-align: top;\n    }\n\n    .dataframe thead th {\n        text-align: right;\n    }\n</style>\n<table border=\"1\" class=\"dataframe\">\n  <thead>\n    <tr style=\"text-align: right;\">\n      <th></th>\n      <th>Thumbnail</th>\n      <th>Keywords</th>\n    </tr>\n  </thead>\n  <tbody>\n    <tr>\n      <th>0</th>\n      <td>0</td>\n      <td>sharing, television program, font, news, forma...</td>\n    </tr>\n    <tr>\n      <th>1</th>\n      <td>1</td>\n      <td>television program, smile, sharing, font, disp...</td>\n    </tr>\n    <tr>\n      <th>2</th>\n      <td>2</td>\n      <td>head, font, entertainment, magenta, art, event...</td>\n    </tr>\n    <tr>\n      <th>3</th>\n      <td>3</td>\n      <td>sky, cloud, water, automotive tire, landscape,...</td>\n    </tr>\n    <tr>\n      <th>4</th>\n      <td>4</td>\n      <td>entertainment, tree, font, display device, pla...</td>\n    </tr>\n    <tr>\n      <th>...</th>\n      <td>...</td>\n      <td>...</td>\n    </tr>\n    <tr>\n      <th>9725</th>\n      <td>9725</td>\n      <td>smile, mouth, gesture, eyelash, violet, layere...</td>\n    </tr>\n    <tr>\n      <th>9726</th>\n      <td>9726</td>\n      <td>microphone, jaw, flash photography, musician, ...</td>\n    </tr>\n    <tr>\n      <th>9727</th>\n      <td>9727</td>\n      <td>font, screenshot, sharing, event, competition ...</td>\n    </tr>\n    <tr>\n      <th>9728</th>\n      <td>9728</td>\n      <td>nose, glasses, vision care, mouth, smile, ear,...</td>\n    </tr>\n    <tr>\n      <th>9729</th>\n      <td>9729</td>\n      <td>flash photography, black-and-white, font, wood...</td>\n    </tr>\n  </tbody>\n</table>\n<p>9730 rows × 2 columns</p>\n</div>"
     },
     "execution_count": 63,
     "metadata": {},
     "output_type": "execute_result"
    }
   ],
   "source": [
    "df_results"
   ],
   "metadata": {
    "collapsed": false,
    "ExecuteTime": {
     "end_time": "2024-02-14T05:53:20.687135Z",
     "start_time": "2024-02-14T05:53:20.672723300Z"
    }
   },
   "id": "6c99110b486e20de",
   "execution_count": 63
  },
  {
   "cell_type": "code",
   "outputs": [],
   "source": [
    "# Merge the DataFrames based on the common column \"Thumbnail\"\n",
    "merged_df = pd.merge(df_results, df_thumbkey, left_on='Thumbnail', right_on='Thumbnail Filename', suffixes=('_results', '_thumbkey'))\n",
    "\n",
    "# Drop the redundant \"Thumbnail Filename\" column after merging\n",
    "merged_df = merged_df.drop(columns=['Thumbnail Filename'])"
   ],
   "metadata": {
    "collapsed": false,
    "ExecuteTime": {
     "end_time": "2024-02-14T05:53:21.589746800Z",
     "start_time": "2024-02-14T05:53:21.559265400Z"
    }
   },
   "id": "99da1bb6c25a5f19",
   "execution_count": 64
  },
  {
   "cell_type": "code",
   "outputs": [
    {
     "data": {
      "text/plain": "      Thumbnail                                           Keywords  \\\n0             0  sharing, television program, font, news, forma...   \n1             1  television program, smile, sharing, font, disp...   \n2             2  head, font, entertainment, magenta, art, event...   \n3             3  sky, cloud, water, automotive tire, landscape,...   \n4             4  entertainment, tree, font, display device, pla...   \n...         ...                                                ...   \n9725       9725  smile, mouth, gesture, eyelash, violet, layere...   \n9726       9726  microphone, jaw, flash photography, musician, ...   \n9727       9727  font, screenshot, sharing, event, competition ...   \n9728       9728  nose, glasses, vision care, mouth, smile, ear,...   \n9729       9729  flash photography, black-and-white, font, wood...   \n\n           Category  Category ID                                     titleUrl  \\\n0     Entertainment           24  https://www.youtube.com/watch?v=RyOBy0RKJws   \n1     Entertainment           24  https://www.youtube.com/watch?v=79MjHknHx-Y   \n2     Entertainment           24  https://www.youtube.com/watch?v=s9Vz368GNnA   \n3             Music           10  https://www.youtube.com/watch?v=SLsTskih7_I   \n4             Music           10  https://www.youtube.com/watch?v=UYwF-jdcVjY   \n...             ...          ...                                          ...   \n9725          Music           10  https://www.youtube.com/watch?v=-oO-MlSjsUE   \n9726          Music           10  https://www.youtube.com/watch?v=DXEj_IZmUKU   \n9727  Entertainment           24  https://www.youtube.com/watch?v=N5c9ZmaGu58   \n9728         Comedy           23  https://www.youtube.com/watch?v=vuuA-Gk4tY4   \n9729         Comedy           23  https://www.youtube.com/watch?v=oilFiLwY4Ks   \n\n                                          Cleaned Title  Serial Number  \\\n0     board exam taiyari tsps rabish report youthon ...              0   \n1     tsps rabish report upsc taiyari upsc exam indi...              1   \n2     tvf shot ever come across man masculine prove ...              2   \n3     post malone white iverson white iverson post m...              3   \n4     post malone better better song connect post ma...              4   \n...                                                 ...            ...   \n9725  chainsmokers coldplay something emma heesters ...           9725   \n9726  shameless weeknd cover weeknds next single spo...           9726   \n9727  aib podcast million celebration podcast look j...           9727   \n9728  thing planet bhago haiwaan aaya censorship ocu...           9728   \n9729  exam everybody good luck exam mar ahihai carry...           9729   \n\n                                        thumbnailUrl  \n0     https://i.ytimg.com/vi/RyOBy0RKJws/default.jpg  \n1     https://i.ytimg.com/vi/79MjHknHx-Y/default.jpg  \n2     https://i.ytimg.com/vi/s9Vz368GNnA/default.jpg  \n3     https://i.ytimg.com/vi/SLsTskih7_I/default.jpg  \n4     https://i.ytimg.com/vi/UYwF-jdcVjY/default.jpg  \n...                                              ...  \n9725  https://i.ytimg.com/vi/-oO-MlSjsUE/default.jpg  \n9726  https://i.ytimg.com/vi/DXEj_IZmUKU/default.jpg  \n9727  https://i.ytimg.com/vi/N5c9ZmaGu58/default.jpg  \n9728  https://i.ytimg.com/vi/vuuA-Gk4tY4/default.jpg  \n9729  https://i.ytimg.com/vi/oilFiLwY4Ks/default.jpg  \n\n[9730 rows x 8 columns]",
      "text/html": "<div>\n<style scoped>\n    .dataframe tbody tr th:only-of-type {\n        vertical-align: middle;\n    }\n\n    .dataframe tbody tr th {\n        vertical-align: top;\n    }\n\n    .dataframe thead th {\n        text-align: right;\n    }\n</style>\n<table border=\"1\" class=\"dataframe\">\n  <thead>\n    <tr style=\"text-align: right;\">\n      <th></th>\n      <th>Thumbnail</th>\n      <th>Keywords</th>\n      <th>Category</th>\n      <th>Category ID</th>\n      <th>titleUrl</th>\n      <th>Cleaned Title</th>\n      <th>Serial Number</th>\n      <th>thumbnailUrl</th>\n    </tr>\n  </thead>\n  <tbody>\n    <tr>\n      <th>0</th>\n      <td>0</td>\n      <td>sharing, television program, font, news, forma...</td>\n      <td>Entertainment</td>\n      <td>24</td>\n      <td>https://www.youtube.com/watch?v=RyOBy0RKJws</td>\n      <td>board exam taiyari tsps rabish report youthon ...</td>\n      <td>0</td>\n      <td>https://i.ytimg.com/vi/RyOBy0RKJws/default.jpg</td>\n    </tr>\n    <tr>\n      <th>1</th>\n      <td>1</td>\n      <td>television program, smile, sharing, font, disp...</td>\n      <td>Entertainment</td>\n      <td>24</td>\n      <td>https://www.youtube.com/watch?v=79MjHknHx-Y</td>\n      <td>tsps rabish report upsc taiyari upsc exam indi...</td>\n      <td>1</td>\n      <td>https://i.ytimg.com/vi/79MjHknHx-Y/default.jpg</td>\n    </tr>\n    <tr>\n      <th>2</th>\n      <td>2</td>\n      <td>head, font, entertainment, magenta, art, event...</td>\n      <td>Entertainment</td>\n      <td>24</td>\n      <td>https://www.youtube.com/watch?v=s9Vz368GNnA</td>\n      <td>tvf shot ever come across man masculine prove ...</td>\n      <td>2</td>\n      <td>https://i.ytimg.com/vi/s9Vz368GNnA/default.jpg</td>\n    </tr>\n    <tr>\n      <th>3</th>\n      <td>3</td>\n      <td>sky, cloud, water, automotive tire, landscape,...</td>\n      <td>Music</td>\n      <td>10</td>\n      <td>https://www.youtube.com/watch?v=SLsTskih7_I</td>\n      <td>post malone white iverson white iverson post m...</td>\n      <td>3</td>\n      <td>https://i.ytimg.com/vi/SLsTskih7_I/default.jpg</td>\n    </tr>\n    <tr>\n      <th>4</th>\n      <td>4</td>\n      <td>entertainment, tree, font, display device, pla...</td>\n      <td>Music</td>\n      <td>10</td>\n      <td>https://www.youtube.com/watch?v=UYwF-jdcVjY</td>\n      <td>post malone better better song connect post ma...</td>\n      <td>4</td>\n      <td>https://i.ytimg.com/vi/UYwF-jdcVjY/default.jpg</td>\n    </tr>\n    <tr>\n      <th>...</th>\n      <td>...</td>\n      <td>...</td>\n      <td>...</td>\n      <td>...</td>\n      <td>...</td>\n      <td>...</td>\n      <td>...</td>\n      <td>...</td>\n    </tr>\n    <tr>\n      <th>9725</th>\n      <td>9725</td>\n      <td>smile, mouth, gesture, eyelash, violet, layere...</td>\n      <td>Music</td>\n      <td>10</td>\n      <td>https://www.youtube.com/watch?v=-oO-MlSjsUE</td>\n      <td>chainsmokers coldplay something emma heesters ...</td>\n      <td>9725</td>\n      <td>https://i.ytimg.com/vi/-oO-MlSjsUE/default.jpg</td>\n    </tr>\n    <tr>\n      <th>9726</th>\n      <td>9726</td>\n      <td>microphone, jaw, flash photography, musician, ...</td>\n      <td>Music</td>\n      <td>10</td>\n      <td>https://www.youtube.com/watch?v=DXEj_IZmUKU</td>\n      <td>shameless weeknd cover weeknds next single spo...</td>\n      <td>9726</td>\n      <td>https://i.ytimg.com/vi/DXEj_IZmUKU/default.jpg</td>\n    </tr>\n    <tr>\n      <th>9727</th>\n      <td>9727</td>\n      <td>font, screenshot, sharing, event, competition ...</td>\n      <td>Entertainment</td>\n      <td>24</td>\n      <td>https://www.youtube.com/watch?v=N5c9ZmaGu58</td>\n      <td>aib podcast million celebration podcast look j...</td>\n      <td>9727</td>\n      <td>https://i.ytimg.com/vi/N5c9ZmaGu58/default.jpg</td>\n    </tr>\n    <tr>\n      <th>9728</th>\n      <td>9728</td>\n      <td>nose, glasses, vision care, mouth, smile, ear,...</td>\n      <td>Comedy</td>\n      <td>23</td>\n      <td>https://www.youtube.com/watch?v=vuuA-Gk4tY4</td>\n      <td>thing planet bhago haiwaan aaya censorship ocu...</td>\n      <td>9728</td>\n      <td>https://i.ytimg.com/vi/vuuA-Gk4tY4/default.jpg</td>\n    </tr>\n    <tr>\n      <th>9729</th>\n      <td>9729</td>\n      <td>flash photography, black-and-white, font, wood...</td>\n      <td>Comedy</td>\n      <td>23</td>\n      <td>https://www.youtube.com/watch?v=oilFiLwY4Ks</td>\n      <td>exam everybody good luck exam mar ahihai carry...</td>\n      <td>9729</td>\n      <td>https://i.ytimg.com/vi/oilFiLwY4Ks/default.jpg</td>\n    </tr>\n  </tbody>\n</table>\n<p>9730 rows × 8 columns</p>\n</div>"
     },
     "execution_count": 65,
     "metadata": {},
     "output_type": "execute_result"
    }
   ],
   "source": [
    "# Display the merged DataFrame\n",
    "merged_df"
   ],
   "metadata": {
    "collapsed": false,
    "ExecuteTime": {
     "end_time": "2024-02-14T05:53:22.370921200Z",
     "start_time": "2024-02-14T05:53:22.330740Z"
    }
   },
   "id": "6359286b7b8d36f9",
   "execution_count": 65
  },
  {
   "cell_type": "code",
   "outputs": [],
   "source": [
    "# Assuming your DataFrame is named df and the column is 'keywords'\n",
    "merged_df['Keywords'] = merged_df['Keywords'].str.replace(',', '')"
   ],
   "metadata": {
    "collapsed": false,
    "ExecuteTime": {
     "end_time": "2024-02-14T05:53:23.503549200Z",
     "start_time": "2024-02-14T05:53:23.461046400Z"
    }
   },
   "id": "b4fa539c59564c2a",
   "execution_count": 66
  },
  {
   "cell_type": "code",
   "outputs": [
    {
     "data": {
      "text/plain": "      Thumbnail                                           Keywords  \\\n0             0  sharing television program font news formal we...   \n1             1  television program smile sharing font display ...   \n2             2  head font entertainment magenta art event circ...   \n3             3  sky cloud water automotive tire landscape hori...   \n4             4  entertainment tree font display device plant e...   \n...         ...                                                ...   \n9725       9725  smile mouth gesture eyelash violet layered hai...   \n9726       9726  microphone jaw flash photography musician perf...   \n9727       9727  font screenshot sharing event competition even...   \n9728       9728  nose glasses vision care mouth smile ear jaw b...   \n9729       9729  flash photography black-and-white font wood fl...   \n\n           Category  Category ID                                     titleUrl  \\\n0     Entertainment           24  https://www.youtube.com/watch?v=RyOBy0RKJws   \n1     Entertainment           24  https://www.youtube.com/watch?v=79MjHknHx-Y   \n2     Entertainment           24  https://www.youtube.com/watch?v=s9Vz368GNnA   \n3             Music           10  https://www.youtube.com/watch?v=SLsTskih7_I   \n4             Music           10  https://www.youtube.com/watch?v=UYwF-jdcVjY   \n...             ...          ...                                          ...   \n9725          Music           10  https://www.youtube.com/watch?v=-oO-MlSjsUE   \n9726          Music           10  https://www.youtube.com/watch?v=DXEj_IZmUKU   \n9727  Entertainment           24  https://www.youtube.com/watch?v=N5c9ZmaGu58   \n9728         Comedy           23  https://www.youtube.com/watch?v=vuuA-Gk4tY4   \n9729         Comedy           23  https://www.youtube.com/watch?v=oilFiLwY4Ks   \n\n                                          Cleaned Title  Serial Number  \\\n0     board exam taiyari tsps rabish report youthon ...              0   \n1     tsps rabish report upsc taiyari upsc exam indi...              1   \n2     tvf shot ever come across man masculine prove ...              2   \n3     post malone white iverson white iverson post m...              3   \n4     post malone better better song connect post ma...              4   \n...                                                 ...            ...   \n9725  chainsmokers coldplay something emma heesters ...           9725   \n9726  shameless weeknd cover weeknds next single spo...           9726   \n9727  aib podcast million celebration podcast look j...           9727   \n9728  thing planet bhago haiwaan aaya censorship ocu...           9728   \n9729  exam everybody good luck exam mar ahihai carry...           9729   \n\n                                        thumbnailUrl  \n0     https://i.ytimg.com/vi/RyOBy0RKJws/default.jpg  \n1     https://i.ytimg.com/vi/79MjHknHx-Y/default.jpg  \n2     https://i.ytimg.com/vi/s9Vz368GNnA/default.jpg  \n3     https://i.ytimg.com/vi/SLsTskih7_I/default.jpg  \n4     https://i.ytimg.com/vi/UYwF-jdcVjY/default.jpg  \n...                                              ...  \n9725  https://i.ytimg.com/vi/-oO-MlSjsUE/default.jpg  \n9726  https://i.ytimg.com/vi/DXEj_IZmUKU/default.jpg  \n9727  https://i.ytimg.com/vi/N5c9ZmaGu58/default.jpg  \n9728  https://i.ytimg.com/vi/vuuA-Gk4tY4/default.jpg  \n9729  https://i.ytimg.com/vi/oilFiLwY4Ks/default.jpg  \n\n[9730 rows x 8 columns]",
      "text/html": "<div>\n<style scoped>\n    .dataframe tbody tr th:only-of-type {\n        vertical-align: middle;\n    }\n\n    .dataframe tbody tr th {\n        vertical-align: top;\n    }\n\n    .dataframe thead th {\n        text-align: right;\n    }\n</style>\n<table border=\"1\" class=\"dataframe\">\n  <thead>\n    <tr style=\"text-align: right;\">\n      <th></th>\n      <th>Thumbnail</th>\n      <th>Keywords</th>\n      <th>Category</th>\n      <th>Category ID</th>\n      <th>titleUrl</th>\n      <th>Cleaned Title</th>\n      <th>Serial Number</th>\n      <th>thumbnailUrl</th>\n    </tr>\n  </thead>\n  <tbody>\n    <tr>\n      <th>0</th>\n      <td>0</td>\n      <td>sharing television program font news formal we...</td>\n      <td>Entertainment</td>\n      <td>24</td>\n      <td>https://www.youtube.com/watch?v=RyOBy0RKJws</td>\n      <td>board exam taiyari tsps rabish report youthon ...</td>\n      <td>0</td>\n      <td>https://i.ytimg.com/vi/RyOBy0RKJws/default.jpg</td>\n    </tr>\n    <tr>\n      <th>1</th>\n      <td>1</td>\n      <td>television program smile sharing font display ...</td>\n      <td>Entertainment</td>\n      <td>24</td>\n      <td>https://www.youtube.com/watch?v=79MjHknHx-Y</td>\n      <td>tsps rabish report upsc taiyari upsc exam indi...</td>\n      <td>1</td>\n      <td>https://i.ytimg.com/vi/79MjHknHx-Y/default.jpg</td>\n    </tr>\n    <tr>\n      <th>2</th>\n      <td>2</td>\n      <td>head font entertainment magenta art event circ...</td>\n      <td>Entertainment</td>\n      <td>24</td>\n      <td>https://www.youtube.com/watch?v=s9Vz368GNnA</td>\n      <td>tvf shot ever come across man masculine prove ...</td>\n      <td>2</td>\n      <td>https://i.ytimg.com/vi/s9Vz368GNnA/default.jpg</td>\n    </tr>\n    <tr>\n      <th>3</th>\n      <td>3</td>\n      <td>sky cloud water automotive tire landscape hori...</td>\n      <td>Music</td>\n      <td>10</td>\n      <td>https://www.youtube.com/watch?v=SLsTskih7_I</td>\n      <td>post malone white iverson white iverson post m...</td>\n      <td>3</td>\n      <td>https://i.ytimg.com/vi/SLsTskih7_I/default.jpg</td>\n    </tr>\n    <tr>\n      <th>4</th>\n      <td>4</td>\n      <td>entertainment tree font display device plant e...</td>\n      <td>Music</td>\n      <td>10</td>\n      <td>https://www.youtube.com/watch?v=UYwF-jdcVjY</td>\n      <td>post malone better better song connect post ma...</td>\n      <td>4</td>\n      <td>https://i.ytimg.com/vi/UYwF-jdcVjY/default.jpg</td>\n    </tr>\n    <tr>\n      <th>...</th>\n      <td>...</td>\n      <td>...</td>\n      <td>...</td>\n      <td>...</td>\n      <td>...</td>\n      <td>...</td>\n      <td>...</td>\n      <td>...</td>\n    </tr>\n    <tr>\n      <th>9725</th>\n      <td>9725</td>\n      <td>smile mouth gesture eyelash violet layered hai...</td>\n      <td>Music</td>\n      <td>10</td>\n      <td>https://www.youtube.com/watch?v=-oO-MlSjsUE</td>\n      <td>chainsmokers coldplay something emma heesters ...</td>\n      <td>9725</td>\n      <td>https://i.ytimg.com/vi/-oO-MlSjsUE/default.jpg</td>\n    </tr>\n    <tr>\n      <th>9726</th>\n      <td>9726</td>\n      <td>microphone jaw flash photography musician perf...</td>\n      <td>Music</td>\n      <td>10</td>\n      <td>https://www.youtube.com/watch?v=DXEj_IZmUKU</td>\n      <td>shameless weeknd cover weeknds next single spo...</td>\n      <td>9726</td>\n      <td>https://i.ytimg.com/vi/DXEj_IZmUKU/default.jpg</td>\n    </tr>\n    <tr>\n      <th>9727</th>\n      <td>9727</td>\n      <td>font screenshot sharing event competition even...</td>\n      <td>Entertainment</td>\n      <td>24</td>\n      <td>https://www.youtube.com/watch?v=N5c9ZmaGu58</td>\n      <td>aib podcast million celebration podcast look j...</td>\n      <td>9727</td>\n      <td>https://i.ytimg.com/vi/N5c9ZmaGu58/default.jpg</td>\n    </tr>\n    <tr>\n      <th>9728</th>\n      <td>9728</td>\n      <td>nose glasses vision care mouth smile ear jaw b...</td>\n      <td>Comedy</td>\n      <td>23</td>\n      <td>https://www.youtube.com/watch?v=vuuA-Gk4tY4</td>\n      <td>thing planet bhago haiwaan aaya censorship ocu...</td>\n      <td>9728</td>\n      <td>https://i.ytimg.com/vi/vuuA-Gk4tY4/default.jpg</td>\n    </tr>\n    <tr>\n      <th>9729</th>\n      <td>9729</td>\n      <td>flash photography black-and-white font wood fl...</td>\n      <td>Comedy</td>\n      <td>23</td>\n      <td>https://www.youtube.com/watch?v=oilFiLwY4Ks</td>\n      <td>exam everybody good luck exam mar ahihai carry...</td>\n      <td>9729</td>\n      <td>https://i.ytimg.com/vi/oilFiLwY4Ks/default.jpg</td>\n    </tr>\n  </tbody>\n</table>\n<p>9730 rows × 8 columns</p>\n</div>"
     },
     "execution_count": 67,
     "metadata": {},
     "output_type": "execute_result"
    }
   ],
   "source": [
    "# Display the DataFrame to see the changes\n",
    "merged_df"
   ],
   "metadata": {
    "collapsed": false,
    "ExecuteTime": {
     "end_time": "2024-02-14T05:53:24.366105Z",
     "start_time": "2024-02-14T05:53:24.320151800Z"
    }
   },
   "id": "442c6d668a6c04cc",
   "execution_count": 67
  },
  {
   "cell_type": "code",
   "outputs": [],
   "source": [
    "# Concatenate the three text columns into a single column\n",
    "merged_df['Cleaned Title'] = merged_df['Cleaned Title'] + ' ' + merged_df['Keywords']"
   ],
   "metadata": {
    "collapsed": false,
    "ExecuteTime": {
     "end_time": "2024-02-14T05:53:25.692651Z",
     "start_time": "2024-02-14T05:53:25.609552500Z"
    }
   },
   "id": "d37f703d7e6e00cf",
   "execution_count": 68
  },
  {
   "cell_type": "code",
   "outputs": [
    {
     "data": {
      "text/plain": "      Thumbnail                                           Keywords  \\\n0             0  sharing television program font news formal we...   \n1             1  television program smile sharing font display ...   \n2             2  head font entertainment magenta art event circ...   \n3             3  sky cloud water automotive tire landscape hori...   \n4             4  entertainment tree font display device plant e...   \n...         ...                                                ...   \n9725       9725  smile mouth gesture eyelash violet layered hai...   \n9726       9726  microphone jaw flash photography musician perf...   \n9727       9727  font screenshot sharing event competition even...   \n9728       9728  nose glasses vision care mouth smile ear jaw b...   \n9729       9729  flash photography black-and-white font wood fl...   \n\n           Category  Category ID                                     titleUrl  \\\n0     Entertainment           24  https://www.youtube.com/watch?v=RyOBy0RKJws   \n1     Entertainment           24  https://www.youtube.com/watch?v=79MjHknHx-Y   \n2     Entertainment           24  https://www.youtube.com/watch?v=s9Vz368GNnA   \n3             Music           10  https://www.youtube.com/watch?v=SLsTskih7_I   \n4             Music           10  https://www.youtube.com/watch?v=UYwF-jdcVjY   \n...             ...          ...                                          ...   \n9725          Music           10  https://www.youtube.com/watch?v=-oO-MlSjsUE   \n9726          Music           10  https://www.youtube.com/watch?v=DXEj_IZmUKU   \n9727  Entertainment           24  https://www.youtube.com/watch?v=N5c9ZmaGu58   \n9728         Comedy           23  https://www.youtube.com/watch?v=vuuA-Gk4tY4   \n9729         Comedy           23  https://www.youtube.com/watch?v=oilFiLwY4Ks   \n\n                                          Cleaned Title  Serial Number  \\\n0     board exam taiyari tsps rabish report youthon ...              0   \n1     tsps rabish report upsc taiyari upsc exam indi...              1   \n2     tvf shot ever come across man masculine prove ...              2   \n3     post malone white iverson white iverson post m...              3   \n4     post malone better better song connect post ma...              4   \n...                                                 ...            ...   \n9725  chainsmokers coldplay something emma heesters ...           9725   \n9726  shameless weeknd cover weeknds next single spo...           9726   \n9727  aib podcast million celebration podcast look j...           9727   \n9728  thing planet bhago haiwaan aaya censorship ocu...           9728   \n9729  exam everybody good luck exam mar ahihai carry...           9729   \n\n                                        thumbnailUrl  \n0     https://i.ytimg.com/vi/RyOBy0RKJws/default.jpg  \n1     https://i.ytimg.com/vi/79MjHknHx-Y/default.jpg  \n2     https://i.ytimg.com/vi/s9Vz368GNnA/default.jpg  \n3     https://i.ytimg.com/vi/SLsTskih7_I/default.jpg  \n4     https://i.ytimg.com/vi/UYwF-jdcVjY/default.jpg  \n...                                              ...  \n9725  https://i.ytimg.com/vi/-oO-MlSjsUE/default.jpg  \n9726  https://i.ytimg.com/vi/DXEj_IZmUKU/default.jpg  \n9727  https://i.ytimg.com/vi/N5c9ZmaGu58/default.jpg  \n9728  https://i.ytimg.com/vi/vuuA-Gk4tY4/default.jpg  \n9729  https://i.ytimg.com/vi/oilFiLwY4Ks/default.jpg  \n\n[9730 rows x 8 columns]",
      "text/html": "<div>\n<style scoped>\n    .dataframe tbody tr th:only-of-type {\n        vertical-align: middle;\n    }\n\n    .dataframe tbody tr th {\n        vertical-align: top;\n    }\n\n    .dataframe thead th {\n        text-align: right;\n    }\n</style>\n<table border=\"1\" class=\"dataframe\">\n  <thead>\n    <tr style=\"text-align: right;\">\n      <th></th>\n      <th>Thumbnail</th>\n      <th>Keywords</th>\n      <th>Category</th>\n      <th>Category ID</th>\n      <th>titleUrl</th>\n      <th>Cleaned Title</th>\n      <th>Serial Number</th>\n      <th>thumbnailUrl</th>\n    </tr>\n  </thead>\n  <tbody>\n    <tr>\n      <th>0</th>\n      <td>0</td>\n      <td>sharing television program font news formal we...</td>\n      <td>Entertainment</td>\n      <td>24</td>\n      <td>https://www.youtube.com/watch?v=RyOBy0RKJws</td>\n      <td>board exam taiyari tsps rabish report youthon ...</td>\n      <td>0</td>\n      <td>https://i.ytimg.com/vi/RyOBy0RKJws/default.jpg</td>\n    </tr>\n    <tr>\n      <th>1</th>\n      <td>1</td>\n      <td>television program smile sharing font display ...</td>\n      <td>Entertainment</td>\n      <td>24</td>\n      <td>https://www.youtube.com/watch?v=79MjHknHx-Y</td>\n      <td>tsps rabish report upsc taiyari upsc exam indi...</td>\n      <td>1</td>\n      <td>https://i.ytimg.com/vi/79MjHknHx-Y/default.jpg</td>\n    </tr>\n    <tr>\n      <th>2</th>\n      <td>2</td>\n      <td>head font entertainment magenta art event circ...</td>\n      <td>Entertainment</td>\n      <td>24</td>\n      <td>https://www.youtube.com/watch?v=s9Vz368GNnA</td>\n      <td>tvf shot ever come across man masculine prove ...</td>\n      <td>2</td>\n      <td>https://i.ytimg.com/vi/s9Vz368GNnA/default.jpg</td>\n    </tr>\n    <tr>\n      <th>3</th>\n      <td>3</td>\n      <td>sky cloud water automotive tire landscape hori...</td>\n      <td>Music</td>\n      <td>10</td>\n      <td>https://www.youtube.com/watch?v=SLsTskih7_I</td>\n      <td>post malone white iverson white iverson post m...</td>\n      <td>3</td>\n      <td>https://i.ytimg.com/vi/SLsTskih7_I/default.jpg</td>\n    </tr>\n    <tr>\n      <th>4</th>\n      <td>4</td>\n      <td>entertainment tree font display device plant e...</td>\n      <td>Music</td>\n      <td>10</td>\n      <td>https://www.youtube.com/watch?v=UYwF-jdcVjY</td>\n      <td>post malone better better song connect post ma...</td>\n      <td>4</td>\n      <td>https://i.ytimg.com/vi/UYwF-jdcVjY/default.jpg</td>\n    </tr>\n    <tr>\n      <th>...</th>\n      <td>...</td>\n      <td>...</td>\n      <td>...</td>\n      <td>...</td>\n      <td>...</td>\n      <td>...</td>\n      <td>...</td>\n      <td>...</td>\n    </tr>\n    <tr>\n      <th>9725</th>\n      <td>9725</td>\n      <td>smile mouth gesture eyelash violet layered hai...</td>\n      <td>Music</td>\n      <td>10</td>\n      <td>https://www.youtube.com/watch?v=-oO-MlSjsUE</td>\n      <td>chainsmokers coldplay something emma heesters ...</td>\n      <td>9725</td>\n      <td>https://i.ytimg.com/vi/-oO-MlSjsUE/default.jpg</td>\n    </tr>\n    <tr>\n      <th>9726</th>\n      <td>9726</td>\n      <td>microphone jaw flash photography musician perf...</td>\n      <td>Music</td>\n      <td>10</td>\n      <td>https://www.youtube.com/watch?v=DXEj_IZmUKU</td>\n      <td>shameless weeknd cover weeknds next single spo...</td>\n      <td>9726</td>\n      <td>https://i.ytimg.com/vi/DXEj_IZmUKU/default.jpg</td>\n    </tr>\n    <tr>\n      <th>9727</th>\n      <td>9727</td>\n      <td>font screenshot sharing event competition even...</td>\n      <td>Entertainment</td>\n      <td>24</td>\n      <td>https://www.youtube.com/watch?v=N5c9ZmaGu58</td>\n      <td>aib podcast million celebration podcast look j...</td>\n      <td>9727</td>\n      <td>https://i.ytimg.com/vi/N5c9ZmaGu58/default.jpg</td>\n    </tr>\n    <tr>\n      <th>9728</th>\n      <td>9728</td>\n      <td>nose glasses vision care mouth smile ear jaw b...</td>\n      <td>Comedy</td>\n      <td>23</td>\n      <td>https://www.youtube.com/watch?v=vuuA-Gk4tY4</td>\n      <td>thing planet bhago haiwaan aaya censorship ocu...</td>\n      <td>9728</td>\n      <td>https://i.ytimg.com/vi/vuuA-Gk4tY4/default.jpg</td>\n    </tr>\n    <tr>\n      <th>9729</th>\n      <td>9729</td>\n      <td>flash photography black-and-white font wood fl...</td>\n      <td>Comedy</td>\n      <td>23</td>\n      <td>https://www.youtube.com/watch?v=oilFiLwY4Ks</td>\n      <td>exam everybody good luck exam mar ahihai carry...</td>\n      <td>9729</td>\n      <td>https://i.ytimg.com/vi/oilFiLwY4Ks/default.jpg</td>\n    </tr>\n  </tbody>\n</table>\n<p>9730 rows × 8 columns</p>\n</div>"
     },
     "execution_count": 69,
     "metadata": {},
     "output_type": "execute_result"
    }
   ],
   "source": [
    "merged_df"
   ],
   "metadata": {
    "collapsed": false,
    "ExecuteTime": {
     "end_time": "2024-02-14T05:53:26.456168Z",
     "start_time": "2024-02-14T05:53:26.424675200Z"
    }
   },
   "id": "4248a4c147b6f83a",
   "execution_count": 69
  },
  {
   "cell_type": "code",
   "outputs": [],
   "source": [
    "merged_df.to_csv('C:/Users/shrey/OneDrive/Desktop/Thesis/9B/Comb4.csv', index=False)"
   ],
   "metadata": {
    "collapsed": false,
    "ExecuteTime": {
     "end_time": "2024-02-14T05:53:28.906707600Z",
     "start_time": "2024-02-14T05:53:28.701349600Z"
    }
   },
   "id": "881a893b6acec48",
   "execution_count": 70
  },
  {
   "cell_type": "code",
   "outputs": [],
   "source": [],
   "metadata": {
    "collapsed": false
   },
   "id": "bc56d285dcf0174"
  }
 ],
 "metadata": {
  "kernelspec": {
   "display_name": "Python 3",
   "language": "python",
   "name": "python3"
  },
  "language_info": {
   "codemirror_mode": {
    "name": "ipython",
    "version": 2
   },
   "file_extension": ".py",
   "mimetype": "text/x-python",
   "name": "python",
   "nbconvert_exporter": "python",
   "pygments_lexer": "ipython2",
   "version": "2.7.6"
  }
 },
 "nbformat": 4,
 "nbformat_minor": 5
}
