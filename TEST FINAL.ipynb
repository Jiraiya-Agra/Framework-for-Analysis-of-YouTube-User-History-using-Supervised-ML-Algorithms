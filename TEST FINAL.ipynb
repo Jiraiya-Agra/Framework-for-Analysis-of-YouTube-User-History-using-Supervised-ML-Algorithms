{
 "cells": [
  {
   "cell_type": "code",
   "execution_count": 8,
   "id": "initial_id",
   "metadata": {
    "collapsed": true,
    "ExecuteTime": {
     "end_time": "2024-02-14T06:15:29.626626900Z",
     "start_time": "2024-02-14T06:15:29.485376500Z"
    }
   },
   "outputs": [
    {
     "name": "stderr",
     "output_type": "stream",
     "text": [
      "[nltk_data] Downloading package stopwords to\n",
      "[nltk_data]     C:\\Users\\shrey\\AppData\\Roaming\\nltk_data...\n",
      "[nltk_data]   Package stopwords is already up-to-date!\n",
      "[nltk_data] Downloading package punkt to\n",
      "[nltk_data]     C:\\Users\\shrey\\AppData\\Roaming\\nltk_data...\n",
      "[nltk_data]   Package punkt is already up-to-date!\n",
      "[nltk_data] Downloading package words to\n",
      "[nltk_data]     C:\\Users\\shrey\\AppData\\Roaming\\nltk_data...\n",
      "[nltk_data]   Package words is already up-to-date!\n",
      "[nltk_data] Downloading package wordnet to\n",
      "[nltk_data]     C:\\Users\\shrey\\AppData\\Roaming\\nltk_data...\n",
      "[nltk_data]   Package wordnet is already up-to-date!\n",
      "[nltk_data] Downloading package omw-1.4 to\n",
      "[nltk_data]     C:\\Users\\shrey\\AppData\\Roaming\\nltk_data...\n",
      "[nltk_data]   Package omw-1.4 is already up-to-date!\n"
     ]
    }
   ],
   "source": [
    "from tqdm.notebook import tqdm\n",
    "tqdm.pandas()\n",
    "import nltk\n",
    "nltk.download('stopwords')\n",
    "nltk.download('punkt')\n",
    "nltk.download('words')\n",
    "nltk.download('wordnet')\n",
    "nltk.download('omw-1.4')\n",
    "from nltk.corpus import stopwords\n",
    "stop = stopwords.words('english')\n",
    "from nltk.stem import WordNetLemmatizer\n",
    "import pandas as pd  # data processing, CSV file I/O (e.g. pd.read_csv)\n",
    "import json\n",
    "from UTILITIES import read_multiple_csv_files\n",
    "import re, string\n",
    "from UTILITIES import global_df_4\n",
    "from joblib import load"
   ]
  },
  {
   "cell_type": "code",
   "outputs": [
    {
     "name": "stdout",
     "output_type": "stream",
     "text": [
      "   Thumbnail                                           Keywords  \\\n",
      "0          0  screenshot music event entertainment music art...   \n",
      "1          1  font television program event darkness screens...   \n",
      "2          2  font event entertainment art display device da...   \n",
      "3          3  gesture organism black-and-white font tree eve...   \n",
      "4          4  cool music font entertainment event art fun ey...   \n",
      "\n",
      "         Category  Category ID                                     titleUrl  \\\n",
      "0  People & Blogs           22  https://www.youtube.com/watch?v=OsD1SJKtO9U   \n",
      "1           Music           10  https://www.youtube.com/watch?v=GuGYYdwcPYw   \n",
      "2           Music           10  https://www.youtube.com/watch?v=uMcU5qVz9YE   \n",
      "3           Music           10  https://www.youtube.com/watch?v=0ws4JuK5Lwg   \n",
      "4           Music           10  https://www.youtube.com/watch?v=pg2tsJErYH4   \n",
      "\n",
      "                                       Cleaned Title  Serial Number  \\\n",
      "0  labrinth rip euphoria live performance labrint...              0   \n",
      "1  emiway company album kots king street audio cr...              1   \n",
      "2  emiway kya bolti public ftyoung galib prod myk...              2   \n",
      "3  stn kal hai mera show insaan humanity always h...              3   \n",
      "4  stn kshmrmusic haath varthi haath varthi stan ...              4   \n",
      "\n",
      "                                     thumbnailUrl  \n",
      "0  https://i.ytimg.com/vi/OsD1SJKtO9U/default.jpg  \n",
      "1  https://i.ytimg.com/vi/GuGYYdwcPYw/default.jpg  \n",
      "2  https://i.ytimg.com/vi/uMcU5qVz9YE/default.jpg  \n",
      "3  https://i.ytimg.com/vi/0ws4JuK5Lwg/default.jpg  \n",
      "4  https://i.ytimg.com/vi/pg2tsJErYH4/default.jpg  \n"
     ]
    }
   ],
   "source": [
    "# 1. Reading multiple CSV files for the dataset with trending videos from 2017-2018 for US, CA, GB, IN.\n",
    "# List of file paths to read:\n",
    "file_paths = [\n",
    "    \"C:/Users/shrey/OneDrive/Desktop/Thesis/9B/Comb1.csv\",\n",
    "    \"C:/Users/shrey/OneDrive/Desktop/Thesis/9B/Comb2.csv\",\n",
    "    \"C:/Users/shrey/OneDrive/Desktop/Thesis/9B/Comb3.csv\",\n",
    "    \"C:/Users/shrey/OneDrive/Desktop/Thesis/9B/Comb4.csv\"\n",
    "]\n",
    "\n",
    "# Reading and combining multiple files into a single DataFrame\n",
    "df1 = read_multiple_csv_files(file_paths)\n",
    "\n",
    "# Displays the first 5 rows of the combined DataFrame\n",
    "print(df1.head())"
   ],
   "metadata": {
    "collapsed": false,
    "ExecuteTime": {
     "end_time": "2024-02-14T06:15:31.151490500Z",
     "start_time": "2024-02-14T06:15:30.441291200Z"
    }
   },
   "id": "2f55c36bef4f2afd",
   "execution_count": 9
  },
  {
   "cell_type": "code",
   "outputs": [],
   "source": [
    "df1.to_csv('C:/Users/shrey/OneDrive/Desktop/Thesis/9A/YT_Combined.csv', index=False)"
   ],
   "metadata": {
    "collapsed": false,
    "ExecuteTime": {
     "end_time": "2024-02-14T06:15:34.784729300Z",
     "start_time": "2024-02-14T06:15:33.887075800Z"
    }
   },
   "id": "bbfcfa10a152e946",
   "execution_count": 10
  },
  {
   "cell_type": "code",
   "outputs": [
    {
     "data": {
      "text/plain": "       Thumbnail                                           Keywords  \\\n0              0  screenshot music event entertainment music art...   \n1              1  font television program event darkness screens...   \n2              2  font event entertainment art display device da...   \n3              3  gesture organism black-and-white font tree eve...   \n4              4  cool music font entertainment event art fun ey...   \n...          ...                                                ...   \n38921       9725  smile mouth gesture eyelash violet layered hai...   \n38922       9726  microphone jaw flash photography musician perf...   \n38923       9727  font screenshot sharing event competition even...   \n38924       9728  nose glasses vision care mouth smile ear jaw b...   \n38925       9729  flash photography black-and-white font wood fl...   \n\n             Category  Category ID  \\\n0      People & Blogs           22   \n1               Music           10   \n2               Music           10   \n3               Music           10   \n4               Music           10   \n...               ...          ...   \n38921           Music           10   \n38922           Music           10   \n38923   Entertainment           24   \n38924          Comedy           23   \n38925          Comedy           23   \n\n                                          titleUrl  \\\n0      https://www.youtube.com/watch?v=OsD1SJKtO9U   \n1      https://www.youtube.com/watch?v=GuGYYdwcPYw   \n2      https://www.youtube.com/watch?v=uMcU5qVz9YE   \n3      https://www.youtube.com/watch?v=0ws4JuK5Lwg   \n4      https://www.youtube.com/watch?v=pg2tsJErYH4   \n...                                            ...   \n38921  https://www.youtube.com/watch?v=-oO-MlSjsUE   \n38922  https://www.youtube.com/watch?v=DXEj_IZmUKU   \n38923  https://www.youtube.com/watch?v=N5c9ZmaGu58   \n38924  https://www.youtube.com/watch?v=vuuA-Gk4tY4   \n38925  https://www.youtube.com/watch?v=oilFiLwY4Ks   \n\n                                           Cleaned Title  Serial Number  \\\n0      labrinth rip euphoria live performance labrint...              0   \n1      emiway company album kots king street audio cr...              1   \n2      emiway kya bolti public ftyoung galib prod myk...              2   \n3      stn kal hai mera show insaan humanity always h...              3   \n4      stn kshmrmusic haath varthi haath varthi stan ...              4   \n...                                                  ...            ...   \n38921  chainsmokers coldplay something emma heesters ...           9725   \n38922  shameless weeknd cover weeknds next single spo...           9726   \n38923  aib podcast million celebration podcast look j...           9727   \n38924  thing planet bhago haiwaan aaya censorship ocu...           9728   \n38925  exam everybody good luck exam mar ahihai carry...           9729   \n\n                                         thumbnailUrl  \n0      https://i.ytimg.com/vi/OsD1SJKtO9U/default.jpg  \n1      https://i.ytimg.com/vi/GuGYYdwcPYw/default.jpg  \n2      https://i.ytimg.com/vi/uMcU5qVz9YE/default.jpg  \n3      https://i.ytimg.com/vi/0ws4JuK5Lwg/default.jpg  \n4      https://i.ytimg.com/vi/pg2tsJErYH4/default.jpg  \n...                                               ...  \n38921  https://i.ytimg.com/vi/-oO-MlSjsUE/default.jpg  \n38922  https://i.ytimg.com/vi/DXEj_IZmUKU/default.jpg  \n38923  https://i.ytimg.com/vi/N5c9ZmaGu58/default.jpg  \n38924  https://i.ytimg.com/vi/vuuA-Gk4tY4/default.jpg  \n38925  https://i.ytimg.com/vi/oilFiLwY4Ks/default.jpg  \n\n[38926 rows x 8 columns]",
      "text/html": "<div>\n<style scoped>\n    .dataframe tbody tr th:only-of-type {\n        vertical-align: middle;\n    }\n\n    .dataframe tbody tr th {\n        vertical-align: top;\n    }\n\n    .dataframe thead th {\n        text-align: right;\n    }\n</style>\n<table border=\"1\" class=\"dataframe\">\n  <thead>\n    <tr style=\"text-align: right;\">\n      <th></th>\n      <th>Thumbnail</th>\n      <th>Keywords</th>\n      <th>Category</th>\n      <th>Category ID</th>\n      <th>titleUrl</th>\n      <th>Cleaned Title</th>\n      <th>Serial Number</th>\n      <th>thumbnailUrl</th>\n    </tr>\n  </thead>\n  <tbody>\n    <tr>\n      <th>0</th>\n      <td>0</td>\n      <td>screenshot music event entertainment music art...</td>\n      <td>People &amp; Blogs</td>\n      <td>22</td>\n      <td>https://www.youtube.com/watch?v=OsD1SJKtO9U</td>\n      <td>labrinth rip euphoria live performance labrint...</td>\n      <td>0</td>\n      <td>https://i.ytimg.com/vi/OsD1SJKtO9U/default.jpg</td>\n    </tr>\n    <tr>\n      <th>1</th>\n      <td>1</td>\n      <td>font television program event darkness screens...</td>\n      <td>Music</td>\n      <td>10</td>\n      <td>https://www.youtube.com/watch?v=GuGYYdwcPYw</td>\n      <td>emiway company album kots king street audio cr...</td>\n      <td>1</td>\n      <td>https://i.ytimg.com/vi/GuGYYdwcPYw/default.jpg</td>\n    </tr>\n    <tr>\n      <th>2</th>\n      <td>2</td>\n      <td>font event entertainment art display device da...</td>\n      <td>Music</td>\n      <td>10</td>\n      <td>https://www.youtube.com/watch?v=uMcU5qVz9YE</td>\n      <td>emiway kya bolti public ftyoung galib prod myk...</td>\n      <td>2</td>\n      <td>https://i.ytimg.com/vi/uMcU5qVz9YE/default.jpg</td>\n    </tr>\n    <tr>\n      <th>3</th>\n      <td>3</td>\n      <td>gesture organism black-and-white font tree eve...</td>\n      <td>Music</td>\n      <td>10</td>\n      <td>https://www.youtube.com/watch?v=0ws4JuK5Lwg</td>\n      <td>stn kal hai mera show insaan humanity always h...</td>\n      <td>3</td>\n      <td>https://i.ytimg.com/vi/0ws4JuK5Lwg/default.jpg</td>\n    </tr>\n    <tr>\n      <th>4</th>\n      <td>4</td>\n      <td>cool music font entertainment event art fun ey...</td>\n      <td>Music</td>\n      <td>10</td>\n      <td>https://www.youtube.com/watch?v=pg2tsJErYH4</td>\n      <td>stn kshmrmusic haath varthi haath varthi stan ...</td>\n      <td>4</td>\n      <td>https://i.ytimg.com/vi/pg2tsJErYH4/default.jpg</td>\n    </tr>\n    <tr>\n      <th>...</th>\n      <td>...</td>\n      <td>...</td>\n      <td>...</td>\n      <td>...</td>\n      <td>...</td>\n      <td>...</td>\n      <td>...</td>\n      <td>...</td>\n    </tr>\n    <tr>\n      <th>38921</th>\n      <td>9725</td>\n      <td>smile mouth gesture eyelash violet layered hai...</td>\n      <td>Music</td>\n      <td>10</td>\n      <td>https://www.youtube.com/watch?v=-oO-MlSjsUE</td>\n      <td>chainsmokers coldplay something emma heesters ...</td>\n      <td>9725</td>\n      <td>https://i.ytimg.com/vi/-oO-MlSjsUE/default.jpg</td>\n    </tr>\n    <tr>\n      <th>38922</th>\n      <td>9726</td>\n      <td>microphone jaw flash photography musician perf...</td>\n      <td>Music</td>\n      <td>10</td>\n      <td>https://www.youtube.com/watch?v=DXEj_IZmUKU</td>\n      <td>shameless weeknd cover weeknds next single spo...</td>\n      <td>9726</td>\n      <td>https://i.ytimg.com/vi/DXEj_IZmUKU/default.jpg</td>\n    </tr>\n    <tr>\n      <th>38923</th>\n      <td>9727</td>\n      <td>font screenshot sharing event competition even...</td>\n      <td>Entertainment</td>\n      <td>24</td>\n      <td>https://www.youtube.com/watch?v=N5c9ZmaGu58</td>\n      <td>aib podcast million celebration podcast look j...</td>\n      <td>9727</td>\n      <td>https://i.ytimg.com/vi/N5c9ZmaGu58/default.jpg</td>\n    </tr>\n    <tr>\n      <th>38924</th>\n      <td>9728</td>\n      <td>nose glasses vision care mouth smile ear jaw b...</td>\n      <td>Comedy</td>\n      <td>23</td>\n      <td>https://www.youtube.com/watch?v=vuuA-Gk4tY4</td>\n      <td>thing planet bhago haiwaan aaya censorship ocu...</td>\n      <td>9728</td>\n      <td>https://i.ytimg.com/vi/vuuA-Gk4tY4/default.jpg</td>\n    </tr>\n    <tr>\n      <th>38925</th>\n      <td>9729</td>\n      <td>flash photography black-and-white font wood fl...</td>\n      <td>Comedy</td>\n      <td>23</td>\n      <td>https://www.youtube.com/watch?v=oilFiLwY4Ks</td>\n      <td>exam everybody good luck exam mar ahihai carry...</td>\n      <td>9729</td>\n      <td>https://i.ytimg.com/vi/oilFiLwY4Ks/default.jpg</td>\n    </tr>\n  </tbody>\n</table>\n<p>38926 rows × 8 columns</p>\n</div>"
     },
     "execution_count": 11,
     "metadata": {},
     "output_type": "execute_result"
    }
   ],
   "source": [
    "df1"
   ],
   "metadata": {
    "collapsed": false,
    "ExecuteTime": {
     "end_time": "2024-02-14T06:15:46.541002100Z",
     "start_time": "2024-02-14T06:15:46.492590Z"
    }
   },
   "id": "a46e999a7438eeca",
   "execution_count": 11
  },
  {
   "cell_type": "code",
   "outputs": [],
   "source": [
    "columns_to_drop = ['Keywords', 'titleUrl', 'Serial Number', 'thumbnailUrl', 'Thumbnail']\n",
    "df = df1.drop(columns=columns_to_drop)"
   ],
   "metadata": {
    "collapsed": false,
    "ExecuteTime": {
     "end_time": "2024-02-14T06:15:48.721142900Z",
     "start_time": "2024-02-14T06:15:48.690978600Z"
    }
   },
   "id": "dad4261352764970",
   "execution_count": 12
  },
  {
   "cell_type": "code",
   "outputs": [],
   "source": [
    "df.dropna(inplace=True)"
   ],
   "metadata": {
    "collapsed": false,
    "ExecuteTime": {
     "end_time": "2024-02-14T06:17:04.482951500Z",
     "start_time": "2024-02-14T06:17:04.447842400Z"
    }
   },
   "id": "d3bcb4ebb51f76fe",
   "execution_count": 17
  },
  {
   "cell_type": "code",
   "outputs": [
    {
     "data": {
      "text/plain": "Category         0\nCategory ID      0\nCleaned Title    0\ndtype: int64"
     },
     "execution_count": 18,
     "metadata": {},
     "output_type": "execute_result"
    }
   ],
   "source": [
    "df.isna().sum()"
   ],
   "metadata": {
    "collapsed": false,
    "ExecuteTime": {
     "end_time": "2024-02-14T06:17:05.412213600Z",
     "start_time": "2024-02-14T06:17:05.299716100Z"
    }
   },
   "id": "e717aeabca2a3894",
   "execution_count": 18
  },
  {
   "cell_type": "code",
   "outputs": [
    {
     "data": {
      "text/plain": "             Category  Category ID  \\\n0      People & Blogs           22   \n1               Music           10   \n2               Music           10   \n3               Music           10   \n4               Music           10   \n...               ...          ...   \n38921           Music           10   \n38922           Music           10   \n38923   Entertainment           24   \n38924          Comedy           23   \n38925          Comedy           23   \n\n                                           Cleaned Title  \n0      labrinth rip euphoria live performance labrint...  \n1      emiway company album kots king street audio cr...  \n2      emiway kya bolti public ftyoung galib prod myk...  \n3      stn kal hai mera show insaan humanity always h...  \n4      stn kshmrmusic haath varthi haath varthi stan ...  \n...                                                  ...  \n38921  chainsmokers coldplay something emma heesters ...  \n38922  shameless weeknd cover weeknds next single spo...  \n38923  aib podcast million celebration podcast look j...  \n38924  thing planet bhago haiwaan aaya censorship ocu...  \n38925  exam everybody good luck exam mar ahihai carry...  \n\n[38900 rows x 3 columns]",
      "text/html": "<div>\n<style scoped>\n    .dataframe tbody tr th:only-of-type {\n        vertical-align: middle;\n    }\n\n    .dataframe tbody tr th {\n        vertical-align: top;\n    }\n\n    .dataframe thead th {\n        text-align: right;\n    }\n</style>\n<table border=\"1\" class=\"dataframe\">\n  <thead>\n    <tr style=\"text-align: right;\">\n      <th></th>\n      <th>Category</th>\n      <th>Category ID</th>\n      <th>Cleaned Title</th>\n    </tr>\n  </thead>\n  <tbody>\n    <tr>\n      <th>0</th>\n      <td>People &amp; Blogs</td>\n      <td>22</td>\n      <td>labrinth rip euphoria live performance labrint...</td>\n    </tr>\n    <tr>\n      <th>1</th>\n      <td>Music</td>\n      <td>10</td>\n      <td>emiway company album kots king street audio cr...</td>\n    </tr>\n    <tr>\n      <th>2</th>\n      <td>Music</td>\n      <td>10</td>\n      <td>emiway kya bolti public ftyoung galib prod myk...</td>\n    </tr>\n    <tr>\n      <th>3</th>\n      <td>Music</td>\n      <td>10</td>\n      <td>stn kal hai mera show insaan humanity always h...</td>\n    </tr>\n    <tr>\n      <th>4</th>\n      <td>Music</td>\n      <td>10</td>\n      <td>stn kshmrmusic haath varthi haath varthi stan ...</td>\n    </tr>\n    <tr>\n      <th>...</th>\n      <td>...</td>\n      <td>...</td>\n      <td>...</td>\n    </tr>\n    <tr>\n      <th>38921</th>\n      <td>Music</td>\n      <td>10</td>\n      <td>chainsmokers coldplay something emma heesters ...</td>\n    </tr>\n    <tr>\n      <th>38922</th>\n      <td>Music</td>\n      <td>10</td>\n      <td>shameless weeknd cover weeknds next single spo...</td>\n    </tr>\n    <tr>\n      <th>38923</th>\n      <td>Entertainment</td>\n      <td>24</td>\n      <td>aib podcast million celebration podcast look j...</td>\n    </tr>\n    <tr>\n      <th>38924</th>\n      <td>Comedy</td>\n      <td>23</td>\n      <td>thing planet bhago haiwaan aaya censorship ocu...</td>\n    </tr>\n    <tr>\n      <th>38925</th>\n      <td>Comedy</td>\n      <td>23</td>\n      <td>exam everybody good luck exam mar ahihai carry...</td>\n    </tr>\n  </tbody>\n</table>\n<p>38900 rows × 3 columns</p>\n</div>"
     },
     "execution_count": 19,
     "metadata": {},
     "output_type": "execute_result"
    }
   ],
   "source": [
    "df"
   ],
   "metadata": {
    "collapsed": false,
    "ExecuteTime": {
     "end_time": "2024-02-14T06:17:07.683263300Z",
     "start_time": "2024-02-14T06:17:07.652340500Z"
    }
   },
   "id": "59a73d241d8b84c5",
   "execution_count": 19
  },
  {
   "cell_type": "code",
   "outputs": [],
   "source": [
    "df['Serial Number'] = df.reset_index().index"
   ],
   "metadata": {
    "collapsed": false,
    "ExecuteTime": {
     "end_time": "2024-02-14T06:38:41.848145200Z",
     "start_time": "2024-02-14T06:38:41.826990400Z"
    }
   },
   "id": "c2d018f3c1bb5bc4",
   "execution_count": 30
  },
  {
   "cell_type": "code",
   "outputs": [
    {
     "data": {
      "text/plain": "             Category  Category ID  \\\n0      People & Blogs           22   \n1               Music           10   \n2               Music           10   \n3               Music           10   \n4               Music           10   \n...               ...          ...   \n38921           Music           10   \n38922           Music           10   \n38923   Entertainment           24   \n38924          Comedy           23   \n38925          Comedy           23   \n\n                                           Cleaned Title  Serial Number  \n0      labrinth rip euphoria live performance labrint...              0  \n1      emiway company album kots king street audio cr...              1  \n2      emiway kya bolti public ftyoung galib prod myk...              2  \n3      stn kal hai mera show insaan humanity always h...              3  \n4      stn kshmrmusic haath varthi haath varthi stan ...              4  \n...                                                  ...            ...  \n38921  chainsmokers coldplay something emma heesters ...          38895  \n38922  shameless weeknd cover weeknds next single spo...          38896  \n38923  aib podcast million celebration podcast look j...          38897  \n38924  thing planet bhago haiwaan aaya censorship ocu...          38898  \n38925  exam everybody good luck exam mar ahihai carry...          38899  \n\n[38900 rows x 4 columns]",
      "text/html": "<div>\n<style scoped>\n    .dataframe tbody tr th:only-of-type {\n        vertical-align: middle;\n    }\n\n    .dataframe tbody tr th {\n        vertical-align: top;\n    }\n\n    .dataframe thead th {\n        text-align: right;\n    }\n</style>\n<table border=\"1\" class=\"dataframe\">\n  <thead>\n    <tr style=\"text-align: right;\">\n      <th></th>\n      <th>Category</th>\n      <th>Category ID</th>\n      <th>Cleaned Title</th>\n      <th>Serial Number</th>\n    </tr>\n  </thead>\n  <tbody>\n    <tr>\n      <th>0</th>\n      <td>People &amp; Blogs</td>\n      <td>22</td>\n      <td>labrinth rip euphoria live performance labrint...</td>\n      <td>0</td>\n    </tr>\n    <tr>\n      <th>1</th>\n      <td>Music</td>\n      <td>10</td>\n      <td>emiway company album kots king street audio cr...</td>\n      <td>1</td>\n    </tr>\n    <tr>\n      <th>2</th>\n      <td>Music</td>\n      <td>10</td>\n      <td>emiway kya bolti public ftyoung galib prod myk...</td>\n      <td>2</td>\n    </tr>\n    <tr>\n      <th>3</th>\n      <td>Music</td>\n      <td>10</td>\n      <td>stn kal hai mera show insaan humanity always h...</td>\n      <td>3</td>\n    </tr>\n    <tr>\n      <th>4</th>\n      <td>Music</td>\n      <td>10</td>\n      <td>stn kshmrmusic haath varthi haath varthi stan ...</td>\n      <td>4</td>\n    </tr>\n    <tr>\n      <th>...</th>\n      <td>...</td>\n      <td>...</td>\n      <td>...</td>\n      <td>...</td>\n    </tr>\n    <tr>\n      <th>38921</th>\n      <td>Music</td>\n      <td>10</td>\n      <td>chainsmokers coldplay something emma heesters ...</td>\n      <td>38895</td>\n    </tr>\n    <tr>\n      <th>38922</th>\n      <td>Music</td>\n      <td>10</td>\n      <td>shameless weeknd cover weeknds next single spo...</td>\n      <td>38896</td>\n    </tr>\n    <tr>\n      <th>38923</th>\n      <td>Entertainment</td>\n      <td>24</td>\n      <td>aib podcast million celebration podcast look j...</td>\n      <td>38897</td>\n    </tr>\n    <tr>\n      <th>38924</th>\n      <td>Comedy</td>\n      <td>23</td>\n      <td>thing planet bhago haiwaan aaya censorship ocu...</td>\n      <td>38898</td>\n    </tr>\n    <tr>\n      <th>38925</th>\n      <td>Comedy</td>\n      <td>23</td>\n      <td>exam everybody good luck exam mar ahihai carry...</td>\n      <td>38899</td>\n    </tr>\n  </tbody>\n</table>\n<p>38900 rows × 4 columns</p>\n</div>"
     },
     "execution_count": 31,
     "metadata": {},
     "output_type": "execute_result"
    }
   ],
   "source": [
    "df"
   ],
   "metadata": {
    "collapsed": false,
    "ExecuteTime": {
     "end_time": "2024-02-14T06:38:42.823628800Z",
     "start_time": "2024-02-14T06:38:42.737532900Z"
    }
   },
   "id": "294150baf094275d",
   "execution_count": 31
  },
  {
   "cell_type": "code",
   "outputs": [],
   "source": [
    "model_filename = \"nb_classifier_new.joblib\"\n",
    "NB_model = load(model_filename)"
   ],
   "metadata": {
    "collapsed": false,
    "ExecuteTime": {
     "end_time": "2024-02-14T06:38:48.561975900Z",
     "start_time": "2024-02-14T06:38:48.381337300Z"
    }
   },
   "id": "3a27493c72006383",
   "execution_count": 32
  },
  {
   "cell_type": "code",
   "outputs": [
    {
     "name": "stdout",
     "output_type": "stream",
     "text": [
      "      Predicted Category                                      Cleaned Title\n",
      "0                  Music  labrinth rip euphoria live performance labrint...\n",
      "1                  Music  emiway company album kots king street audio cr...\n",
      "2                  Music  emiway kya bolti public ftyoung galib prod myk...\n",
      "3                  Music  stn kal hai mera show insaan humanity always h...\n",
      "4                  Music  stn kshmrmusic haath varthi haath varthi stan ...\n",
      "...                  ...                                                ...\n",
      "38895              Music  chainsmokers coldplay something emma heesters ...\n",
      "38896              Music  shameless weeknd cover weeknds next single spo...\n",
      "38897             Comedy  aib podcast million celebration podcast look j...\n",
      "38898             Comedy  thing planet bhago haiwaan aaya censorship ocu...\n",
      "38899             Comedy  exam everybody good luck exam mar ahihai carry...\n",
      "\n",
      "[38900 rows x 2 columns]\n"
     ]
    }
   ],
   "source": [
    "\"\"\" Testing Phase \"\"\"\n",
    "Titles = df['Cleaned Title'].tolist()\n",
    "\n",
    "vectorizer_filename = \"CountVectorizer_new.joblib\"\n",
    "vectorizer = load(vectorizer_filename)\n",
    "\n",
    "Titles_counts = vectorizer.transform(Titles)\n",
    "\n",
    "PredictDTC = NB_model.predict(Titles_counts)\n",
    "\n",
    "CategoryNamesListDTC = []\n",
    "for Category_ID in PredictDTC:\n",
    "    MatchingCategoriesDTC = [x for x in global_df_4 if x[\"id\"] == str(Category_ID)]\n",
    "    if MatchingCategoriesDTC:\n",
    "        CategoryNamesListDTC.append(MatchingCategoriesDTC[0][\"title\"])\n",
    "\n",
    "TitleDataFrameDTC = []\n",
    "for i in range(0, len(Titles)):\n",
    "    TitleToCategoriesDTC = {'Title': Titles[i], 'Category': CategoryNamesListDTC[i]}\n",
    "    TitleDataFrameDTC.append(TitleToCategoriesDTC)\n",
    "\n",
    "PredictDFdtc = pd.DataFrame(PredictDTC)\n",
    "TitleDFdtc = pd.DataFrame(TitleDataFrameDTC)\n",
    "PreFinalDFdtc = pd.concat([PredictDFdtc, TitleDFdtc], axis=1)\n",
    "PreFinalDFdtc.columns = (['Categ_ID', 'Cleaned Title', 'Predicted Category'])\n",
    "FinalDFdtc = PreFinalDFdtc.drop(['Categ_ID'], axis=1)\n",
    "colsDTC = FinalDFdtc.columns.tolist()\n",
    "colsDTC = colsDTC[-1:] + colsDTC[:-1]\n",
    "FinalDFdtc = FinalDFdtc[colsDTC]\n",
    "print(FinalDFdtc)"
   ],
   "metadata": {
    "collapsed": false,
    "ExecuteTime": {
     "end_time": "2024-02-14T06:38:56.432652100Z",
     "start_time": "2024-02-14T06:38:50.646554Z"
    }
   },
   "id": "1402b9843aae4616",
   "execution_count": 33
  },
  {
   "cell_type": "code",
   "outputs": [],
   "source": [
    "FinalDFdtc.to_csv('C:/Users/shrey/OneDrive/Desktop/Thesis/3B/NB_TESTF.csv', index=False)"
   ],
   "metadata": {
    "collapsed": false,
    "ExecuteTime": {
     "end_time": "2024-02-14T06:38:59.233905300Z",
     "start_time": "2024-02-14T06:38:58.575192700Z"
    }
   },
   "id": "168d3b33c8b37dd8",
   "execution_count": 34
  },
  {
   "cell_type": "code",
   "outputs": [],
   "source": [
    "FinalDFdtc['Serial Number'] = FinalDFdtc.reset_index().index"
   ],
   "metadata": {
    "collapsed": false,
    "ExecuteTime": {
     "end_time": "2024-02-14T06:39:19.463692700Z",
     "start_time": "2024-02-14T06:39:19.438268600Z"
    }
   },
   "id": "7c943dfe6a29a7cc",
   "execution_count": 35
  },
  {
   "cell_type": "code",
   "outputs": [
    {
     "data": {
      "text/plain": "      Predicted Category                                      Cleaned Title  \\\n0                  Music  labrinth rip euphoria live performance labrint...   \n1                  Music  emiway company album kots king street audio cr...   \n2                  Music  emiway kya bolti public ftyoung galib prod myk...   \n3                  Music  stn kal hai mera show insaan humanity always h...   \n4                  Music  stn kshmrmusic haath varthi haath varthi stan ...   \n...                  ...                                                ...   \n38895              Music  chainsmokers coldplay something emma heesters ...   \n38896              Music  shameless weeknd cover weeknds next single spo...   \n38897             Comedy  aib podcast million celebration podcast look j...   \n38898             Comedy  thing planet bhago haiwaan aaya censorship ocu...   \n38899             Comedy  exam everybody good luck exam mar ahihai carry...   \n\n       Serial Number  \n0                  0  \n1                  1  \n2                  2  \n3                  3  \n4                  4  \n...              ...  \n38895          38895  \n38896          38896  \n38897          38897  \n38898          38898  \n38899          38899  \n\n[38900 rows x 3 columns]",
      "text/html": "<div>\n<style scoped>\n    .dataframe tbody tr th:only-of-type {\n        vertical-align: middle;\n    }\n\n    .dataframe tbody tr th {\n        vertical-align: top;\n    }\n\n    .dataframe thead th {\n        text-align: right;\n    }\n</style>\n<table border=\"1\" class=\"dataframe\">\n  <thead>\n    <tr style=\"text-align: right;\">\n      <th></th>\n      <th>Predicted Category</th>\n      <th>Cleaned Title</th>\n      <th>Serial Number</th>\n    </tr>\n  </thead>\n  <tbody>\n    <tr>\n      <th>0</th>\n      <td>Music</td>\n      <td>labrinth rip euphoria live performance labrint...</td>\n      <td>0</td>\n    </tr>\n    <tr>\n      <th>1</th>\n      <td>Music</td>\n      <td>emiway company album kots king street audio cr...</td>\n      <td>1</td>\n    </tr>\n    <tr>\n      <th>2</th>\n      <td>Music</td>\n      <td>emiway kya bolti public ftyoung galib prod myk...</td>\n      <td>2</td>\n    </tr>\n    <tr>\n      <th>3</th>\n      <td>Music</td>\n      <td>stn kal hai mera show insaan humanity always h...</td>\n      <td>3</td>\n    </tr>\n    <tr>\n      <th>4</th>\n      <td>Music</td>\n      <td>stn kshmrmusic haath varthi haath varthi stan ...</td>\n      <td>4</td>\n    </tr>\n    <tr>\n      <th>...</th>\n      <td>...</td>\n      <td>...</td>\n      <td>...</td>\n    </tr>\n    <tr>\n      <th>38895</th>\n      <td>Music</td>\n      <td>chainsmokers coldplay something emma heesters ...</td>\n      <td>38895</td>\n    </tr>\n    <tr>\n      <th>38896</th>\n      <td>Music</td>\n      <td>shameless weeknd cover weeknds next single spo...</td>\n      <td>38896</td>\n    </tr>\n    <tr>\n      <th>38897</th>\n      <td>Comedy</td>\n      <td>aib podcast million celebration podcast look j...</td>\n      <td>38897</td>\n    </tr>\n    <tr>\n      <th>38898</th>\n      <td>Comedy</td>\n      <td>thing planet bhago haiwaan aaya censorship ocu...</td>\n      <td>38898</td>\n    </tr>\n    <tr>\n      <th>38899</th>\n      <td>Comedy</td>\n      <td>exam everybody good luck exam mar ahihai carry...</td>\n      <td>38899</td>\n    </tr>\n  </tbody>\n</table>\n<p>38900 rows × 3 columns</p>\n</div>"
     },
     "execution_count": 36,
     "metadata": {},
     "output_type": "execute_result"
    }
   ],
   "source": [
    "FinalDFdtc"
   ],
   "metadata": {
    "collapsed": false,
    "ExecuteTime": {
     "end_time": "2024-02-14T06:39:20.611946300Z",
     "start_time": "2024-02-14T06:39:20.516531Z"
    }
   },
   "id": "b157ae8486b207c",
   "execution_count": 36
  },
  {
   "cell_type": "code",
   "outputs": [],
   "source": [
    "final_dataframe = pd.merge(df, FinalDFdtc, on='Serial Number')"
   ],
   "metadata": {
    "collapsed": false,
    "ExecuteTime": {
     "end_time": "2024-02-14T06:40:33.859606100Z",
     "start_time": "2024-02-14T06:40:33.823423200Z"
    }
   },
   "id": "fa485b29dbb9b887",
   "execution_count": 37
  },
  {
   "cell_type": "code",
   "outputs": [
    {
     "data": {
      "text/plain": "             Category  Category ID  \\\n0      People & Blogs           22   \n1               Music           10   \n2               Music           10   \n3               Music           10   \n4               Music           10   \n...               ...          ...   \n38895           Music           10   \n38896           Music           10   \n38897   Entertainment           24   \n38898          Comedy           23   \n38899          Comedy           23   \n\n                                         Cleaned Title_x  Serial Number  \\\n0      labrinth rip euphoria live performance labrint...              0   \n1      emiway company album kots king street audio cr...              1   \n2      emiway kya bolti public ftyoung galib prod myk...              2   \n3      stn kal hai mera show insaan humanity always h...              3   \n4      stn kshmrmusic haath varthi haath varthi stan ...              4   \n...                                                  ...            ...   \n38895  chainsmokers coldplay something emma heesters ...          38895   \n38896  shameless weeknd cover weeknds next single spo...          38896   \n38897  aib podcast million celebration podcast look j...          38897   \n38898  thing planet bhago haiwaan aaya censorship ocu...          38898   \n38899  exam everybody good luck exam mar ahihai carry...          38899   \n\n      Predicted Category                                    Cleaned Title_y  \n0                  Music  labrinth rip euphoria live performance labrint...  \n1                  Music  emiway company album kots king street audio cr...  \n2                  Music  emiway kya bolti public ftyoung galib prod myk...  \n3                  Music  stn kal hai mera show insaan humanity always h...  \n4                  Music  stn kshmrmusic haath varthi haath varthi stan ...  \n...                  ...                                                ...  \n38895              Music  chainsmokers coldplay something emma heesters ...  \n38896              Music  shameless weeknd cover weeknds next single spo...  \n38897             Comedy  aib podcast million celebration podcast look j...  \n38898             Comedy  thing planet bhago haiwaan aaya censorship ocu...  \n38899             Comedy  exam everybody good luck exam mar ahihai carry...  \n\n[38900 rows x 6 columns]",
      "text/html": "<div>\n<style scoped>\n    .dataframe tbody tr th:only-of-type {\n        vertical-align: middle;\n    }\n\n    .dataframe tbody tr th {\n        vertical-align: top;\n    }\n\n    .dataframe thead th {\n        text-align: right;\n    }\n</style>\n<table border=\"1\" class=\"dataframe\">\n  <thead>\n    <tr style=\"text-align: right;\">\n      <th></th>\n      <th>Category</th>\n      <th>Category ID</th>\n      <th>Cleaned Title_x</th>\n      <th>Serial Number</th>\n      <th>Predicted Category</th>\n      <th>Cleaned Title_y</th>\n    </tr>\n  </thead>\n  <tbody>\n    <tr>\n      <th>0</th>\n      <td>People &amp; Blogs</td>\n      <td>22</td>\n      <td>labrinth rip euphoria live performance labrint...</td>\n      <td>0</td>\n      <td>Music</td>\n      <td>labrinth rip euphoria live performance labrint...</td>\n    </tr>\n    <tr>\n      <th>1</th>\n      <td>Music</td>\n      <td>10</td>\n      <td>emiway company album kots king street audio cr...</td>\n      <td>1</td>\n      <td>Music</td>\n      <td>emiway company album kots king street audio cr...</td>\n    </tr>\n    <tr>\n      <th>2</th>\n      <td>Music</td>\n      <td>10</td>\n      <td>emiway kya bolti public ftyoung galib prod myk...</td>\n      <td>2</td>\n      <td>Music</td>\n      <td>emiway kya bolti public ftyoung galib prod myk...</td>\n    </tr>\n    <tr>\n      <th>3</th>\n      <td>Music</td>\n      <td>10</td>\n      <td>stn kal hai mera show insaan humanity always h...</td>\n      <td>3</td>\n      <td>Music</td>\n      <td>stn kal hai mera show insaan humanity always h...</td>\n    </tr>\n    <tr>\n      <th>4</th>\n      <td>Music</td>\n      <td>10</td>\n      <td>stn kshmrmusic haath varthi haath varthi stan ...</td>\n      <td>4</td>\n      <td>Music</td>\n      <td>stn kshmrmusic haath varthi haath varthi stan ...</td>\n    </tr>\n    <tr>\n      <th>...</th>\n      <td>...</td>\n      <td>...</td>\n      <td>...</td>\n      <td>...</td>\n      <td>...</td>\n      <td>...</td>\n    </tr>\n    <tr>\n      <th>38895</th>\n      <td>Music</td>\n      <td>10</td>\n      <td>chainsmokers coldplay something emma heesters ...</td>\n      <td>38895</td>\n      <td>Music</td>\n      <td>chainsmokers coldplay something emma heesters ...</td>\n    </tr>\n    <tr>\n      <th>38896</th>\n      <td>Music</td>\n      <td>10</td>\n      <td>shameless weeknd cover weeknds next single spo...</td>\n      <td>38896</td>\n      <td>Music</td>\n      <td>shameless weeknd cover weeknds next single spo...</td>\n    </tr>\n    <tr>\n      <th>38897</th>\n      <td>Entertainment</td>\n      <td>24</td>\n      <td>aib podcast million celebration podcast look j...</td>\n      <td>38897</td>\n      <td>Comedy</td>\n      <td>aib podcast million celebration podcast look j...</td>\n    </tr>\n    <tr>\n      <th>38898</th>\n      <td>Comedy</td>\n      <td>23</td>\n      <td>thing planet bhago haiwaan aaya censorship ocu...</td>\n      <td>38898</td>\n      <td>Comedy</td>\n      <td>thing planet bhago haiwaan aaya censorship ocu...</td>\n    </tr>\n    <tr>\n      <th>38899</th>\n      <td>Comedy</td>\n      <td>23</td>\n      <td>exam everybody good luck exam mar ahihai carry...</td>\n      <td>38899</td>\n      <td>Comedy</td>\n      <td>exam everybody good luck exam mar ahihai carry...</td>\n    </tr>\n  </tbody>\n</table>\n<p>38900 rows × 6 columns</p>\n</div>"
     },
     "execution_count": 38,
     "metadata": {},
     "output_type": "execute_result"
    }
   ],
   "source": [
    "final_dataframe"
   ],
   "metadata": {
    "collapsed": false,
    "ExecuteTime": {
     "end_time": "2024-02-14T06:40:35.014128600Z",
     "start_time": "2024-02-14T06:40:34.984614300Z"
    }
   },
   "id": "4b652a94024135cb",
   "execution_count": 38
  },
  {
   "cell_type": "code",
   "outputs": [],
   "source": [
    "final_dataframe.to_csv('C:/Users/shrey/OneDrive/Desktop/Thesis/3B/NB_TESTFINAL.csv', index=False)"
   ],
   "metadata": {
    "collapsed": false,
    "ExecuteTime": {
     "end_time": "2024-02-14T06:40:52.597458900Z",
     "start_time": "2024-02-14T06:40:51.376754900Z"
    }
   },
   "id": "c156b766982e314e",
   "execution_count": 39
  },
  {
   "cell_type": "code",
   "outputs": [],
   "source": [],
   "metadata": {
    "collapsed": false
   },
   "id": "bb18a1358f3a81ba"
  }
 ],
 "metadata": {
  "kernelspec": {
   "display_name": "Python 3",
   "language": "python",
   "name": "python3"
  },
  "language_info": {
   "codemirror_mode": {
    "name": "ipython",
    "version": 2
   },
   "file_extension": ".py",
   "mimetype": "text/x-python",
   "name": "python",
   "nbconvert_exporter": "python",
   "pygments_lexer": "ipython2",
   "version": "2.7.6"
  }
 },
 "nbformat": 4,
 "nbformat_minor": 5
}
